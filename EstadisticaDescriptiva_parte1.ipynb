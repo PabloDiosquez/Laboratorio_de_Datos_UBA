{
  "nbformat": 4,
  "nbformat_minor": 0,
  "metadata": {
    "colab": {
      "provenance": [],
      "include_colab_link": true
    },
    "kernelspec": {
      "name": "python3",
      "display_name": "Python 3"
    }
  },
  "cells": [
    {
      "cell_type": "markdown",
      "metadata": {
        "id": "view-in-github",
        "colab_type": "text"
      },
      "source": [
        "<a href=\"https://colab.research.google.com/github/PabloDiosquez/Laboratorio_de_Datos_UBA/blob/main/EstadisticaDescriptiva_parte1.ipynb\" target=\"_parent\"><img src=\"https://colab.research.google.com/assets/colab-badge.svg\" alt=\"Open In Colab\"/></a>"
      ]
    },
    {
      "cell_type": "markdown",
      "metadata": {
        "id": "1Lm41OahRVn0"
      },
      "source": [
        "# Estadística descriptiva, visualizaciones y experimentos numéricos\n",
        "\n",
        "En esta notebook vamos a aprender a trabajar con distribuciones de datos, computar distintos estadísticos tales como la media y la desviación, entre otros, como así también visualizar la distribución a partir de histogramas. Vamos a explorar estos puntos a partir de generar números aleatorios en python con distintas distribuciones.\n",
        "\n",
        "Por otro lado, generar números aleatorios nos permite jugar un poco y hacer experimentos numéricos que nos permiten entender un poco más resultados teóricos como el teorema central de límite o la ley de grandes números, comparar la performance de distintos coeficientes de correlación y ver la robustez de los observables que cuantificamos ante la presencia de outliers (ver parte 2)."
      ]
    },
    {
      "cell_type": "code",
      "metadata": {
        "id": "TyqRO3IebhgL"
      },
      "source": [
        "# Importamos las librerías más usadas, en el camino vemos si necesitamos algo más\n",
        "import numpy as np \n",
        "import matplotlib.pyplot as plt \n",
        "from scipy import stats"
      ],
      "execution_count": null,
      "outputs": []
    },
    {
      "cell_type": "markdown",
      "metadata": {
        "id": "kjNzQTflgS4Y"
      },
      "source": [
        "#### Breve, brevísimo comentario sobre generar números aleatorios\n",
        "\n",
        "Antes de ver distribuciones, veamos algo muy sencillo potencialmente útil: generar un único número aleatorio. Decirlo así es una tanto vago, siempre hay que específicar de qué distribución viene dicho número.\n",
        "A lo largo de esta notebook vamos a ver ejemplos realizados tanto con *numpy* como en *scipy.stats*.\n",
        "\n",
        "Por ejemplo, muchas veces podríamos querer un número uniformemente distribuido entre 0 y 1 (mediante una transformación lineal podemos generarlo en otro intervalo):\n",
        "\n",
        "\n"
      ]
    },
    {
      "cell_type": "code",
      "metadata": {
        "colab": {
          "base_uri": "https://localhost:8080/"
        },
        "id": "h18nyeZvhP1q",
        "outputId": "0d37ac62-bc6c-416a-f4b8-62c5cf32cde1"
      },
      "source": [
        "rand = np.random.random()\n",
        "print(rand)"
      ],
      "execution_count": null,
      "outputs": [
        {
          "output_type": "stream",
          "name": "stdout",
          "text": [
            "0.3532224522277748\n"
          ]
        }
      ]
    },
    {
      "cell_type": "markdown",
      "metadata": {
        "id": "ubpW46tahHBc"
      },
      "source": [
        "Otra cosa muy común es generar números con una distribución normal de media $\\mu$ y desviación $\\sigma$:"
      ]
    },
    {
      "cell_type": "code",
      "metadata": {
        "colab": {
          "base_uri": "https://localhost:8080/"
        },
        "id": "w38y0WTof8DN",
        "outputId": "233cfd64-ead6-48a8-808f-b7878663a984"
      },
      "source": [
        "mu = 0.00\n",
        "sigma = 1.00\n",
        "\n",
        "randn = np.random.normal(loc = mu, scale = sigma)\n",
        "print(randn)"
      ],
      "execution_count": null,
      "outputs": [
        {
          "output_type": "stream",
          "name": "stdout",
          "text": [
            "0.5343418390989064\n"
          ]
        }
      ]
    },
    {
      "cell_type": "markdown",
      "metadata": {
        "id": "uTLGGLcuhWft"
      },
      "source": [
        "##### Semilla\n",
        "\n",
        "Los números aleatorios generados por una computadora no son en realidad tan aleatorios, sino que vienen de un algoritmo que vilmente nos hace creer que sí. Sea como sea, éste recibe una condición inicial llamada semilla y a partir de ella genera el resto de los números. Si fijamos la semilla antes de cada experimento numérico podemos reproducir exactamente la misma salida de números aleatorios. Para fijar en numpy se hace con:\n",
        "~~~\n",
        "np.random.seed(semilla)\n",
        "~~~\n",
        "donde semilla es un número cualquiera."
      ]
    },
    {
      "cell_type": "code",
      "metadata": {
        "colab": {
          "base_uri": "https://localhost:8080/"
        },
        "id": "RT0AVuJhiUpw",
        "outputId": "2562fff1-23c9-46f9-daa9-c1562ed9e4c6"
      },
      "source": [
        "# Ver que si la línea de la semilla está descomentada el resultado es siempre el mismo.\n",
        "# Al revés, si no fijamos la semilla, cada vez que comencemos esta notebook los resultados serán distintos.\n",
        "\n",
        "np.random.seed(123457)\n",
        "print(np.random.random())\n",
        "print(np.random.normal())"
      ],
      "execution_count": null,
      "outputs": [
        {
          "output_type": "stream",
          "name": "stdout",
          "text": [
            "0.4347450610414807\n",
            "-0.003031385471098537\n"
          ]
        }
      ]
    },
    {
      "cell_type": "markdown",
      "metadata": {
        "id": "30C-ZBQ2Vq6z"
      },
      "source": [
        "Conclusión, fijando la semilla todos los resultados que vienen a continuación se reproducen en forma exacta. Fijar la semilla en numpy también lo hace para las rutinas de scipy."
      ]
    },
    {
      "cell_type": "markdown",
      "metadata": {
        "id": "pTRBrBO4kpvV"
      },
      "source": [
        "#### Librería [scipy.stats](https://docs.scipy.org/doc/scipy/reference/stats.html).\n",
        "\n",
        "Dentro de scipy tenemos el modulo *stats* que tiene muchas funciones para trabajar con distintas distribuciones, generar números aleatorios de estas y cuantificar diferentes observables. Lo bueno es que una vez que aprendemos a llamar a los distintos métodos de una distribución, la extensión a otras es inmediata."
      ]
    },
    {
      "cell_type": "markdown",
      "metadata": {
        "id": "ttuijuij6eOl"
      },
      "source": [
        "##### Distribuciones de variable aleatoria continua"
      ]
    },
    {
      "cell_type": "code",
      "metadata": {
        "colab": {
          "base_uri": "https://localhost:8080/"
        },
        "id": "BuBORwvklRZ9",
        "outputId": "adacd2d5-8a91-4874-d391-f23227f2588d"
      },
      "source": [
        "# Cambiar la distribucion aquí y la sintaxis de lo que sigue es la misma\n",
        "\n",
        "distribucion = stats.norm(loc = 0.00, scale = 1.00) #  Distribución normal\n",
        "# distribucion = stats.expon(scale = 2.00) #  Distribución exponencial\n",
        "# distribucion = stats.uniform(scale = 3.00) #  Distribución uniforme\n",
        "\n",
        "# Generar 10 numeros aleatorios con la distribucion dada (.rvs random variates)\n",
        "muestra = distribucion.rvs(size = 10)\n",
        "print('Muestra: {}'.format(muestra))"
      ],
      "execution_count": null,
      "outputs": [
        {
          "output_type": "stream",
          "name": "stdout",
          "text": [
            "Muestra: [-0.33496225 -0.8534663   0.51405265 -0.77269685 -2.105874    0.54902703\n",
            " -1.69221803  0.11964082  0.32059094  1.17849406]\n"
          ]
        }
      ]
    },
    {
      "cell_type": "code",
      "metadata": {
        "colab": {
          "base_uri": "https://localhost:8080/",
          "height": 242
        },
        "id": "F5wDPwLop3L5",
        "outputId": "35cb7685-13bf-4517-e54f-99f7675e7eb4"
      },
      "source": [
        "\"\"\"\n",
        "Gráficos de la función densidad y acumulada de probabilidad\n",
        "\"\"\"\n",
        "fig, ax = plt.subplots(nrows = 1, ncols = 2, figsize = (15,3))\n",
        "\n",
        "# Rango de la variable aleatoria, tomamos un cuantil del 99% \n",
        "cuantil_99 = distribucion.interval(0.99)\n",
        "print('Cuantil 99%: [{}, {}]'.format(*cuantil_99))\n",
        "\n",
        "# Rango de la variable x \n",
        "x = np.linspace(cuantil_99[0], cuantil_99[1], 100)\n",
        "\n",
        "# .pdf probability density function\n",
        "densidad_proba = distribucion.pdf(x)\n",
        "ax[0].plot(x, densidad_proba)\n",
        "ax[0].set_xlabel('x')\n",
        "ax[0].set_ylabel('Densidad de probabilidad')\n",
        "ax[0].set_ylim(bottom = 0)\n",
        "\n",
        "# .cdf cumulative density function\n",
        "proba_acumulada = distribucion.cdf(x)\n",
        "ax[1].plot(x, proba_acumulada)\n",
        "ax[1].set_xlabel('x')\n",
        "ax[1].set_ylabel('Probabilidad acumulada')\n",
        "ax[1].set_ylim([0, 1.05])\n",
        "\n",
        "plt.show()"
      ],
      "execution_count": null,
      "outputs": [
        {
          "output_type": "stream",
          "name": "stdout",
          "text": [
            "Cuantil 99%: [-2.5758293035489004, 2.5758293035489004]\n"
          ]
        },
        {
          "output_type": "display_data",
          "data": {
            "text/plain": [
              "<Figure size 1080x216 with 2 Axes>"
            ],
            "image/png": "[encoded data removed]"
          },
          "metadata": {
            "needs_background": "light"
          }
        }
      ]
    },
    {
      "cell_type": "markdown",
      "metadata": {
        "id": "-HZnOMXV-VRq"
      },
      "source": [
        "**Observación**: el método .interval(alpha) permite tomar un intervalo que contenga un %alpha de la masa de probabilidad. Si lo piensan, al menos para una variable continua, hay infinitos intervalos de este tipo. Scipy no lo aclara, pero lo más probable es que esté tomando el intervalo más angosto, es decir, el que se queda con un %alpha de la masa de probabilidad, pero que a la vez es el más denso.\n",
        "Para captar un cuantil específico, usar el método distribucion.ppf(q), donde q puede ser por ejemplo [0.05, 0.95] para captar el cuantil 90% central."
      ]
    },
    {
      "cell_type": "markdown",
      "metadata": {
        "id": "S5G_Yx7P6nQv"
      },
      "source": [
        "##### Distribuciones de variable aleatoria discreta"
      ]
    },
    {
      "cell_type": "code",
      "metadata": {
        "colab": {
          "base_uri": "https://localhost:8080/",
          "height": 259
        },
        "id": "8HfzT5ctoBmw",
        "outputId": "8b744cdc-0a44-48fd-c479-88bd1abd462b"
      },
      "source": [
        "# Cambiar la distribucion aquí y la sintaxis de lo que sigue es la misma\n",
        "\n",
        "#distribucion = stats.binom(n = 10, p = 0.25) # Distribucion binomial\n",
        "distribucion = stats.poisson(mu = 2.00) # Distribucion de Poisson\n",
        "\n",
        "# Muestra de 10 numeros aleatorios (.rvs random variates)\n",
        "muestra = distribucion.rvs(size = 10)\n",
        "print('Muestra: {}'.format(muestra))\n",
        "\n",
        "fig, ax = plt.subplots(nrows = 1, ncols = 2, figsize = (15,3))\n",
        "\n",
        "# Rango de la variable x\n",
        "cuantil_99 = distribucion.interval(0.99)\n",
        "print('Cuantil 99%: [{}, {}]'.format(*cuantil_99))\n",
        "\n",
        "x = range(int(cuantil_99[0]), int(cuantil_99[1]))\n",
        "\n",
        "# .pmf probability mass function\n",
        "masa_proba = distribucion.pmf(x)\n",
        "ax[0].plot(x, masa_proba, '.-', markersize = 20)\n",
        "ax[0].set_xlabel('x')\n",
        "ax[0].set_ylabel('Probabilidad')\n",
        "ax[0].set_ylim(bottom = 0.00)\n",
        "\n",
        "# .cdf cumulative density function\n",
        "proba_acumulada = distribucion.cdf(x)\n",
        "ax[1].plot(x, proba_acumulada, '.-', markersize = 20)\n",
        "ax[1].set_xlabel('x')\n",
        "ax[1].set_ylabel('Probabilidad acumulada')\n",
        "ax[1].set_ylim([0, 1.05])\n",
        "\n",
        "plt.show()"
      ],
      "execution_count": null,
      "outputs": [
        {
          "output_type": "stream",
          "name": "stdout",
          "text": [
            "Muestra: [1 2 1 1 3 2 1 1 3 0]\n",
            "Cuantil 99%: [0.0, 6.0]\n"
          ]
        },
        {
          "output_type": "display_data",
          "data": {
            "text/plain": [
              "<Figure size 1080x216 with 2 Axes>"
            ],
            "image/png": "[encoded data removed]"
          },
          "metadata": {
            "needs_background": "light"
          }
        }
      ]
    },
    {
      "cell_type": "markdown",
      "metadata": {
        "id": "e5kvSe8pf1HJ"
      },
      "source": [
        "## Generación de números aleatorios e histogramas \n",
        "\n",
        "Acá comienza oficialmente la práctica de estadística descriptiva.\n",
        "Lo que vamos a hacer a continuación es simular una situación con la que nos vamos a encontrar día a día: tenemos un conjunto de datos y queremos representar gráficamente cómo se distribuyen y reportar ciertas medidas que nos den información y caractericen dicha distribución.\n",
        "\n",
        "Por el momento vamos a trabajar con un conjunto de datos ficticios, tomados de un generador de números aleatorios de una distribución conocida."
      ]
    },
    {
      "cell_type": "code",
      "metadata": {
        "id": "5rccnUzWChIS",
        "colab": {
          "base_uri": "https://localhost:8080/"
        },
        "outputId": "cd387791-3074-49c3-d5bd-a09929f91b72"
      },
      "source": [
        "# Generemos 1000 datos dados por una distribucion normal\n",
        "# Por los valores elegidos podría representar la altura de un conjunto de personas adultas.\n",
        "\n",
        "N = 1000\n",
        "muestra = stats.norm.rvs(loc = 1.75, scale = 0.15, size = N)\n",
        "print(muestra)"
      ],
      "execution_count": null,
      "outputs": [
        {
          "output_type": "stream",
          "name": "stdout",
          "text": [
            "[1.71421443 1.90203931 1.66822853 1.50221392 1.9845445  1.81483355\n",
            " 1.73977975 1.74403353 1.81316724 1.43751162 2.16668511 1.74096896\n",
            " 1.71576747 1.90469555 1.45132579 1.85659769 1.53324445 1.61597207\n",
            " 1.80688297 1.6853917  1.49371032 1.83323854 1.58557205 1.78745203\n",
            " 1.50983423 1.75958766 1.72412409 1.77148947 1.83381425 1.84815742\n",
            " 1.56181614 1.59142418 1.85541536 1.57338018 1.83415018 1.6887917\n",
            " 1.6338888  1.83436274 1.67747986 1.66972057 1.66866021 1.86874551\n",
            " 1.71252562 1.57620786 1.97618612 1.72540174 1.55258952 1.8791503\n",
            " 1.62893149 1.76661881 1.84351863 1.94799727 1.78372644 1.93666541\n",
            " 1.86520819 1.66866178 1.71198969 1.97091873 1.94805772 1.92994602\n",
            " 1.76717763 1.41708918 1.63023436 1.69754853 1.61610798 1.76652535\n",
            " 1.83934968 1.85724983 1.95280196 2.12958893 1.73552235 1.83062236\n",
            " 1.59609585 1.58362839 1.92138163 1.70733427 1.81196809 1.86132258\n",
            " 1.75596874 1.52510375 1.77247779 1.67309802 2.02959358 1.95417546\n",
            " 1.7072782  1.64378316 1.92901362 1.84728645 1.79266693 1.76906074\n",
            " 1.54848575 1.64240157 1.76122303 1.83264822 1.89345512 2.07679872\n",
            " 1.75925077 1.81626112 1.97229273 1.7376119  1.54520809 1.85943986\n",
            " 1.92407736 1.77006292 1.89745425 1.90759013 1.84542953 1.86025924\n",
            " 1.89625296 1.92789428 1.6242925  1.59146374 1.73133413 1.55371848\n",
            " 1.75062412 1.83635908 1.71203059 1.40876528 1.87072877 1.81051854\n",
            " 1.97041835 1.74876123 1.7560149  1.57757077 1.46501124 1.81881108\n",
            " 1.84031181 1.71342469 1.82586977 1.7532549  1.7540144  1.68721956\n",
            " 1.97393136 1.59115683 1.68909718 1.61072184 1.93550474 1.57931968\n",
            " 1.63291382 1.60257695 1.90135026 1.73913319 1.82254998 1.87868381\n",
            " 1.82083481 1.99821482 1.55983895 1.82297023 1.60276375 1.84789244\n",
            " 1.6242322  1.79245238 1.52942537 1.70633932 1.67119686 1.67553946\n",
            " 1.69034121 1.88160313 1.68522903 1.50313077 1.83341242 1.93484697\n",
            " 1.82940454 1.73159492 1.37699184 1.49728591 1.68703423 1.61924968\n",
            " 1.81555755 1.5871304  1.83679236 1.79369703 2.15867098 1.79554492\n",
            " 1.80840741 1.79503916 1.84833063 1.83019767 1.28344972 1.66151614\n",
            " 1.70337878 1.90143926 1.94319999 1.78862826 1.58607349 1.5811029\n",
            " 1.93427959 1.78248875 1.84664787 1.53451619 1.8515662  1.71840609\n",
            " 1.8015073  1.67156677 1.61826056 1.64707692 1.76544531 1.88240266\n",
            " 1.63569064 1.7301204  1.88466885 1.75598442 1.98076727 1.71268964\n",
            " 1.795715   1.78256729 1.81637167 1.84120559 1.7301685  1.8895092\n",
            " 1.69829591 1.84746768 1.83362726 1.96763386 1.83182707 2.00746445\n",
            " 1.74713148 1.89255567 1.84576683 1.89155915 1.67055748 1.78732216\n",
            " 1.84832156 1.61860646 1.90953319 1.73453899 1.76344777 1.59365949\n",
            " 1.68822333 1.92838917 1.56110375 1.8803454  1.60562483 1.70322646\n",
            " 1.69524499 1.7871075  1.99873497 1.63364936 1.81877938 1.86042868\n",
            " 1.78373032 1.84270422 1.72556209 1.64751886 2.20185435 1.5575794\n",
            " 1.93322606 1.64748242 1.69529548 1.74822728 1.94360357 1.79328689\n",
            " 1.71511241 1.84026191 1.93958229 2.04860246 1.56857139 1.82036968\n",
            " 1.66581258 1.66632363 1.69802759 1.85778166 1.86358443 1.89439198\n",
            " 1.55589873 1.72400179 1.82040228 1.78157145 1.50446634 1.62170288\n",
            " 1.66240956 1.37923664 2.03849183 1.88333889 1.65322924 1.51393177\n",
            " 1.58971217 1.66952797 1.85180493 1.76470857 1.94967348 1.88498768\n",
            " 1.93126367 1.58628809 1.69165969 1.50225806 1.70363533 1.67218716\n",
            " 1.58042826 1.71662122 1.73202556 1.70108114 2.10891544 1.7087927\n",
            " 1.69844232 1.7342714  1.81685962 1.88051119 1.63088563 1.80973842\n",
            " 1.62568916 1.84845712 1.6775918  1.74775781 1.92681662 1.83390026\n",
            " 1.64734139 1.94649595 1.85099838 1.73528166 1.97747453 1.80573774\n",
            " 1.61869327 1.61467392 1.7310104  1.71098141 1.87782682 1.73678845\n",
            " 1.61972512 2.14311061 1.78618325 1.86451331 1.91076843 1.61398477\n",
            " 1.73349966 1.70929458 1.56356079 1.91685458 1.85444988 1.91638469\n",
            " 1.67074868 1.84776862 1.64245254 2.13482081 1.83650952 1.59057289\n",
            " 1.78267694 1.67226749 1.69585126 1.62855272 1.67704393 2.06880998\n",
            " 1.63392053 1.81546639 1.56459315 1.76094211 1.76490418 1.45766596\n",
            " 1.7833915  1.75825899 1.68911875 1.7009687  1.82196616 1.89055239\n",
            " 1.64215486 1.76283878 1.66652614 1.80765003 1.84489705 1.58740201\n",
            " 1.66578339 1.89107235 1.73964087 1.5545569  1.86263157 1.59257907\n",
            " 1.64909938 1.87302205 1.53636296 1.87629243 1.52627533 1.73798779\n",
            " 1.74746149 1.77835635 1.86117165 1.76509578 1.9065238  2.0047521\n",
            " 1.85703569 1.59229212 2.06248532 1.62514201 1.56185028 1.95921745\n",
            " 1.51987529 1.82300201 1.67970163 1.6592562  1.90404987 1.76001943\n",
            " 1.77057363 1.91784777 1.61161263 1.83878448 1.7714305  1.71059547\n",
            " 1.8497143  1.71660449 1.72048948 1.91273962 1.73514903 1.67465313\n",
            " 1.88697218 1.89343184 1.89281525 1.81824486 1.85239791 1.87925594\n",
            " 1.58823163 1.85036632 1.73742456 1.74063966 1.98605206 1.90018178\n",
            " 1.79756175 1.71784529 1.69449222 1.57926845 1.63344577 1.77644501\n",
            " 1.7641494  1.68090311 1.76670625 1.5682652  1.8873307  1.75908752\n",
            " 1.84818053 2.10114741 1.83273421 2.00753632 1.45109066 1.8019539\n",
            " 1.76609541 1.72003661 1.47875641 1.70607659 2.29501086 1.98711673\n",
            " 1.85187321 1.7659692  1.72555196 1.77215269 1.32536269 1.96624606\n",
            " 1.87619483 1.95271049 1.55805574 2.27069572 1.8149778  1.77145119\n",
            " 1.68327366 1.69291098 1.69077828 2.00592644 1.96000497 1.85844661\n",
            " 1.80150762 1.70113079 1.8072542  1.96505131 1.96815592 1.74350475\n",
            " 1.74168054 1.85070477 1.57514864 1.93905351 1.53886279 1.90258881\n",
            " 1.74270833 1.82049767 1.95118211 1.72976391 1.86624421 1.63490421\n",
            " 1.64135031 1.88791514 1.98635878 1.65632616 1.84045973 1.70725195\n",
            " 1.86814866 1.77785341 1.63937637 1.87158622 1.68259999 1.86308567\n",
            " 1.90098813 1.71749875 1.70065522 1.96342739 1.57338629 1.482152\n",
            " 1.80418527 1.50420358 1.64777715 1.93641049 1.9933831  1.64146713\n",
            " 1.62477103 1.7589391  1.79726231 1.5166449  1.74917455 1.92344924\n",
            " 1.80099653 1.797792   1.86793919 1.70241866 1.82887021 1.69822055\n",
            " 1.68991268 1.53072836 1.69580401 1.89516534 1.60038768 1.74636482\n",
            " 1.61492772 2.00029037 1.75537561 1.81492314 1.76425124 1.55162268\n",
            " 2.16761102 2.04660104 1.70374492 1.81191072 1.6827174  1.78117466\n",
            " 1.79379656 1.73906521 1.67401926 1.77891277 1.77421462 1.85649544\n",
            " 1.66716003 1.9155955  1.61335252 1.84189621 1.87728681 1.57027629\n",
            " 1.68447489 1.43040302 1.76092165 1.93072682 1.78150891 1.45960712\n",
            " 1.77362041 1.7894155  1.72003802 2.00692457 1.81258335 2.14857762\n",
            " 1.92427627 1.76608207 1.68323506 1.62494188 1.49912311 1.9535372\n",
            " 1.5111718  1.63646258 1.8676568  1.64406712 1.76393341 1.85863428\n",
            " 1.67837713 1.64807468 1.84877728 1.86193662 1.63038593 1.97462841\n",
            " 1.87231419 1.51632648 2.28421918 1.7509509  1.46438478 1.79778761\n",
            " 2.03347166 1.71444805 1.61904041 1.73941628 1.64200239 1.97298845\n",
            " 1.75725578 1.72550423 1.62635561 1.89322926 1.77721402 1.87508503\n",
            " 1.64838904 1.94006847 1.92548239 1.64809291 1.68673408 1.91069929\n",
            " 1.85356473 1.79265196 1.93238709 1.57073904 1.79133719 1.44745642\n",
            " 1.5754277  2.04050254 1.99877708 1.7188602  1.65649892 1.67662978\n",
            " 1.77637622 1.88236083 2.00380386 1.6530015  1.50011992 1.39610656\n",
            " 1.84041756 1.54437877 1.6324934  1.68912987 1.54551801 2.0224335\n",
            " 1.7217796  1.78249239 1.54946684 1.87564882 1.52762284 1.65731382\n",
            " 1.71207687 1.61599287 1.58172853 1.86281912 1.88522592 1.55875037\n",
            " 1.97908165 1.95875206 1.70837932 1.73975353 1.47160607 1.6364545\n",
            " 1.72927553 1.80254329 1.9886643  1.89497726 1.73796521 1.66554698\n",
            " 1.97206791 1.78210728 1.37991437 1.74352759 1.48986464 1.69711494\n",
            " 1.64733515 1.9489824  1.72143622 1.70569783 2.05200476 1.646739\n",
            " 1.75013357 1.80309348 1.67707987 1.73201862 1.77463901 1.8805318\n",
            " 1.63641357 1.8835394  1.73900527 1.62717342 1.80953773 1.88186064\n",
            " 1.73164189 1.65314238 1.78559654 1.62945021 1.85562929 1.6205495\n",
            " 1.48047579 1.63804584 1.64930933 1.70972277 1.68461733 1.62198764\n",
            " 1.61849054 1.53508885 1.70220216 1.92335298 1.84360053 1.89952611\n",
            " 1.8733439  1.68234664 1.94490864 1.75722704 1.77881433 1.654959\n",
            " 1.76547694 1.75939658 1.93857446 1.47347217 1.75833462 1.89530347\n",
            " 1.82952408 1.99738776 1.76741254 1.7623152  1.54789679 1.71831501\n",
            " 1.70745532 1.92199603 1.70026603 1.72805672 1.78963824 1.55651415\n",
            " 1.61560424 1.89741897 1.80618174 1.85883571 1.65760825 1.8047867\n",
            " 2.07810668 1.6977987  1.72168876 1.74184566 1.66627879 1.78973948\n",
            " 1.74784229 1.94029902 1.81831367 2.01694569 1.60590824 1.77235598\n",
            " 1.80234496 1.95848831 1.95971719 1.78247479 1.66897507 1.63005917\n",
            " 1.76555222 1.8115164  1.82684269 1.62784755 1.94983742 1.9552992\n",
            " 1.74660284 1.693031   1.78798139 1.85678844 1.60323074 1.73415779\n",
            " 1.33760404 1.53890872 1.80236282 1.84799359 1.8006975  1.68598961\n",
            " 1.51918263 1.76455322 1.52484033 1.68719434 1.7138309  1.82711336\n",
            " 1.61888857 1.93166775 1.75850126 1.65083035 1.86755744 2.05033358\n",
            " 1.93170623 1.88067715 1.72796961 1.82346326 1.60629454 1.67032577\n",
            " 2.05158382 1.72783977 1.46641844 1.88718833 1.87780579 1.54277092\n",
            " 1.80507401 1.96303191 1.70774935 1.72977766 2.07298362 1.90424562\n",
            " 1.80842159 1.89123248 2.12618587 1.87418918 1.8985867  1.78518483\n",
            " 1.79005328 1.38294256 1.57580131 1.686839   1.89021195 2.01163543\n",
            " 1.66379977 1.71987774 1.78259199 1.68797609 1.86078343 1.71147917\n",
            " 2.00705232 1.59765717 1.82367324 1.77391481 1.83320593 1.48634215\n",
            " 1.68868668 1.83190498 1.85566418 1.73037166 1.65900411 1.76632161\n",
            " 1.74399117 1.82782026 1.85534779 1.86936395 2.02914259 1.91045962\n",
            " 1.72292094 1.67711527 1.80706839 1.631768   1.84355879 1.84375448\n",
            " 1.62664468 1.64413542 1.80247572 1.39502268 1.80710475 1.75201379\n",
            " 1.7536122  1.51552292 1.67004741 1.72679282 1.69876801 1.76234035\n",
            " 1.70959188 1.92104296 1.50182154 1.63352934 2.0496057  1.53840027\n",
            " 1.90660572 1.96199393 1.73025161 1.92795899 1.72214224 1.69718321\n",
            " 1.99292455 1.52463422 1.69557257 1.94777076 1.57789219 1.78170288\n",
            " 1.72668627 1.61891146 1.78096716 1.69253572 1.93637301 1.78313377\n",
            " 2.03199721 1.727177   1.7427807  1.93226216 1.62601118 1.69954664\n",
            " 1.89536439 1.5717373  1.82975489 1.72955011 1.60691812 1.71511884\n",
            " 1.5522625  1.9927557  1.57078937 1.74232398 1.45615643 1.78608199\n",
            " 1.67946761 1.76873276 1.80821786 1.60999558 1.9817709  1.83926373\n",
            " 1.92892249 1.67326036 1.8661502  1.58048486 1.69996579 1.80513885\n",
            " 1.70756881 1.83258938 1.70009964 1.72061616 1.69614623 1.8470388\n",
            " 1.60102223 2.11425198 1.68683994 1.46427472 1.54058751 1.7269759\n",
            " 1.63646955 1.66239405 1.70007875 1.83694218 1.81143847 1.86215076\n",
            " 1.77026988 1.87490858 1.51765746 1.60560002 1.71529888 1.56072613\n",
            " 1.55559209 1.81650633 1.94804931 1.57515624 1.34311395 1.77546009\n",
            " 1.55691828 1.8127044  1.68074    1.74473673 1.71292372 1.61525986\n",
            " 1.85689384 1.52011035 1.64135378 1.57546587 2.01242712 1.64441706\n",
            " 1.83897724 1.58682485 1.91978177 2.01379853 1.70855508 1.502245\n",
            " 1.7960026  1.81247968 1.97168135 1.62702932 1.9202507  1.8807467\n",
            " 1.5615004  1.7237262  1.51965382 1.80226168 1.40943177 1.80776959\n",
            " 1.41865328 1.72628901 1.3794367  1.64110663 1.81696664 1.64287022\n",
            " 1.73472589 1.43491503 1.84376096 1.51682747 1.94949353 1.79078556\n",
            " 1.87947606 1.85497323 1.85113463 1.89680902 1.9489975  1.52810544\n",
            " 1.65607463 1.72299106 1.79578443 1.97225803 1.95545138 1.83059203\n",
            " 1.68882893 1.36961097 1.74162563 1.81693925 1.56382728 1.87532323\n",
            " 1.68330654 1.90215406 1.91184226 1.67687525 1.90839911 1.67986846\n",
            " 1.7447824  1.77894918 1.78488823 1.4338934  1.82159982 1.93030467\n",
            " 1.57156867 1.95847806 1.64507701 1.86768828 1.60739856 1.73416353\n",
            " 1.64156349 1.89640684 1.79796399 1.67297179]\n"
          ]
        }
      ]
    },
    {
      "cell_type": "markdown",
      "metadata": {
        "id": "PiBtzyz1C2uh"
      },
      "source": [
        "¿Cómo comenzamos a caracterizar la distribución de datos? Representandolos gráficamente mediante un histograma. Un histograma básico simplemente cuenta la cantidad de veces que la variable aleatoria cae dentro del intervalo definido por cada *bin*:"
      ]
    },
    {
      "cell_type": "code",
      "metadata": {
        "id": "lI-f3Z34boFD",
        "colab": {
          "base_uri": "https://localhost:8080/",
          "height": 265
        },
        "outputId": "f18e5e26-5b8e-434c-d721-bab800546e89"
      },
      "source": [
        "# Los parámetros que seteo en principio son:\n",
        "# - Número de bins\n",
        "# - Rango de los datos que voy a representar (sin especificar nada, toma el mínimo y el máximo)\n",
        "# - rwidth es solo para visualizar, en vez de dibujar toda la barra, la angosta un poquito\n",
        "plt.hist(muestra, bins = 20, range = [1.00, 2.50], rwidth = 0.80)\n",
        "plt.ylabel('Frecuencia')\n",
        "plt.show()"
      ],
      "execution_count": null,
      "outputs": [
        {
          "output_type": "display_data",
          "data": {
            "text/plain": [
              "<Figure size 432x288 with 1 Axes>"
            ],
            "image/png": "[encoded data removed]"
          },
          "metadata": {
            "needs_background": "light"
          }
        }
      ]
    },
    {
      "cell_type": "markdown",
      "metadata": {
        "id": "m4n4eN9QDmGK"
      },
      "source": [
        "Ya un histograma nos dá una buena idea de cómo se distribuyen los datos. Sin embargo, la visualización puede ser engañosa, por lo que está bueno ver cómo se modifica la distribución al variar el número de bins."
      ]
    },
    {
      "cell_type": "code",
      "metadata": {
        "colab": {
          "base_uri": "https://localhost:8080/",
          "height": 227
        },
        "id": "HEFHT44VVfVr",
        "outputId": "c19466f3-dd0a-4efb-e600-e2c577c87fa5"
      },
      "source": [
        "fig, ax = plt.subplots(nrows = 1, ncols = 4, figsize = (15, 3))\n",
        "fig_index = 0\n",
        "\n",
        "# Barro en número de bins\n",
        "for nbins in [5, 10, 20, 100]:\n",
        "\n",
        "  ax[fig_index].hist(muestra, bins = nbins, range = [1.00, 2.50], rwidth = 0.80)\n",
        "  ax[fig_index].set_title('{} bins'.format(nbins))\n",
        "  fig_index += 1\n",
        "\n",
        "ax[0].set_ylabel('Frecuencia')\n",
        "plt.show()"
      ],
      "execution_count": null,
      "outputs": [
        {
          "output_type": "display_data",
          "data": {
            "text/plain": [
              "<Figure size 1080x216 with 4 Axes>"
            ],
            "image/png": "[encoded data removed]"
          },
          "metadata": {
            "needs_background": "light"
          }
        }
      ]
    },
    {
      "cell_type": "markdown",
      "metadata": {
        "id": "sUdv6vzMVNlR"
      },
      "source": [
        "#### Normalización y comparación con distribución teórica\n",
        "\n",
        "Muchas veces vamos a querer comparar la distribución de nuestros datos con alguna distribución teórica (si tiene parámetros, quizás inferidos de la misma muestra, pero eso ya se va de tema). Como toda distribución está normalizada, para comparar con un histograma este mismo también tiene que estarlo. Esto significa que el área que cubren los bins es igual a 1."
      ]
    },
    {
      "cell_type": "code",
      "metadata": {
        "colab": {
          "base_uri": "https://localhost:8080/",
          "height": 265
        },
        "id": "Mc_uf9dWWnIG",
        "outputId": "1ecc7090-3b5d-4196-9f76-dc638595ace4"
      },
      "source": [
        "# Density = True -> histograma normalizado\n",
        "plt.hist(muestra, bins = 20, range = [1.00, 2.50], rwidth = 0.80, density = True)\n",
        "\n",
        "# Lo comparamos con la distribución teórica (esto es trampa, es muy probable que nunca la sepamos)\n",
        "x = np.arange(1.00, 2.50, 0.01)\n",
        "plt.plot(x, stats.norm.pdf(x, loc = 1.75, scale = 0.15), label = 'Teórica')\n",
        "\n",
        "plt.ylabel('Densidad de probabilidad')\n",
        "plt.legend(loc = 'best')\n",
        "plt.show()"
      ],
      "execution_count": null,
      "outputs": [
        {
          "output_type": "display_data",
          "data": {
            "text/plain": [
              "<Figure size 432x288 with 1 Axes>"
            ],
            "image/png": "[encoded data removed]"
          },
          "metadata": {
            "needs_background": "light"
          }
        }
      ]
    },
    {
      "cell_type": "markdown",
      "metadata": {
        "id": "4MxC43s8GAwA"
      },
      "source": [
        "Por otro lado, podemos estudiar la distribución acumulada:"
      ]
    },
    {
      "cell_type": "code",
      "metadata": {
        "colab": {
          "base_uri": "https://localhost:8080/",
          "height": 265
        },
        "id": "blWzLqboXndc",
        "outputId": "08a839c4-0013-403f-b5bb-5756b8645454"
      },
      "source": [
        "# Cumulative = True -> acumulada\n",
        "plt.hist(muestra, bins = 20, range = [1.00, 2.50], rwidth = 0.80, density = True, cumulative = True)\n",
        "\n",
        "x = np.arange(1.00, 2.50, 0.01)\n",
        "plt.plot(x, stats.norm.cdf(x, loc = 1.75, scale = 0.15), label = 'Teórica')\n",
        "\n",
        "plt.ylabel('Probablidad acumulada')\n",
        "plt.legend(loc = 'best')\n",
        "plt.show()"
      ],
      "execution_count": null,
      "outputs": [
        {
          "output_type": "display_data",
          "data": {
            "image/png": "[encoded data removed]",
            "text/plain": [
              "<Figure size 432x288 with 1 Axes>"
            ]
          },
          "metadata": {
            "tags": [],
            "needs_background": "light"
          }
        }
      ]
    },
    {
      "cell_type": "markdown",
      "metadata": {
        "id": "XBQSJIPijcQ5"
      },
      "source": [
        "#### Observables estadísticos\n",
        "\n",
        "Además de la visualización, otra forma de cuantificar la distribución es mediante el cálculo de ciertos observables tales como: \n",
        "\n",
        "- Media $ \\bar X = \\frac{1}{N} \\sum_i^N X_i $\n",
        "\n",
        "- Varianza $S^2 = \\frac{1}{N-1} \\sum_i^N (X_i - \\bar X)^2$\n",
        "\n",
        "- Desviación $S = \\sqrt{S^2}$\n",
        "\n",
        "- Mediana $m$ / $P(X \\leq m) = 0.5$\n",
        "\n",
        "- $\\alpha$-cuantil: $c$ / $P(X \\leq c) = \\alpha$"
      ]
    },
    {
      "cell_type": "code",
      "metadata": {
        "colab": {
          "base_uri": "https://localhost:8080/"
        },
        "id": "odmVoNusYynt",
        "outputId": "8adbb67d-9748-4043-ac19-7349fc4d619d"
      },
      "source": [
        "# Cálculo de los observables con numpy\n",
        "\n",
        "media = np.mean(muestra)\n",
        "varianza = np.var(muestra)\n",
        "desviacion = np.std(muestra)\n",
        "\n",
        "mediana = np.median(muestra)\n",
        "cuartiles = np.quantile(muestra, [0.25, 0.50, 0.75])\n",
        "\n",
        "print('Media = {:.3f}'.format(media))\n",
        "print('Desviacion = {:.3f}'.format(desviacion))\n",
        "print('Varianza = {:.3f}'.format(varianza))\n",
        "\n",
        "print('Mediana = {:.3f}'.format(mediana))\n",
        "print('Cuartiles 25%, 50%, 75% = {:.3f}, {:.3f}, {:.3f}'.format(*cuartiles))"
      ],
      "execution_count": null,
      "outputs": [
        {
          "output_type": "stream",
          "name": "stdout",
          "text": [
            "Media = 1.757\n",
            "Desviacion = 0.150\n",
            "Varianza = 0.023\n",
            "Mediana = 1.759\n",
            "Cuartiles 25%, 50%, 75% = 1.657, 1.759, 1.858\n"
          ]
        }
      ]
    },
    {
      "cell_type": "markdown",
      "metadata": {
        "id": "omCUWIt8KVF-"
      },
      "source": [
        "Los cuantiles dividen nuestros datos en la cantidad que le especifiquemos. Por ejemplo, la mediana es el punto donde la mitad de los datos son mayores (o menores) o iguales a esta.\n",
        "Si los cuantiles se refieren al 25%, 50% y 75%, se denominan cuartiles. El cuantil del 50% es exactamente igual a la mediana."
      ]
    },
    {
      "cell_type": "code",
      "metadata": {
        "colab": {
          "base_uri": "https://localhost:8080/",
          "height": 265
        },
        "id": "xdAxZRTglNMX",
        "outputId": "4675eefe-a1fe-475e-ceb0-385407c9c834"
      },
      "source": [
        "### Visualizacion de los cuantiles\n",
        "plt.hist(muestra, bins = 50, range = [1.2, 2.4], density = True, cumulative = True, rwidth = 0.80)\n",
        "\n",
        "# Cambiar aqui lo cuantiles que se quieran visualizar\n",
        "for c in [0.20, 0.80]:\n",
        "\n",
        "  plt.hlines(y = c, xmin = 1.2, xmax = np.quantile(muestra, c), linestyle = '--', color = 'r', alpha = 0.65, linewidth = 3)\n",
        "  plt.vlines(x = np.quantile(muestra, c), ymin = 0.00, ymax = c, linestyles= '--', color = 'r', alpha = 0.65, linewidth = 3)\n",
        "\n",
        "plt.ylabel('Probabilidad acumulada')\n",
        "plt.ylim([0.00, 1.05])\n",
        "plt.xlim([1.2, 2.4])\n",
        "plt.show()"
      ],
      "execution_count": null,
      "outputs": [
        {
          "output_type": "display_data",
          "data": {
            "text/plain": [
              "<Figure size 432x288 with 1 Axes>"
            ],
            "image/png": "[encoded data removed]"
          },
          "metadata": {
            "needs_background": "light"
          }
        }
      ]
    },
    {
      "cell_type": "markdown",
      "metadata": {
        "id": "p69UhS1dY0Wo"
      },
      "source": [
        "#### Otras distribuciones de variables aleatorias continuas\n",
        "\n",
        "Veamos un poco datos generados con otras distribuciones, representemos en histogramas y calculemos los distintos observables."
      ]
    },
    {
      "cell_type": "code",
      "metadata": {
        "colab": {
          "base_uri": "https://localhost:8080/",
          "height": 279
        },
        "id": "fA66byUgfnxY",
        "outputId": "38fea341-d214-4d30-8b3b-9c30df3a714f"
      },
      "source": [
        "# Distribucion uniforme entre 0 y 1\n",
        "distribucion = stats.uniform()\n",
        "\n",
        "# Muestra de numeros aleatorios\n",
        "N = 1000\n",
        "muestra = distribucion.rvs(size = N)\n",
        "\n",
        "# Rango de la variable x \n",
        "x = np.arange(0.00, 1.01, 0.01)\n",
        "\n",
        "fig, ax = plt.subplots(nrows=1, ncols = 2, figsize = (15, 3))\n",
        "\n",
        "# Histograma de los datos  \n",
        "ax[0].hist(muestra, bins = 20, range = [0, 1], rwidth = 0.8, density = True)\n",
        "\n",
        "# Densidad de probabilidad teórica\n",
        "ax[0].plot(x, distribucion.pdf(x))\n",
        "ax[0].set_ylabel('Densidad de probabilidad')\n",
        "\n",
        "# Histograma acumulado de los datos  \n",
        "ax[1].hist(muestra, bins = 20, range = [0, 1], rwidth = 0.8, cumulative = True, density = True)\n",
        "\n",
        "# Probabilidad acumulada teórica\n",
        "ax[1].plot(x, distribucion.cdf(x))\n",
        "ax[1].set_ylabel('Probabilidad acumulada')\n",
        "  \n",
        "plt.show()\n",
        "\n",
        "print('Media = {:.3f}'.format(np.mean(muestra)))\n",
        "print('Desviacion = {:.3f}'.format(np.std(muestra)))\n",
        "print('Mediana = {:.3f}'.format(np.median(muestra)))\n",
        "print('90% central = [{:.3f} - {:.3f}]'.format(*np.quantile(muestra, [0.05, 0.95])))"
      ],
      "execution_count": null,
      "outputs": [
        {
          "output_type": "display_data",
          "data": {
            "text/plain": [
              "<Figure size 1080x216 with 2 Axes>"
            ],
            "image/png": "[encoded data removed]"
          },
          "metadata": {
            "needs_background": "light"
          }
        },
        {
          "output_type": "stream",
          "name": "stdout",
          "text": [
            "Media = 0.501\n",
            "Desviacion = 0.280\n",
            "Mediana = 0.509\n",
            "90% central = [0.065 - 0.950]\n"
          ]
        }
      ]
    },
    {
      "cell_type": "code",
      "metadata": {
        "colab": {
          "base_uri": "https://localhost:8080/",
          "height": 279
        },
        "id": "yZBtE3teY3v3",
        "outputId": "6bbf42c0-8012-4daa-982e-8e2af053b8ba"
      },
      "source": [
        "# Distribucion exponencial\n",
        "distribucion = stats.expon()\n",
        "\n",
        "# Muestra de numeros aleatorios\n",
        "N = 1000\n",
        "muestra = distribucion.rvs(size = N)\n",
        "\n",
        "# Rango de la variable x \n",
        "x = np.arange(0.00, 8.01, 0.01)\n",
        "\n",
        "fig, ax = plt.subplots(nrows=1, ncols = 2, figsize = (15, 3))\n",
        "\n",
        "# Histograma de los datos  \n",
        "ax[0].hist(muestra, bins = 20, range = [0, 8], rwidth = 0.8, density = True)\n",
        "\n",
        "# Densidad de probabilidad teórica\n",
        "ax[0].plot(x, distribucion.pdf(x))\n",
        "ax[0].set_ylabel('Densidad de probabilidad')\n",
        "\n",
        "# Histograma acumulado de los datos  \n",
        "ax[1].hist(muestra, bins = 20, range = [0, 8], rwidth = 0.8, cumulative = True, density = True)\n",
        "\n",
        "# Probabilidad acumulada teórica\n",
        "ax[1].plot(x, distribucion.cdf(x))\n",
        "ax[1].set_ylabel('Probabilidad acumulada')\n",
        "  \n",
        "plt.show()\n",
        "\n",
        "print('Media = {:.3f}'.format(np.mean(muestra)))\n",
        "print('Desviacion = {:.3f}'.format(np.std(muestra)))\n",
        "print('Mediana = {:.3f}'.format(np.median(muestra)))\n",
        "print('90% central = [{:.3f} - {:.3f}]'.format(*np.quantile(muestra, [0.05, 0.95])))"
      ],
      "execution_count": null,
      "outputs": [
        {
          "output_type": "display_data",
          "data": {
            "text/plain": [
              "<Figure size 1080x216 with 2 Axes>"
            ],
            "image/png": "[encoded data removed]"
          },
          "metadata": {
            "needs_background": "light"
          }
        },
        {
          "output_type": "stream",
          "name": "stdout",
          "text": [
            "Media = 1.004\n",
            "Desviacion = 0.996\n",
            "Mediana = 0.721\n",
            "90% central = [0.051 - 3.036]\n"
          ]
        }
      ]
    },
    {
      "cell_type": "markdown",
      "metadata": {
        "id": "PwhdqGTbdsct"
      },
      "source": [
        "#### Variables discretas \n",
        "\n",
        "Tener presente la [documentación](https://docs.scipy.org/doc/scipy/reference/stats.html#discrete-distributions) de scipy para variables discretas para ver algunos cambios sútiles respecto de las de variables continuas (por ejemplo, el cambio del método .pdf() por .pmf()).\n",
        "\n"
      ]
    },
    {
      "cell_type": "code",
      "metadata": {
        "colab": {
          "base_uri": "https://localhost:8080/",
          "height": 296
        },
        "id": "i8jis8HUdrym",
        "outputId": "c6a4abb0-df6e-4088-b459-c467c3ab0800"
      },
      "source": [
        "# Distribucion binomial\n",
        "distribucion = stats.binom(n = 10, p = 0.25)\n",
        "\n",
        "# Muestra de numeros aleatorios\n",
        "N = 1000\n",
        "muestra = distribucion.rvs(size = N)\n",
        "\n",
        "# Rango de la variable x \n",
        "x = range(0, 11)\n",
        "\n",
        "fig, ax = plt.subplots(nrows=1, ncols = 2, figsize = (15, 3))\n",
        "\n",
        "# Histograma de los datos  \n",
        "ax[0].hist(muestra, bins = 11, range = [0, 11], rwidth = 0.8, density = True)\n",
        "\n",
        "# Masa de probabilidad teórica (notar el cambio aquí respecto de las distribuciones continuas)\n",
        "ax[0].plot(x, distribucion.pmf(x), '.-', markersize = 15)\n",
        "\n",
        "# Histograma acumulado de los datos  \n",
        "ax[1].hist(muestra, bins = 11, range = [0, 11], rwidth = 0.8, cumulative = True, density = True)\n",
        "\n",
        "# Probabilidad acumulada teórica\n",
        "ax[1].plot(x, distribucion.cdf(x), '.-', markersize = 15)\n",
        "  \n",
        "plt.show()\n",
        "\n",
        "print('Media = {:.3f}'.format(np.mean(muestra)))\n",
        "print('Desviacion = {:.3f}'.format(np.std(muestra)))\n",
        "print('Mediana = {:.3f}'.format(np.median(muestra)))\n",
        "print('90% central = [{:.3f} - {:.3f}]'.format(*np.quantile(muestra, [0.05, 0.95])))\n",
        "\n",
        "# Para variables discretas podemos calcular la moda\n",
        "print('Moda: {} - freq: {}'.format(stats.mode(muestra)[0][0], stats.mode(muestra)[1][0]))"
      ],
      "execution_count": null,
      "outputs": [
        {
          "output_type": "display_data",
          "data": {
            "text/plain": [
              "<Figure size 1080x216 with 2 Axes>"
            ],
            "image/png": "[encoded data removed]"
          },
          "metadata": {
            "needs_background": "light"
          }
        },
        {
          "output_type": "stream",
          "name": "stdout",
          "text": [
            "Media = 2.480\n",
            "Desviacion = 1.361\n",
            "Mediana = 2.000\n",
            "90% central = [0.000 - 5.000]\n",
            "Moda: 2 - freq: 294\n"
          ]
        }
      ]
    },
    {
      "cell_type": "markdown",
      "metadata": {
        "id": "WJHFfU_KfBh5"
      },
      "source": [
        "Como otro ejemplo de distribución discreta se puede estudiar la distribución de Poisson."
      ]
    },
    {
      "cell_type": "markdown",
      "metadata": {
        "id": "Vn6jmvhUbE5n"
      },
      "source": [
        "#### Atajos en Numpy y Pandas para estadística descriptiva\n",
        "\n",
        "Si nuestros datos están en un array de numpy o bien un dataframe en pandas, estos objetos tienen métodos para calcular rápidamente ciertos observables."
      ]
    },
    {
      "cell_type": "code",
      "metadata": {
        "colab": {
          "base_uri": "https://localhost:8080/"
        },
        "id": "dHfHUmZuHSnY",
        "outputId": "e333958f-2518-4366-f69d-f41952390bd7"
      },
      "source": [
        "# Array de numpy \n",
        "A = np.array([[1, 2, 3, 3], [3, 1, 3, 9], [0, 0, 1, 2]])\n",
        "\n",
        "# Observables por fila o columnas\n",
        "print('Media: {}'.format(A.mean(axis = 0)))\n",
        "print('Desviacion: {}'.format(A.std(axis = 0)))"
      ],
      "execution_count": null,
      "outputs": [
        {
          "output_type": "stream",
          "text": [
            "Media: [1.33333333 1.         2.33333333 4.66666667]\n",
            "Desviacion: [1.24721913 0.81649658 0.94280904 3.09120617]\n"
          ],
          "name": "stdout"
        }
      ]
    },
    {
      "cell_type": "code",
      "metadata": {
        "colab": {
          "base_uri": "https://localhost:8080/"
        },
        "id": "T9p-kpROpvpa",
        "outputId": "d313cef1-bf5b-42be-908b-6ef93e93de11"
      },
      "source": [
        "# Histrogramas\n",
        "\n",
        "data = np.random.normal(loc = 0.00, scale = 1.00, size = 1000)\n",
        "freq, bin_limits = np.histogram(data, bins = 10)\n",
        "\n",
        "print('Frecuencia por bin: {}'.format(freq))\n",
        "print('Límite de los bins: {}'.format(bin_limits))"
      ],
      "execution_count": null,
      "outputs": [
        {
          "output_type": "stream",
          "text": [
            "Frecuencia por bin: [  2  25  73 155 253 229 168  67  20   8]\n",
            "Límite de los bins: [-3.14157849 -2.51834675 -1.89511501 -1.27188327 -0.64865153 -0.02541978\n",
            "  0.59781196  1.2210437   1.84427544  2.46750718  3.09073892]\n"
          ],
          "name": "stdout"
        }
      ]
    },
    {
      "cell_type": "code",
      "metadata": {
        "id": "kKX291iaz6gr",
        "colab": {
          "base_uri": "https://localhost:8080/",
          "height": 623
        },
        "outputId": "3bef9c13-cae5-4a64-88a2-1d2ecc82ef72"
      },
      "source": [
        "# Atajos en pandas \n",
        "\n",
        "import pandas as pd \n",
        "\n",
        "dataframe = pd.DataFrame()\n",
        "dataframe['x'] = np.random.normal(loc = 3.00, scale = 1.00, size = 100)\n",
        "dataframe['y'] = np.random.exponential(scale = 2.00, size = 100)\n",
        "dataframe['z'] = np.random.binomial(n = 10, p = 0.75, size = 100)\n",
        "\n",
        "print('Media:')\n",
        "print(dataframe.mean())\n",
        "\n",
        "print('Desviacion:')\n",
        "print(dataframe.std())\n",
        "\n",
        "print('90% central:')\n",
        "print(dataframe.quantile([0.5, 0.95]))\n",
        "\n",
        "print('Mediana:')\n",
        "print(dataframe.median())\n",
        "\n",
        "print('Moda de la variable discreta: ')\n",
        "print(dataframe['z'].mode())\n",
        "\n",
        "# Histogramas \n",
        "fig, ax = plt.subplots(1, 3, figsize = (15, 3))\n",
        "dataframe.hist(ax = ax, bins = 20, rwidth = 0.8, grid = False, cumulative = False, density = True)\n",
        "plt.show()"
      ],
      "execution_count": null,
      "outputs": [
        {
          "output_type": "stream",
          "text": [
            "Media:\n",
            "x    2.999271\n",
            "y    2.097894\n",
            "z    7.600000\n",
            "dtype: float64\n",
            "Desviacion:\n",
            "x    0.991073\n",
            "y    2.299977\n",
            "z    1.370689\n",
            "dtype: float64\n",
            "90% central:\n",
            "             x         y     z\n",
            "0.50  2.945449  1.367255  8.00\n",
            "0.95  4.522569  5.704590  9.05\n",
            "Mediana:\n",
            "x    2.945449\n",
            "y    1.367255\n",
            "z    8.000000\n",
            "dtype: float64\n",
            "Moda de la variable discreta: \n",
            "0    8\n",
            "dtype: int64\n"
          ],
          "name": "stdout"
        },
        {
          "output_type": "display_data",
          "data": {
            "image/png": "[encoded data removed]",
            "text/plain": [
              "<Figure size 1080x216 with 3 Axes>"
            ]
          },
          "metadata": {
            "tags": [],
            "needs_background": "light"
          }
        }
      ]
    },
    {
      "cell_type": "markdown",
      "metadata": {
        "id": "AUN0gliHqSth"
      },
      "source": [
        "### Algunos comentarios finales\n",
        "\n",
        "#### Log-normal y power-law\n",
        "\n",
        "Muchas veces los histogramas de datos que provengan de una log-normal o de una power-law pueden confundirse al presentar, por ejemplo, una gran probabilidad de que la variable aleatoria sea cercana a 0, al mismo tiempo de una probabilidad baja, pero no nula, para valores altos (lo que se denomina a veces como *cola pesada*)."
      ]
    },
    {
      "cell_type": "code",
      "metadata": {
        "colab": {
          "base_uri": "https://localhost:8080/",
          "height": 241
        },
        "id": "VlG_rx3zbdJu",
        "outputId": "13b29801-638a-4630-81b6-9bd8fa3cf68b"
      },
      "source": [
        "# Histogramas log-normal y power-law\n",
        "distribucion_lognormal = stats.lognorm(s = 2.00)\n",
        "distribucion_powerlaw = stats.powerlaw(0.10, scale = 1000)\n",
        "\n",
        "muestra_lognormal = distribucion_lognormal.rvs(size = 1000)\n",
        "muestra_powerlaw = distribucion_powerlaw.rvs(size = 1000)\n",
        "\n",
        "fig, ax = plt.subplots(1, 2, figsize = (15, 3))\n",
        "ax[0].hist(muestra_lognormal, bins = 20, density = True, rwidth = 0.80)\n",
        "ax[0].set_xlabel('x')\n",
        "ax[0].set_title('Log-normal')\n",
        "ax[1].hist(muestra_powerlaw, bins = 20, density = True, rwidth = 0.80)\n",
        "ax[1].set_xlabel('x')\n",
        "ax[1].set_title('Power-law')\n",
        "plt.show()"
      ],
      "execution_count": null,
      "outputs": [
        {
          "output_type": "display_data",
          "data": {
            "text/plain": [
              "<Figure size 1080x216 with 2 Axes>"
            ],
            "image/png": "[encoded data removed]"
          },
          "metadata": {
            "needs_background": "light"
          }
        }
      ]
    },
    {
      "cell_type": "markdown",
      "metadata": {
        "id": "BwmaWRWi5hrB"
      },
      "source": [
        "Sin embargo son dos distribuciones muy distintas: mientras la log-normal tiene una escala bien definida (es decir, sabemos a partir de qué valor las probabilidades de que ocurran valores mayores o menores son prácticamente nulas), una powerlaw puede presentar eventos extremos con una probabilidad no despreciable.\n",
        "\n",
        "Una solución para ver sus particularidades es realizar los histogramas en la escala log-log. Para simplicidad, lo que hacemos es hacer el histograma para el logaritmo de los datos y a su vez graficar el eje $y$ en escala logarítmica (otra solución creo más compleja es hacer un bineo logarítmico, bines más finos para valores bajos y bines más anchos para valores altos)."
      ]
    },
    {
      "cell_type": "code",
      "metadata": {
        "colab": {
          "base_uri": "https://localhost:8080/",
          "height": 241
        },
        "id": "cr3mpidIb3xn",
        "outputId": "d2e9a4e3-1cfa-46ea-fc69-15d3f9963390"
      },
      "source": [
        "# Histrogramas log-log\n",
        "\n",
        "fig, ax = plt.subplots(1, 2, figsize = (15, 3))\n",
        "ax[0].hist(np.log(muestra_lognormal), bins = 20, density = True, rwidth = 0.80, log = True)\n",
        "ax[0].set_xlabel('log(x)')\n",
        "ax[0].set_title('Log-normal')\n",
        "\n",
        "ax[1].hist(np.log(muestra_powerlaw), bins = 20, density = True, rwidth = 0.80, log = True)\n",
        "ax[1].set_xlabel('log(x)')\n",
        "ax[1].set_title('Power-law')\n",
        "\n",
        "plt.show()"
      ],
      "execution_count": null,
      "outputs": [
        {
          "output_type": "display_data",
          "data": {
            "image/png": "[encoded data removed]",
            "text/plain": [
              "<Figure size 1080x216 with 2 Axes>"
            ]
          },
          "metadata": {
            "tags": [],
            "needs_background": "light"
          }
        }
      ]
    },
    {
      "cell_type": "markdown",
      "metadata": {
        "id": "fgmJ4HWs6H3h"
      },
      "source": [
        "Esto nos muestra dos cosas:\n",
        "- La log-normal es prácticamente idéntica a una distribución normal viendo todo en escala logarítmica (en realidad, si $x$ es distribuído por una log-normal, entonces $log(x)$ está normalmente distribuído).\n",
        "- Por otro lado, un distintivo de las distribuciones power-law es que en escala log-log presentan una gráfico lineal (si $P(x) \\sim x^\\nu$ entonces $log(P(x)) \\sim \\nu log(x)$).\n",
        "\n",
        "La distinción es importante porque las power-law son conocidas también como leyes libre de escala. Teóricamente no tienen una dispersión bien definida (depende en realidad del exponente de la distribución) y por lo tanto carecen de una escala con la cual comparar la distancia al valor medio."
      ]
    },
    {
      "cell_type": "markdown",
      "metadata": {
        "id": "KiRm55S6qYBK"
      },
      "source": [
        "#### Normal multivariada\n",
        "\n",
        "Es importante mencionar que lamentablemente (o por suerte) no todo en la vida es unidimensional y por supuesto existen distribuciones de dos o más variables. Un ejemplo típico es una [normal multivariada](https://es.wikipedia.org/wiki/Distribuci%C3%B3n_normal_multivariada), que es la generalización de la distribución normal a varias dimensiones.\n",
        "\n",
        "Para el caso de dos variables estandarizadas, la función densidad es: $$f(x_1, x_2) = \\frac{1}{2\\pi |\\Sigma|^{1/2}} e^{-\\frac{1}{2} \\bar x^T \\Sigma^{-1} \\bar x}$$\n",
        "donde $\\bar x = (x_1, x_2)$ y $\\Sigma = \\Big(\\begin{matrix} 1 & \\rho\\\\\n",
        "\\rho & 1 \\end{matrix}\\Big)$. \n",
        "\n",
        "Lo interesante de esta distribución es que el coeficiente de correlación $\\rho$ aparece explícitamente es la función densidad, análogo a como aparecen los valores medios y desviaciones en la normal. Esta sería entonces una de las formas más sencillas de crear variables correlacionadas."
      ]
    },
    {
      "cell_type": "code",
      "metadata": {
        "colab": {
          "base_uri": "https://localhost:8080/",
          "height": 297
        },
        "id": "HO-Li3esfnKC",
        "outputId": "ea943bcb-aa47-48eb-c6cd-bc7864f14237"
      },
      "source": [
        "### Distribuciones multivariadas\n",
        "\n",
        "# Coeficiente de correlacion\n",
        "corr_x12 = 0.80\n",
        "\n",
        "distribucion = stats.multivariate_normal(mean = [0.00, 0.00], cov = np.array(([1.00, corr_x12], [corr_x12, 1.00])))\n",
        "muestra = distribucion.rvs(size = 1000) \n",
        "\n",
        "# Histograma 2D, notar que la muestra tiene dos columnas\n",
        "plt.hist2d(muestra[:,0], muestra[:,1], bins = 20)\n",
        "\n",
        "# Calculamos la correlacion de Pearson de los datos a modo de chequeo\n",
        "plt.title('Pearson r = {:.3f}'.format(stats.pearsonr(muestra[:,0], muestra[:,1])[0]))\n",
        "\n",
        "plt.xlabel('$x_1$')\n",
        "plt.ylabel('$x_2$')\n",
        "plt.colorbar(label = 'Frecuencia')\n",
        "plt.show()"
      ],
      "execution_count": null,
      "outputs": [
        {
          "output_type": "display_data",
          "data": {
            "text/plain": [
              "<Figure size 432x288 with 2 Axes>"
            ],
            "image/png": "[encoded data removed]"
          },
          "metadata": {
            "needs_background": "light"
          }
        }
      ]
    },
    {
      "cell_type": "code",
      "metadata": {
        "id": "z1g7yFMdXQL8"
      },
      "source": [],
      "execution_count": null,
      "outputs": []
    }
  ]
}