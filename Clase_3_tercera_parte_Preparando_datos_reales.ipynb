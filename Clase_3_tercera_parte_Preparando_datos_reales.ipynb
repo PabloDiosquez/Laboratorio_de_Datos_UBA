{
  "nbformat": 4,
  "nbformat_minor": 0,
  "metadata": {
    "colab": {
      "provenance": [],
      "include_colab_link": true
    },
    "kernelspec": {
      "name": "python3",
      "display_name": "Python 3"
    },
    "language_info": {
      "name": "python"
    }
  },
  "cells": [
    {
      "cell_type": "markdown",
      "metadata": {
        "id": "view-in-github",
        "colab_type": "text"
      },
      "source": [
        "<a href=\"https://colab.research.google.com/github/PabloDiosquez/Laboratorio_de_Datos_UBA/blob/main/Clase_3_tercera_parte_Preparando_datos_reales.ipynb\" target=\"_parent\"><img src=\"https://colab.research.google.com/assets/colab-badge.svg\" alt=\"Open In Colab\"/></a>"
      ]
    },
    {
      "cell_type": "markdown",
      "metadata": {
        "id": "kjVsZrFKV4TL"
      },
      "source": [
        "Vamos a ver qué tipo de preparación y estandarización o normalización es necesaria para algunas columnas de los datasets experimentales que introdujimos en la clase pasada. \n",
        "\n",
        "Empecemos por el dataset de vacunación."
      ]
    },
    {
      "cell_type": "code",
      "metadata": {
        "id": "qT0yOcU0Vz-P"
      },
      "source": [
        "import pandas as pd\n",
        "from google.colab import drive\n",
        "drive.mount('/content/drive')\n",
        "\n",
        "filename = '/content/drive/My Drive/LaboDatos2022/vacunas_safe.csv' \n",
        "\n",
        "df = pd.read_csv(filename)"
      ],
      "execution_count": null,
      "outputs": []
    },
    {
      "cell_type": "markdown",
      "metadata": {
        "id": "AFEASanhWQ3e"
      },
      "source": [
        "Vamos a cargar las columnas dadas por:\n",
        "\n",
        "0_vacunaAplicada,\t0_preTeDarias,\t0_preEfectiva,\t0_preEfectosAdversos,\n",
        "0_vacunaUtilFrenar,\t0_riesgoPropio,\t0_riesgoConvive,\t0_posturaVacunas, 0_covid', 0_medios, 0_diarios, 0_otros, 0_podcasts, 0_radio, 0_redesSociales,0_television, 0_youtube, 0_edad, 0_genero, hash"
      ]
    },
    {
      "cell_type": "code",
      "metadata": {
        "id": "k2_8y667Wcl0"
      },
      "source": [
        "df.columns\n",
        "columnas = list(df.columns[4:8]) + list(df.columns[19:34]) + ['hash']\n",
        "df_vacunas = df[columnas]\n"
      ],
      "execution_count": null,
      "outputs": []
    },
    {
      "cell_type": "markdown",
      "metadata": {
        "id": "L57hbfIjXH1r"
      },
      "source": [
        "La primera columna nos sirve para filtrar a aquellos que ya se dieron la vacuna."
      ]
    },
    {
      "cell_type": "code",
      "metadata": {
        "id": "_lXCDji0XNzN"
      },
      "source": [
        "import numpy as np\n",
        "\n",
        "print(df_vacunas['0_vacunaAplicada'].value_counts())\n",
        "# -999: no fue vacunado\n",
        "# los otros numeros indican vacunado con distintas vacunas\n",
        "\n",
        "indice_no_vacunado = np.logical_not(df_vacunas['0_vacunaAplicada']==-999)\n",
        "df_vacunados = df_vacunas.drop(df_vacunas[indice_no_vacunado].index)\n",
        "\n",
        "print(df_vacunados['0_vacunaAplicada'].value_counts())\n"
      ],
      "execution_count": null,
      "outputs": []
    },
    {
      "cell_type": "markdown",
      "metadata": {
        "id": "5aGPUulUYCkl"
      },
      "source": [
        "Otra cosa que podría pasar es que nos interese el z-score de las columnas '0_preTeDarias' (¿te darías la vacuna?) y '0_preEfectiva' (¿considerás que la vacuna es efectiva para frenar la pandemia?). \n",
        "\n",
        "El problema es que por un sesgo en la gente que responde estas variables, vemos que una gran cantidad respondió 100 (máxima certeza) en ambas preguntas."
      ]
    },
    {
      "cell_type": "code",
      "metadata": {
        "id": "TrsVfQ7jYj9-"
      },
      "source": [
        "print(df_vacunados['0_preTeDarias'].value_counts())\n",
        "print(df_vacunados['0_preEfectiva'].value_counts())"
      ],
      "execution_count": null,
      "outputs": []
    },
    {
      "cell_type": "markdown",
      "metadata": {
        "id": "GFQF35mUYxey"
      },
      "source": [
        "Entonces podemos remover esta gente tan decidida y luego calcular z-scores."
      ]
    },
    {
      "cell_type": "code",
      "metadata": {
        "id": "CmfPsHaaY2Sw"
      },
      "source": [
        "from scipy import stats\n",
        "\n",
        "indice_seguros = np.logical_and(df_vacunados['0_preTeDarias']==100, df_vacunados['0_preEfectiva']==100)\n",
        "df_vacunados = df_vacunados.drop(df_vacunados[indice_seguros].index)\n",
        "\n",
        "df_vacunados['0_preTeDarias (z)'] = stats.zscore(df_vacunados['0_preTeDarias'])\n",
        "df_vacunados['0_preEfectiva (z)'] = stats.zscore(df_vacunados['0_preEfectiva'])\n",
        "\n",
        "print(df_vacunados)\n"
      ],
      "execution_count": null,
      "outputs": []
    },
    {
      "cell_type": "markdown",
      "metadata": {
        "id": "Pz7Qhp-maHLc"
      },
      "source": [
        "Lo mismo se puede hacer con las otras columnas numéricas. \n",
        "\n",
        "Hay columnas más complicadas, donde en el experimento aparecen cajas de texto y los participantes pueden escribir, como en preguntas relacionadas a consumo de diarios, redes sociales o podcasts."
      ]
    },
    {
      "cell_type": "code",
      "metadata": {
        "id": "qp4qbxyeaUBA"
      },
      "source": [
        "#descomentar la que querramos ver\n",
        "pd.options.display.max_rows = 2000\n",
        "#print(df_vacunados['0_diarios'].value_counts())\n",
        "#print(df_vacunados['0_redesSociales'].value_counts())\n",
        "#print(df_vacunados['0_television'].value_counts())\n",
        "print(df_vacunados['0_youtube'].value_counts())\n",
        "\n"
      ],
      "execution_count": null,
      "outputs": []
    },
    {
      "cell_type": "markdown",
      "source": [
        "\n",
        "\n"
      ],
      "metadata": {
        "id": "V-NbFbfvjKx9"
      }
    },
    {
      "cell_type": "markdown",
      "metadata": {
        "id": "kPOFoJD9h8Wq"
      },
      "source": [
        "Cada número representa una elección en un menú dropdown (desplegable)\n",
        "\n",
        "\n",
        "![menu.png](data:image/png;base64,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)\n",
        "\n",
        "Pero algunas personas ingresaron manualmente el medio o la red social correspondiente, y hay que hacer un trabajo similar al que hicimos en los notebooks anteriores para limpiarlo."
      ]
    },
    {
      "cell_type": "markdown",
      "source": [
        "# Algunos ejercicios para trabajar con este dataset\n",
        "\n",
        "1.   Consideremos la columna '0_redesSociales'. En esta columna, se preguntó a los participantes qué redes sociales usan para informarse. Los participantes podían elegir varias opciones de una seria de respuestas prefijadas. Dichas respuestas se codifican en la base de datos de la siguiente forma:\n",
        "\n",
        "*   **Facebook** corresponde a 1\n",
        "*   **Instagram** corresponde a 2\n",
        "*   **Twitter** corresponde a 3\n",
        "*   **Tik Tok** corresponde a 4\n",
        "*   **LinkedIn** corresponde a 5\n",
        "\n",
        "    Observamos, no obstante, que muchas personas usaron el campo libre para escribir información redundante (\"Instagram,youtube\") o bien pusieron otras redes que no estaban contempladas (\"3,2,Reddit\") o bien pusieron respuestas completamente diferences (\"No las uso para informarme.\"). \n",
        "\n",
        "    La consigna es pensar un criterio de uniformidad que respete el código original (o sea, Facebook debe ir a 1, Instagram a 2, etc) de forma tal que cada entrada conste de números separados por comas, y las comas representen las 5 categorías originales, más otras pensadas por Ud. para uniformizar los datos. Luego, aplicar el criterio a los datos.\n",
        "\n",
        "2.   Hay un campo llamado '0_youtube'. La pregunta es qué canales de YouTube usa la persona para informarse. **Este campo es muy heterogeneo.** La consigna es animarse a codificarlo de alguna forma, introduciendo categorías y números que las representen, y que todas las entradas de la columna pasen a ser listas de números.\n",
        "\n",
        "3.   Implementar un código corrector de datos que se base en buscar la distancia de cada entra de una columna a un conjunto de palabras prefijadas. Armar un dataset de ejemplo que conste de 3 o 4 palabras, algunas de ellas escritas con errores ortográficos o bien con omisión de letras, y usar la función para corregir estos errores.\n",
        "\n",
        "      Ayuda: Una buena opción para empezar es la distancia de Levenshtein, que se basa en calcular el número total de letras que hay que insertar, borrar, o sustituir por otra para transformar una palabra en la otra. Una ventaja respecto a otras métricas es que la distancia de Levenshtein no requiere que las palabras que se comparan sean de la misma longitud.  En este link (https://stackabuse.com/levenshtein-distance-and-text-similarity-in-python/) hay una descripción de la métrica (en inglés). En este otro link (https://pypi.org/project/python-Levenshtein/0.12.0/) hay un módulo de Python donde se implementa, así no lo tienen que hacer ustedes."
      ],
      "metadata": {
        "id": "_q8LKWcZjd7W"
      }
    }
  ]
}