{
  "nbformat": 4,
  "nbformat_minor": 0,
  "metadata": {
    "colab": {
      "provenance": [],
      "include_colab_link": true
    },
    "kernelspec": {
      "name": "python3",
      "display_name": "Python 3"
    },
    "language_info": {
      "name": "python"
    }
  },
  "cells": [
    {
      "cell_type": "markdown",
      "metadata": {
        "id": "view-in-github",
        "colab_type": "text"
      },
      "source": [
        "<a href=\"https://colab.research.google.com/github/PabloDiosquez/Laboratorio_de_Datos_UBA/blob/main/Clase_2%2C_primera_parte_tipos_de_datos_en_Python.ipynb\" target=\"_parent\"><img src=\"https://colab.research.google.com/assets/colab-badge.svg\" alt=\"Open In Colab\"/></a>"
      ]
    },
    {
      "cell_type": "markdown",
      "metadata": {
        "id": "Er_x4oRJAJSH"
      },
      "source": [
        "En la primera parte de la clase 2 veremos algunos tipos de datos básicos de Python. **Esta Notebook no presenta una introducción exhaustiva, para eso recomendamos leer los tutoriales en el campus virtual de la materia.**\n",
        "\n",
        "# **Números y strings**\n",
        "\n",
        "En primer lugar, Python puede manejar enteros en distintas bases, números con coma flotante y números complejos."
      ]
    },
    {
      "cell_type": "code",
      "metadata": {
        "id": "enQjE0eOAFI3"
      },
      "source": [
        "a = 8      \n",
        "b = 8.0     \n",
        "c = 1.4e80 \n",
        "d = 0b100   \n",
        "e = 43.2 + 3j"
      ],
      "execution_count": null,
      "outputs": []
    },
    {
      "cell_type": "markdown",
      "metadata": {
        "id": "FME4uGyTBC9v"
      },
      "source": [
        "Podemos verificar el tipo de datos usando type()"
      ]
    },
    {
      "cell_type": "code",
      "metadata": {
        "id": "2xJ2ODP-BRzP",
        "colab": {
          "base_uri": "https://localhost:8080/"
        },
        "outputId": "df0cda96-36b7-44e2-8f5a-9c62d6eea198"
      },
      "source": [
        "print(type(a))\n",
        "print(type(b))\n",
        "print(type(c))\n",
        "print(type(d))\n",
        "print(type(e))"
      ],
      "execution_count": null,
      "outputs": [
        {
          "output_type": "stream",
          "text": [
            "<class 'int'>\n",
            "<class 'float'>\n",
            "<class 'float'>\n",
            "<class 'int'>\n",
            "<class 'complex'>\n"
          ],
          "name": "stdout"
        }
      ]
    },
    {
      "cell_type": "markdown",
      "metadata": {
        "id": "biRu4jfCBoJ0"
      },
      "source": [
        "Por supuesto, hay límites al tamaño de las variables que se pueden guardar en memoria.\n",
        "\n",
        "En el caso de números con coma flotante, el número más grande posible (en módulo) es cercano a $1.8 \\times 10^{308}$, mientras que el número con coma flotante positivo más pequelo es $5 \\times 10^{-324}$.\n",
        "\n",
        "Todo lo que está por arriba de $1.8 \\times 10^{308}$ es infinito y todo lo que está por debajo de $5 \\times 10^{-324}$ es 0."
      ]
    },
    {
      "cell_type": "code",
      "metadata": {
        "id": "3Zv9rD9dFMLN",
        "colab": {
          "base_uri": "https://localhost:8080/"
        },
        "outputId": "da55568f-4062-4baf-f856-d8416b3fdd60"
      },
      "source": [
        "print(1.8e308*10)\n",
        "print(5e-324/10)"
      ],
      "execution_count": null,
      "outputs": [
        {
          "output_type": "stream",
          "text": [
            "inf\n",
            "0.0\n"
          ],
          "name": "stdout"
        }
      ]
    },
    {
      "cell_type": "markdown",
      "metadata": {
        "id": "mC_e0UiwFZa9"
      },
      "source": [
        "Otro tipo de dato común son los strings (str).\n"
      ]
    },
    {
      "cell_type": "code",
      "metadata": {
        "id": "1itkv6tHF197",
        "colab": {
          "base_uri": "https://localhost:8080/"
        },
        "outputId": "d573e313-4c1c-43bd-d3ef-379d3d1c60fe"
      },
      "source": [
        "a = \"hola mundo\"\n",
        "b = 'mucho gusto'\n",
        "print(type(a))\n",
        "print(type(b))\n",
        "print(a)\n",
        "print(b)"
      ],
      "execution_count": null,
      "outputs": [
        {
          "output_type": "stream",
          "text": [
            "<class 'str'>\n",
            "<class 'str'>\n",
            "hola mundo\n",
            "mucho gusto\n"
          ],
          "name": "stdout"
        }
      ]
    },
    {
      "cell_type": "markdown",
      "metadata": {
        "id": "nDEPaZw9GB2r"
      },
      "source": [
        "Los strings se pueden delimitar con comillas simples o dobles.\n",
        "Esto es útil si quiero incluir comillas simples en el string (encierro con dobles) o si quiero incluir comillas dobles (encierro con simples)"
      ]
    },
    {
      "cell_type": "code",
      "metadata": {
        "id": "2ReB2-UEGRGh",
        "colab": {
          "base_uri": "https://localhost:8080/"
        },
        "outputId": "2a88d7fe-fda9-4685-9a97-40d10c8ca27c"
      },
      "source": [
        "a = \"Una comilla simple ' en mi string\"\n",
        "b = 'Una comilla doble \" en mi string'\n",
        "print(a)\n",
        "print(b)\n"
      ],
      "execution_count": null,
      "outputs": [
        {
          "output_type": "stream",
          "text": [
            "Una comilla simple ' en mi string\n",
            "Una comilla doble \" en mi string\n"
          ],
          "name": "stdout"
        }
      ]
    },
    {
      "cell_type": "markdown",
      "metadata": {
        "id": "KWGkLIPZGasL"
      },
      "source": [
        "Pueden verificar que esto no funciona si encierro con el mismo tipo de comillas que usé dentro del string. Esto puede hacerse también usando \\\\' y \\\\\" en lugar de ' y \". La barra delante de un caracter se denomina secuencia de escape y hace que ese caracter reciba un tratamiento especial.\n",
        "\n",
        "Hay varios ejemplos, tales como \\\\n para una nueva linea, \\\\t para una tabulación, o \\\\\\ si quiero que aparezca una sola barra invertida.\n",
        "\n"
      ]
    },
    {
      "cell_type": "code",
      "metadata": {
        "id": "orQKYK9DHRic",
        "colab": {
          "base_uri": "https://localhost:8080/"
        },
        "outputId": "cb289706-2d28-4703-e7a1-5ee6ce284b43"
      },
      "source": [
        "print(\"hola\\nmundo\")\n",
        "print(\"hola\\tmundo\")\n",
        "print(\"hola\\\\mundo\")"
      ],
      "execution_count": null,
      "outputs": [
        {
          "output_type": "stream",
          "text": [
            "hola\n",
            "mundo\n",
            "hola\tmundo\n",
            "hola\\mundo\n"
          ],
          "name": "stdout"
        }
      ]
    },
    {
      "cell_type": "markdown",
      "metadata": {
        "id": "ug4Ov1isHjSB"
      },
      "source": [
        "Puede que en alguna aplicación no nos interese el uso de la barra invertida para señalizar secuencias de escape. En ese caso podemos agregar una r delante del string para ignorar sistemáticamente todas ellas.\n"
      ]
    },
    {
      "cell_type": "code",
      "metadata": {
        "id": "AjKduVf8H5iH",
        "colab": {
          "base_uri": "https://localhost:8080/"
        },
        "outputId": "744d3243-41ff-4c6f-97f0-4fff3cc663d5"
      },
      "source": [
        "print(r'hola\\nmundo')"
      ],
      "execution_count": null,
      "outputs": [
        {
          "output_type": "stream",
          "text": [
            "hola\\nmundo\n"
          ],
          "name": "stdout"
        }
      ]
    },
    {
      "cell_type": "markdown",
      "metadata": {
        "id": "Reb38kkyIrjN"
      },
      "source": [
        "Por último, es posible encerrar strings en triple comillas de forma tal que se reproducen todas las barras invertidas y además no es necesario usar secuencia de escape para empezar nuevas lineas:"
      ]
    },
    {
      "cell_type": "code",
      "metadata": {
        "id": "HL-cBSetJB9P",
        "colab": {
          "base_uri": "https://localhost:8080/"
        },
        "outputId": "48f6e029-d1ce-40a8-ebb5-2ce18dfb4e7a"
      },
      "source": [
        "frase = \"\"\"hola\n",
        "mundo\n",
        "\\que tal?\"\"\"\n",
        "print(frase)"
      ],
      "execution_count": null,
      "outputs": [
        {
          "output_type": "stream",
          "text": [
            "hola\n",
            "mundo\n",
            "\\que tal?\n"
          ],
          "name": "stdout"
        }
      ]
    },
    {
      "cell_type": "markdown",
      "metadata": {
        "id": "vMvXHYEWKbGk"
      },
      "source": [
        "Por último, hay un tipo de datos que se utiliza para codificar variables booleanas y tiene dos valores posibles True (verdadero) y False (falso). Podemos operar con estas variables usando operados booleanos como and y or"
      ]
    },
    {
      "cell_type": "code",
      "metadata": {
        "id": "I0DJhQGuKn8k",
        "colab": {
          "base_uri": "https://localhost:8080/"
        },
        "outputId": "2584a9a2-d6cf-4e62-9a82-8023c223530e"
      },
      "source": [
        "print(True or False)\n",
        "print(True and False)"
      ],
      "execution_count": null,
      "outputs": [
        {
          "output_type": "stream",
          "text": [
            "True\n",
            "False\n"
          ],
          "name": "stdout"
        }
      ]
    },
    {
      "cell_type": "markdown",
      "metadata": {
        "id": "pAlGrCvzKxi9"
      },
      "source": [
        "El resultado de evaluar una proposición es una variable booleana\n"
      ]
    },
    {
      "cell_type": "code",
      "metadata": {
        "id": "l-h6DKuUK4U0",
        "colab": {
          "base_uri": "https://localhost:8080/"
        },
        "outputId": "bcd8a397-bf5d-4224-d416-96fd7486c02a"
      },
      "source": [
        "print(3==3)\n",
        "print(3>2 or 2>3)\n",
        "print(2!=0 and 5<0)\n"
      ],
      "execution_count": null,
      "outputs": [
        {
          "output_type": "stream",
          "text": [
            "True\n",
            "True\n",
            "False\n"
          ],
          "name": "stdout"
        }
      ]
    },
    {
      "cell_type": "markdown",
      "metadata": {
        "id": "SVYeSm-BJblB"
      },
      "source": [
        "# **Listas**\n",
        "\n",
        "Las listas son una colección ordenada de elementos de distinto tipo, indexada desde 0 hasta n-1, donde n es la cantidad de elementos de la lista. La cantidad de elementos de la lista puede obtenerse usando la función len()"
      ]
    },
    {
      "cell_type": "code",
      "metadata": {
        "id": "lEa-peZ7Jvms",
        "colab": {
          "base_uri": "https://localhost:8080/"
        },
        "outputId": "dc43d545-cc65-4549-ccd2-8f235e72121e"
      },
      "source": [
        "a = [1, 1.2, [3], True, 'hola', 3+3j]\n",
        "print(len(a))\n",
        "print(a[0])\n",
        "print(a[len(a)-1])"
      ],
      "execution_count": null,
      "outputs": [
        {
          "output_type": "stream",
          "text": [
            "6\n",
            "1\n",
            "(3+3j)\n"
          ],
          "name": "stdout"
        }
      ]
    },
    {
      "cell_type": "markdown",
      "metadata": {
        "id": "1VcjZK9NKMJy"
      },
      "source": [
        "Notamos que las listas también pueden tener a otras listas como elementos (es el caso del elemento en la posición 2 de la lista de arriba).\n",
        "\n",
        "Es posible seleccionar slices de listas usando una notación del estilo i:j, lo cual da una lista con los elementos desde la posición i a la j-1 (empezando desde 0).\n"
      ]
    },
    {
      "cell_type": "code",
      "metadata": {
        "id": "fv8pAxKWLbmk",
        "colab": {
          "base_uri": "https://localhost:8080/"
        },
        "outputId": "2783c234-a556-4cfa-dc7e-b51c8cd469e0"
      },
      "source": [
        "print(a[2:5])"
      ],
      "execution_count": null,
      "outputs": [
        {
          "output_type": "stream",
          "text": [
            "[[3], True, 'hola']\n"
          ],
          "name": "stdout"
        }
      ]
    },
    {
      "cell_type": "markdown",
      "metadata": {
        "id": "lOYsE36sL2p2"
      },
      "source": [
        "Hay otras formas más sofisticadas de hacer slices (por ejemplo, con números negativos) pero no lo necesitamos todavía. \n",
        "\n",
        "En Python, todo loop for se itera sobre una lista."
      ]
    },
    {
      "cell_type": "code",
      "metadata": {
        "id": "iYYL45DkMEEb",
        "colab": {
          "base_uri": "https://localhost:8080/"
        },
        "outputId": "e8bf9746-e9ed-4791-a236-09043fe9dc2d"
      },
      "source": [
        "for item in a:\n",
        "  print(item)"
      ],
      "execution_count": null,
      "outputs": [
        {
          "output_type": "stream",
          "text": [
            "1\n",
            "1.2\n",
            "[3]\n",
            "True\n",
            "hola\n",
            "(3+3j)\n"
          ],
          "name": "stdout"
        }
      ]
    },
    {
      "cell_type": "markdown",
      "metadata": {
        "id": "TMwLte8iMMWm"
      },
      "source": [
        "Si queremos iterar entre los números i, j-1 podemos usar la función range(), que genera una lista de enteros entre esos valores."
      ]
    },
    {
      "cell_type": "code",
      "metadata": {
        "id": "gtSzXgv3ML4e",
        "colab": {
          "base_uri": "https://localhost:8080/"
        },
        "outputId": "1ed2b9e4-df0d-498d-988b-06206bbbe7ea"
      },
      "source": [
        "for n in range(4,10):\n",
        "  print(n)"
      ],
      "execution_count": null,
      "outputs": [
        {
          "output_type": "stream",
          "text": [
            "4\n",
            "5\n",
            "6\n",
            "7\n",
            "8\n",
            "9\n"
          ],
          "name": "stdout"
        }
      ]
    },
    {
      "cell_type": "markdown",
      "metadata": {
        "id": "Sl9O607YMMS6"
      },
      "source": [
        "Hay muchas operaciones que podemos hacer con listas, como por ejemplo concatenarlas con el operador suma. Además, podemos trabajar con strings como si fuesen listas."
      ]
    },
    {
      "cell_type": "code",
      "metadata": {
        "id": "--Sioc0QM3fC",
        "colab": {
          "base_uri": "https://localhost:8080/"
        },
        "outputId": "0db55367-5bec-44be-f273-d32ac13bd61c"
      },
      "source": [
        "a = [1,2,3]\n",
        "b = ['a', 'b', 'c']\n",
        "print(a+b)\n",
        "a = 'supercalifragilistico'\n",
        "print(a[4:10])\n",
        "print(a+ ' abracadabra')"
      ],
      "execution_count": null,
      "outputs": [
        {
          "output_type": "stream",
          "text": [
            "[1, 2, 3, 'a', 'b', 'c']\n",
            "rcalif\n",
            "supercalifragilistico abracadabra\n"
          ],
          "name": "stdout"
        }
      ]
    },
    {
      "cell_type": "markdown",
      "metadata": {
        "id": "2ozLQozPNKed"
      },
      "source": [
        "Una lista de Python es (como todo) un objeto y posee métodos. \n",
        "Los métodos son funciones específicas que solo se pueden aplicar a ese objeto. \n",
        "Tres ejemplos son revertir la lista con lista.reverse(), agregar un elemento o una lista al final con lista.append(), y remover un elemento de una posición determinada con lista.pop().\n",
        "\n",
        "Es importante notar que aplicar los métodos no devuelven la lista modificada: únicamente la modifican en memoria, sin devolver nada. Por ejemplo:"
      ]
    },
    {
      "cell_type": "code",
      "metadata": {
        "id": "0HwL7l5fNk9k",
        "colab": {
          "base_uri": "https://localhost:8080/"
        },
        "outputId": "ea1a3b0d-b9dd-4625-dcea-b849605dd3db"
      },
      "source": [
        "a = [1, 1.2, [3], True, 'hola', 3+3j]\n",
        "a.reverse()\n",
        "print(a)"
      ],
      "execution_count": null,
      "outputs": [
        {
          "output_type": "stream",
          "text": [
            "[(3+3j), 'hola', True, [3], 1.2, 1]\n"
          ],
          "name": "stdout"
        }
      ]
    },
    {
      "cell_type": "markdown",
      "metadata": {
        "id": "PiyvYLhyN42m"
      },
      "source": [
        "Pero si hago:"
      ]
    },
    {
      "cell_type": "code",
      "metadata": {
        "id": "6waO-M6EN6FK",
        "colab": {
          "base_uri": "https://localhost:8080/"
        },
        "outputId": "6f11b8fb-b6d1-4e3b-ea78-2d4624a8758b"
      },
      "source": [
        "a = [1, 1.2, [3], True, 'hola', 3+3j]\n",
        "print(a.reverse())"
      ],
      "execution_count": null,
      "outputs": [
        {
          "output_type": "stream",
          "text": [
            "None\n"
          ],
          "name": "stdout"
        }
      ]
    },
    {
      "cell_type": "markdown",
      "metadata": {
        "id": "jJCgj32uN_zb"
      },
      "source": [
        "A pesar de que no devuelve nada, en la segunda linea del código aplicamos el método reverse, así que ahora la lista a está invertida:"
      ]
    },
    {
      "cell_type": "code",
      "metadata": {
        "id": "K-IjqiVKOSlQ",
        "colab": {
          "base_uri": "https://localhost:8080/"
        },
        "outputId": "fcda8829-82de-4192-948b-4a7851a36634"
      },
      "source": [
        "print(a)"
      ],
      "execution_count": null,
      "outputs": [
        {
          "output_type": "stream",
          "text": [
            "[(3+3j), 'hola', True, [3], 1.2, 1]\n"
          ],
          "name": "stdout"
        }
      ]
    },
    {
      "cell_type": "markdown",
      "metadata": {
        "id": "Eq8Bvsl3OWjm"
      },
      "source": [
        "# **Diccionarios**\n",
        "\n",
        "El último tipo de dato natural a Python que vamos a repasar son los diccionarios.\n",
        "\n",
        "Un diccionario consta de llaves, valores y un mapeo entre ambos que le asigna un valor a cada llave:\n",
        "\n",
        "![dict.png](data:image/png;base64,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)\n",
        "\n",
        "\n"
      ]
    },
    {
      "cell_type": "code",
      "metadata": {
        "id": "s96EWG27QBvK",
        "colab": {
          "base_uri": "https://localhost:8080/"
        },
        "outputId": "8788c09b-2c06-47d1-d00a-de18a36f5953"
      },
      "source": [
        "a = {'llave1':'hola', 'llave2':[True,False,3.5], 39:'hola mundo', 49.324:12}\n",
        "print(a['llave1'])\n",
        "print(a['llave2'])\n",
        "print(a[39])\n",
        "print(a[49.324])"
      ],
      "execution_count": null,
      "outputs": [
        {
          "output_type": "stream",
          "text": [
            "hola\n",
            "[True, False, 3.5]\n",
            "hola mundo\n",
            "12\n"
          ],
          "name": "stdout"
        }
      ]
    },
    {
      "cell_type": "markdown",
      "metadata": {
        "id": "pGUMMVuoQdWL"
      },
      "source": [
        "Vemos que podemos usar el tipo de datos que queramos como llaves (aunque no listas) El problema surge cuando hay más de una llave con el mismo valor, porque en ese caso no sabemos a que valor hacemos referencia:"
      ]
    },
    {
      "cell_type": "code",
      "metadata": {
        "id": "aFjNaHbEQqSI",
        "colab": {
          "base_uri": "https://localhost:8080/"
        },
        "outputId": "d707cc4f-85f7-47da-b9b1-5330e31c7250"
      },
      "source": [
        "a = {'llave1':'hola', 'llave1':[True,False,3.5], 39:'hola mundo', 49.324:12}\n",
        "print(a['llave1'])"
      ],
      "execution_count": null,
      "outputs": [
        {
          "output_type": "stream",
          "text": [
            "[True, False, 3.5]\n"
          ],
          "name": "stdout"
        }
      ]
    },
    {
      "cell_type": "markdown",
      "metadata": {
        "id": "uZH83BqwQyvp"
      },
      "source": [
        "Vemos que obtenemos el último de los elementos con esa llave.\n",
        "Si queremos saber cuales son todas las llaves de un diccionario podemos usar el método dict.keys()"
      ]
    },
    {
      "cell_type": "code",
      "metadata": {
        "id": "FhVVbOXJQ561",
        "colab": {
          "base_uri": "https://localhost:8080/"
        },
        "outputId": "a8dbddcf-2f01-4154-8281-ebab7f7e9bfa"
      },
      "source": [
        "llaves = a.keys()\n",
        "print(llaves)\n"
      ],
      "execution_count": null,
      "outputs": [
        {
          "output_type": "stream",
          "text": [
            "dict_keys(['llave1', 39, 49.324])\n"
          ],
          "name": "stdout"
        }
      ]
    },
    {
      "cell_type": "markdown",
      "metadata": {
        "id": "Ec0F4BzbRKRE"
      },
      "source": [
        "Que podemos convertir a una lista con la funcion list()"
      ]
    },
    {
      "cell_type": "code",
      "metadata": {
        "id": "tifJ7A83RM-O",
        "colab": {
          "base_uri": "https://localhost:8080/"
        },
        "outputId": "1a95d89e-3cc0-490c-98e7-33be246d3ecd"
      },
      "source": [
        "print(list(llaves))"
      ],
      "execution_count": null,
      "outputs": [
        {
          "output_type": "stream",
          "text": [
            "['llave1', 39, 49.324]\n"
          ],
          "name": "stdout"
        }
      ]
    }
  ]
}