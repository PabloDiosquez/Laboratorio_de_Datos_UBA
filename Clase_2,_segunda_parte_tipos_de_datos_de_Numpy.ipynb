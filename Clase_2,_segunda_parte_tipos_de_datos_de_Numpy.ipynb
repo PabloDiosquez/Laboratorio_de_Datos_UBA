{
  "nbformat": 4,
  "nbformat_minor": 0,
  "metadata": {
    "colab": {
      "provenance": [],
      "include_colab_link": true
    },
    "kernelspec": {
      "name": "python3",
      "display_name": "Python 3"
    },
    "language_info": {
      "name": "python"
    }
  },
  "cells": [
    {
      "cell_type": "markdown",
      "metadata": {
        "id": "view-in-github",
        "colab_type": "text"
      },
      "source": [
        "<a href=\"https://colab.research.google.com/github/PabloDiosquez/Laboratorio_de_Datos_UBA/blob/main/Clase_2%2C_segunda_parte_tipos_de_datos_de_Numpy.ipynb\" target=\"_parent\"><img src=\"https://colab.research.google.com/assets/colab-badge.svg\" alt=\"Open In Colab\"/></a>"
      ]
    },
    {
      "cell_type": "markdown",
      "metadata": {
        "id": "z5lQmN-cR2SI"
      },
      "source": [
        "La forma en que pensamos en listas es como secuencias de elementos, no como en vectores o matrices. Podemos aproximarnos a la idea de una matriz numérica utilizando listas dentro de listas, como muestra el siguiente ejemplo:"
      ]
    },
    {
      "cell_type": "code",
      "metadata": {
        "id": "du1iA9w-SJNk",
        "colab": {
          "base_uri": "https://localhost:8080/"
        },
        "outputId": "87d007bd-71d4-48f7-99da-1aca18c1d691"
      },
      "source": [
        "a = [[2,5,1],[3,10,12],[2,0,0]]\n",
        "print(a[0][0])\n",
        "print(a[1][2])"
      ],
      "execution_count": null,
      "outputs": [
        {
          "output_type": "stream",
          "text": [
            "2\n",
            "12\n"
          ],
          "name": "stdout"
        }
      ]
    },
    {
      "cell_type": "markdown",
      "metadata": {
        "id": "WjQUEJp7SfDy"
      },
      "source": [
        "Es decir, esta lista se llama con dos índices i,j de forma tal que representa a la siguiente matriz:\n",
        "\n",
        "![matrix.png](data:image/png;base64,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)\n",
        "\n",
        "El problema con esto es que las funciones y métodos de Python no se comportan como esperaríamos si estas fuesen matrices. Por ejemplo, la operación suma no devuelve la suma elemento a elemento, sino la concatenación de la listas:"
      ]
    },
    {
      "cell_type": "code",
      "metadata": {
        "id": "JoSFhXkXTfBv",
        "colab": {
          "base_uri": "https://localhost:8080/"
        },
        "outputId": "27468e43-de05-4482-bcb9-cde9ef13736b"
      },
      "source": [
        "a = [[2,5,1],[3,10,12],[2,0,0]]\n",
        "b = [[2,5,1],[3,10,12],[2,0,0]]\n",
        "print(a+b)"
      ],
      "execution_count": null,
      "outputs": [
        {
          "output_type": "stream",
          "text": [
            "[[2, 5, 1], [3, 10, 12], [2, 0, 0], [2, 5, 1], [3, 10, 12], [2, 0, 0]]\n"
          ],
          "name": "stdout"
        }
      ]
    },
    {
      "cell_type": "markdown",
      "metadata": {
        "id": "BPmE_vPiTo-M"
      },
      "source": [
        "Pero no todo está perdido. La librería de Python llamada Numpy se inventó precisamente para poder transformar listas en vectores y listas de listas en matrices, de forma tal que cumplan con nuestras intuiciones de álgebra lineal."
      ]
    },
    {
      "cell_type": "code",
      "metadata": {
        "id": "2zsChxZPT0xm",
        "colab": {
          "base_uri": "https://localhost:8080/"
        },
        "outputId": "62917a8c-85a1-45df-9fee-099c3de18868"
      },
      "source": [
        "import numpy as np\n",
        "a = np.array([[2,5,1],[3,10,12],[2,0,0]])\n",
        "b = np.array([[2,5,1],[3,10,12],[2,0,0]])\n",
        "print(a+b)\n",
        "print(type(a))\n"
      ],
      "execution_count": null,
      "outputs": [
        {
          "output_type": "stream",
          "text": [
            "[[ 4 10  2]\n",
            " [ 6 20 24]\n",
            " [ 4  0  0]]\n",
            "<class 'numpy.ndarray'>\n"
          ],
          "name": "stdout"
        }
      ]
    },
    {
      "cell_type": "markdown",
      "metadata": {
        "id": "Tez2yFPOUBaf"
      },
      "source": [
        "Es importante notar que Numpy trabaja con datos numéricos y que por lo tanto podemos encontrar un error si intentamos operar aritméticamente con cualquier array."
      ]
    },
    {
      "cell_type": "code",
      "metadata": {
        "id": "AOYfV1IdUKOo",
        "colab": {
          "base_uri": "https://localhost:8080/",
          "height": 207
        },
        "outputId": "10e5b71c-4449-4e1d-ceac-59067c3cb4af"
      },
      "source": [
        "a = np.array(['hola', 'mundo'])\n",
        "b = np.array(['como', 'va'])\n",
        "print(a+b)"
      ],
      "execution_count": null,
      "outputs": [
        {
          "output_type": "error",
          "ename": "UFuncTypeError",
          "evalue": "ignored",
          "traceback": [
            "\u001b[0;31m---------------------------------------------------------------------------\u001b[0m",
            "\u001b[0;31mUFuncTypeError\u001b[0m                            Traceback (most recent call last)",
            "\u001b[0;32m<ipython-input-4-a0043e5c09ae>\u001b[0m in \u001b[0;36m<module>\u001b[0;34m()\u001b[0m\n\u001b[1;32m      1\u001b[0m \u001b[0ma\u001b[0m \u001b[0;34m=\u001b[0m \u001b[0mnp\u001b[0m\u001b[0;34m.\u001b[0m\u001b[0marray\u001b[0m\u001b[0;34m(\u001b[0m\u001b[0;34m[\u001b[0m\u001b[0;34m'hola'\u001b[0m\u001b[0;34m,\u001b[0m \u001b[0;34m'mundo'\u001b[0m\u001b[0;34m]\u001b[0m\u001b[0;34m)\u001b[0m\u001b[0;34m\u001b[0m\u001b[0;34m\u001b[0m\u001b[0m\n\u001b[1;32m      2\u001b[0m \u001b[0mb\u001b[0m \u001b[0;34m=\u001b[0m \u001b[0mnp\u001b[0m\u001b[0;34m.\u001b[0m\u001b[0marray\u001b[0m\u001b[0;34m(\u001b[0m\u001b[0;34m[\u001b[0m\u001b[0;34m'como'\u001b[0m\u001b[0;34m,\u001b[0m \u001b[0;34m'va'\u001b[0m\u001b[0;34m]\u001b[0m\u001b[0;34m)\u001b[0m\u001b[0;34m\u001b[0m\u001b[0;34m\u001b[0m\u001b[0m\n\u001b[0;32m----> 3\u001b[0;31m \u001b[0mprint\u001b[0m\u001b[0;34m(\u001b[0m\u001b[0ma\u001b[0m\u001b[0;34m+\u001b[0m\u001b[0mb\u001b[0m\u001b[0;34m)\u001b[0m\u001b[0;34m\u001b[0m\u001b[0;34m\u001b[0m\u001b[0m\n\u001b[0m",
            "\u001b[0;31mUFuncTypeError\u001b[0m: ufunc 'add' did not contain a loop with signature matching types (dtype('<U5'), dtype('<U5')) -> dtype('<U5')"
          ]
        }
      ]
    },
    {
      "cell_type": "markdown",
      "metadata": {
        "id": "6zKSr0AHUmcg"
      },
      "source": [
        "También es importante que las dimensiones sean consistentes con las operaciones que queremos realizar."
      ]
    },
    {
      "cell_type": "code",
      "metadata": {
        "id": "ABVwohwBUwaB",
        "colab": {
          "base_uri": "https://localhost:8080/",
          "height": 353
        },
        "outputId": "46280d83-44b5-4cf3-c628-b281ac58fa6b"
      },
      "source": [
        "a = np.array([[2,5,1],[3,10,12],[2,0,0]])\n",
        "b = np.array([[2,5,1],[3,10,12],[2,0,0],[10,10,10]])\n",
        "\n",
        "# estas operaciones entre matrices son válidas\n",
        "print(a+a)\n",
        "print(a*a)\n",
        "\n",
        "# estas operaciones son invalidas\n",
        "print(a+b)\n",
        "print(a*b)\n",
        "print(b*a)"
      ],
      "execution_count": null,
      "outputs": [
        {
          "output_type": "stream",
          "text": [
            "[[ 4 10  2]\n",
            " [ 6 20 24]\n",
            " [ 4  0  0]]\n",
            "[[  4  25   1]\n",
            " [  9 100 144]\n",
            " [  4   0   0]]\n"
          ],
          "name": "stdout"
        },
        {
          "output_type": "error",
          "ename": "ValueError",
          "evalue": "ignored",
          "traceback": [
            "\u001b[0;31m---------------------------------------------------------------------------\u001b[0m",
            "\u001b[0;31mValueError\u001b[0m                                Traceback (most recent call last)",
            "\u001b[0;32m<ipython-input-5-e8c01d2ebccf>\u001b[0m in \u001b[0;36m<module>\u001b[0;34m()\u001b[0m\n\u001b[1;32m      7\u001b[0m \u001b[0;34m\u001b[0m\u001b[0m\n\u001b[1;32m      8\u001b[0m \u001b[0;31m# estas operaciones son invalidas\u001b[0m\u001b[0;34m\u001b[0m\u001b[0;34m\u001b[0m\u001b[0;34m\u001b[0m\u001b[0m\n\u001b[0;32m----> 9\u001b[0;31m \u001b[0mprint\u001b[0m\u001b[0;34m(\u001b[0m\u001b[0ma\u001b[0m\u001b[0;34m+\u001b[0m\u001b[0mb\u001b[0m\u001b[0;34m)\u001b[0m\u001b[0;34m\u001b[0m\u001b[0;34m\u001b[0m\u001b[0m\n\u001b[0m\u001b[1;32m     10\u001b[0m \u001b[0mprint\u001b[0m\u001b[0;34m(\u001b[0m\u001b[0ma\u001b[0m\u001b[0;34m*\u001b[0m\u001b[0mb\u001b[0m\u001b[0;34m)\u001b[0m\u001b[0;34m\u001b[0m\u001b[0;34m\u001b[0m\u001b[0m\n\u001b[1;32m     11\u001b[0m \u001b[0mprint\u001b[0m\u001b[0;34m(\u001b[0m\u001b[0mb\u001b[0m\u001b[0;34m*\u001b[0m\u001b[0ma\u001b[0m\u001b[0;34m)\u001b[0m\u001b[0;34m\u001b[0m\u001b[0;34m\u001b[0m\u001b[0m\n",
            "\u001b[0;31mValueError\u001b[0m: operands could not be broadcast together with shapes (3,3) (4,3) "
          ]
        }
      ]
    },
    {
      "cell_type": "markdown",
      "metadata": {
        "id": "-YzZat89WJZI"
      },
      "source": [
        "Notar que la operación de multiplicación actúa elemento a elemento. Por eso es imposible hacer el producto elemento a elemento de un array de $3 \\times 3$ por uno de $4 \\times 3$, no importa en que orden lo pongamos.\n",
        "\n",
        "Para hacer producto interno de matrices, usamos dot:"
      ]
    },
    {
      "cell_type": "code",
      "metadata": {
        "id": "EhNOZ91NWjbs",
        "colab": {
          "base_uri": "https://localhost:8080/"
        },
        "outputId": "cab56827-524c-4e22-9aae-80d5129ea850"
      },
      "source": [
        "print(np.dot(b,a))"
      ],
      "execution_count": null,
      "outputs": [
        {
          "output_type": "stream",
          "text": [
            "[[ 21  60  62]\n",
            " [ 60 115 123]\n",
            " [  4  10   2]\n",
            " [ 70 150 130]]\n"
          ],
          "name": "stdout"
        }
      ]
    },
    {
      "cell_type": "markdown",
      "metadata": {
        "id": "ehh38uSUWlCA"
      },
      "source": [
        "Obviamente, el orden opuesto da error:\n"
      ]
    },
    {
      "cell_type": "code",
      "metadata": {
        "id": "kJsq8LqFWna6",
        "colab": {
          "base_uri": "https://localhost:8080/",
          "height": 207
        },
        "outputId": "260e22b7-7be7-435e-9c49-5267709ff6d1"
      },
      "source": [
        "print(np.dot(a,b))"
      ],
      "execution_count": null,
      "outputs": [
        {
          "output_type": "error",
          "ename": "ValueError",
          "evalue": "ignored",
          "traceback": [
            "\u001b[0;31m---------------------------------------------------------------------------\u001b[0m",
            "\u001b[0;31mValueError\u001b[0m                                Traceback (most recent call last)",
            "\u001b[0;32m<ipython-input-7-f52e70b01c6f>\u001b[0m in \u001b[0;36m<module>\u001b[0;34m()\u001b[0m\n\u001b[0;32m----> 1\u001b[0;31m \u001b[0mprint\u001b[0m\u001b[0;34m(\u001b[0m\u001b[0mnp\u001b[0m\u001b[0;34m.\u001b[0m\u001b[0mdot\u001b[0m\u001b[0;34m(\u001b[0m\u001b[0ma\u001b[0m\u001b[0;34m,\u001b[0m\u001b[0mb\u001b[0m\u001b[0;34m)\u001b[0m\u001b[0;34m)\u001b[0m\u001b[0;34m\u001b[0m\u001b[0;34m\u001b[0m\u001b[0m\n\u001b[0m",
            "\u001b[0;32m<__array_function__ internals>\u001b[0m in \u001b[0;36mdot\u001b[0;34m(*args, **kwargs)\u001b[0m\n",
            "\u001b[0;31mValueError\u001b[0m: shapes (3,3) and (4,3) not aligned: 3 (dim 1) != 4 (dim 0)"
          ]
        }
      ]
    },
    {
      "cell_type": "markdown",
      "metadata": {
        "id": "BugCRz5FXgyA"
      },
      "source": [
        "¿Qué pasa con los arrays unidimensionales? ¿Entiende automáticamente Numpy que un array puede ser de $1 \\times n$ o de $n \\times 1$ dependiendo del producto que yo quiero hacer?"
      ]
    },
    {
      "cell_type": "code",
      "metadata": {
        "id": "DJx8XM_TXtzr",
        "colab": {
          "base_uri": "https://localhost:8080/"
        },
        "outputId": "b6526130-d6e7-4038-9f63-2cd311a1e737"
      },
      "source": [
        "a = np.array([[2,5,1],[3,10,12],[2,0,0],[10,10,10]])\n",
        "b = np.array([1,2,3])\n",
        "c = np.array([1,2,3,4])\n",
        "print(np.dot(a,b))\n",
        "print(np.dot(c,a))"
      ],
      "execution_count": null,
      "outputs": [
        {
          "output_type": "stream",
          "text": [
            "[15 59  2 60]\n",
            "[54 65 65]\n"
          ],
          "name": "stdout"
        }
      ]
    },
    {
      "cell_type": "markdown",
      "metadata": {
        "id": "F789e9_8X9_I"
      },
      "source": [
        "Aparentmente sí.\n",
        "¿Cómo podemos obtener la dimensión de un array? Usamos el método array.shape()"
      ]
    },
    {
      "cell_type": "code",
      "metadata": {
        "id": "0UiKz166YF76",
        "colab": {
          "base_uri": "https://localhost:8080/"
        },
        "outputId": "0a6968d2-48e9-4b3a-83c6-cd1672cdcfc7"
      },
      "source": [
        "print(a.shape)\n",
        "print(b.shape)\n",
        "print(c.shape)"
      ],
      "execution_count": null,
      "outputs": [
        {
          "output_type": "stream",
          "text": [
            "(4, 3)\n",
            "(3,)\n",
            "(4,)\n"
          ],
          "name": "stdout"
        }
      ]
    },
    {
      "cell_type": "markdown",
      "metadata": {
        "id": "2nV1kpZnYMzJ"
      },
      "source": [
        "También podemos transponer con np.transpose()"
      ]
    },
    {
      "cell_type": "code",
      "metadata": {
        "id": "bi_csXe9YR1D",
        "colab": {
          "base_uri": "https://localhost:8080/"
        },
        "outputId": "ae2c1b94-c637-43b2-a797-316676a1836a"
      },
      "source": [
        "print(a)\n",
        "print(np.transpose(a))"
      ],
      "execution_count": null,
      "outputs": [
        {
          "output_type": "stream",
          "text": [
            "[[ 2  5  1]\n",
            " [ 3 10 12]\n",
            " [ 2  0  0]\n",
            " [10 10 10]]\n",
            "[[ 2  3  2 10]\n",
            " [ 5 10  0 10]\n",
            " [ 1 12  0 10]]\n"
          ],
          "name": "stdout"
        }
      ]
    },
    {
      "cell_type": "markdown",
      "metadata": {
        "id": "JCQ8YQHCYXjr"
      },
      "source": [
        "Además, podemos concatenar matrices siempre que elijamos dimensiones consistenes para hacerlo. Para eso, primero formamos una tupla (...,...,...) y después usamos np.concatenate indicando el eje (0=filas, 1=columnas). Por ejemplo:"
      ]
    },
    {
      "cell_type": "code",
      "metadata": {
        "id": "ChNBaWBKYlhb",
        "colab": {
          "base_uri": "https://localhost:8080/"
        },
        "outputId": "cfd5a088-7064-4506-b00d-71f1292456d3"
      },
      "source": [
        "a = np.array([[2,5,1],[3,10,12],[2,0,0],[10,10,10]])\n",
        "b = np.array([[2,5,1],[3,10,12],[2,0,0]])\n",
        "\n",
        "print(np.concatenate((a,b),axis=0))\n",
        "print(np.concatenate((b,b),axis=1))"
      ],
      "execution_count": null,
      "outputs": [
        {
          "output_type": "stream",
          "text": [
            "[[ 2  5  1]\n",
            " [ 3 10 12]\n",
            " [ 2  0  0]\n",
            " [10 10 10]\n",
            " [ 2  5  1]\n",
            " [ 3 10 12]\n",
            " [ 2  0  0]]\n",
            "[[ 2  5  1  2  5  1]\n",
            " [ 3 10 12  3 10 12]\n",
            " [ 2  0  0  2  0  0]]\n"
          ],
          "name": "stdout"
        }
      ]
    },
    {
      "cell_type": "markdown",
      "metadata": {
        "id": "oOseVD7fZL8d"
      },
      "source": [
        "Podemos elegir sub-matrices usando slicing de forma similar a cómo lo hicimos con listas:"
      ]
    },
    {
      "cell_type": "code",
      "metadata": {
        "id": "k2vBVW2zZUNZ",
        "colab": {
          "base_uri": "https://localhost:8080/"
        },
        "outputId": "056a79c8-2f14-4bc8-8d1b-feec396a7dbe"
      },
      "source": [
        "print(a)\n",
        "print(a[1:3,0:3])"
      ],
      "execution_count": null,
      "outputs": [
        {
          "output_type": "stream",
          "text": [
            "[[ 2  5  1]\n",
            " [ 3 10 12]\n",
            " [ 2  0  0]\n",
            " [10 10 10]]\n",
            "[[ 3 10 12]\n",
            " [ 2  0  0]]\n"
          ],
          "name": "stdout"
        }
      ]
    },
    {
      "cell_type": "markdown",
      "metadata": {
        "id": "HyQb-I8fZfim"
      },
      "source": [
        "Además, podemos seleccionar filas o columnas enteras usando : solo,"
      ]
    },
    {
      "cell_type": "code",
      "metadata": {
        "id": "QiYeYuJqZmU0",
        "colab": {
          "base_uri": "https://localhost:8080/"
        },
        "outputId": "2cafc5ff-468a-469a-ed9f-075dfefac5fd"
      },
      "source": [
        "print(a[:,1])\n",
        "print(a[1,:])"
      ],
      "execution_count": null,
      "outputs": [
        {
          "output_type": "stream",
          "text": [
            "[ 5 10  0 10]\n",
            "[ 3 10 12]\n"
          ],
          "name": "stdout"
        }
      ]
    },
    {
      "cell_type": "markdown",
      "metadata": {
        "id": "X2fD2fKaaCfd"
      },
      "source": [
        "A veces es importante averiguar los índices de un array donde se cumple una determinada condición. Eso puede hacerse con la función np.where() de Numpy:"
      ]
    },
    {
      "cell_type": "code",
      "metadata": {
        "id": "NdOGoL6TaOOE",
        "colab": {
          "base_uri": "https://localhost:8080/"
        },
        "outputId": "6abef7d3-3b2e-43be-854a-6863d670d077"
      },
      "source": [
        "a = np.array([[2,5,1],[3,10,12],[2,0,0],[10,10,10]])\n",
        "np.where(a>1)"
      ],
      "execution_count": null,
      "outputs": [
        {
          "output_type": "execute_result",
          "data": {
            "text/plain": [
              "(array([0, 0, 1, 1, 1, 2, 3, 3, 3]), array([0, 1, 0, 1, 2, 0, 0, 1, 2]))"
            ]
          },
          "metadata": {
            "tags": []
          },
          "execution_count": 14
        }
      ]
    },
    {
      "cell_type": "markdown",
      "metadata": {
        "id": "hEM4DSDnbAlo"
      },
      "source": [
        "Esto podemos usarlo directamente para indexar el array y extraer los valores que cumplen con la condición pedida:"
      ]
    },
    {
      "cell_type": "code",
      "metadata": {
        "id": "L9Bd2A_dbJDx",
        "colab": {
          "base_uri": "https://localhost:8080/"
        },
        "outputId": "ed7e503c-1cff-44f9-ac16-fa6e93ff598a"
      },
      "source": [
        "a[np.where(a>1)]"
      ],
      "execution_count": null,
      "outputs": [
        {
          "output_type": "execute_result",
          "data": {
            "text/plain": [
              "array([ 2,  5,  3, 10, 12,  2, 10, 10, 10])"
            ]
          },
          "metadata": {
            "tags": []
          },
          "execution_count": 15
        }
      ]
    },
    {
      "cell_type": "markdown",
      "metadata": {
        "id": "sYQ7XuOEbPNK"
      },
      "source": [
        "Otra forma de hacerlo es con indexado booleano:"
      ]
    },
    {
      "cell_type": "code",
      "metadata": {
        "id": "bRDrfiqPbSUQ",
        "colab": {
          "base_uri": "https://localhost:8080/"
        },
        "outputId": "f905e222-acec-41bd-8396-e5f6c19aca07"
      },
      "source": [
        "a[a>1]"
      ],
      "execution_count": null,
      "outputs": [
        {
          "output_type": "execute_result",
          "data": {
            "text/plain": [
              "array([ 2,  5,  3, 10, 12,  2, 10, 10, 10])"
            ]
          },
          "metadata": {
            "tags": []
          },
          "execution_count": 16
        }
      ]
    },
    {
      "cell_type": "markdown",
      "metadata": {
        "id": "RtpWNK5wbUdV"
      },
      "source": [
        "Si tenemos varias condiciones podemos usar operadores lógicos:"
      ]
    },
    {
      "cell_type": "code",
      "metadata": {
        "id": "sJl1YPaWbZfR",
        "colab": {
          "base_uri": "https://localhost:8080/",
          "height": 171
        },
        "outputId": "9cd19b83-15c0-487f-9089-44ec0997b172"
      },
      "source": [
        "a[a>1 and a<9]"
      ],
      "execution_count": null,
      "outputs": [
        {
          "output_type": "error",
          "ename": "ValueError",
          "evalue": "ignored",
          "traceback": [
            "\u001b[0;31m---------------------------------------------------------------------------\u001b[0m",
            "\u001b[0;31mValueError\u001b[0m                                Traceback (most recent call last)",
            "\u001b[0;32m<ipython-input-17-2639eb6e5199>\u001b[0m in \u001b[0;36m<module>\u001b[0;34m()\u001b[0m\n\u001b[0;32m----> 1\u001b[0;31m \u001b[0ma\u001b[0m\u001b[0;34m[\u001b[0m\u001b[0ma\u001b[0m\u001b[0;34m>\u001b[0m\u001b[0;36m1\u001b[0m \u001b[0;32mand\u001b[0m \u001b[0ma\u001b[0m\u001b[0;34m<\u001b[0m\u001b[0;36m9\u001b[0m\u001b[0;34m]\u001b[0m\u001b[0;34m\u001b[0m\u001b[0;34m\u001b[0m\u001b[0m\n\u001b[0m",
            "\u001b[0;31mValueError\u001b[0m: The truth value of an array with more than one element is ambiguous. Use a.any() or a.all()"
          ]
        }
      ]
    },
    {
      "cell_type": "markdown",
      "metadata": {
        "id": "VSZeBt1Pbh6A"
      },
      "source": [
        "No es tan sencillo como parecia. Cuando tenemos arrays con más de un elemento, tenemos que usar las funciones np.logical_and() y np.logical_or():"
      ]
    },
    {
      "cell_type": "code",
      "metadata": {
        "id": "DjUEK3n0btSi",
        "colab": {
          "base_uri": "https://localhost:8080/"
        },
        "outputId": "0ab45ac4-8822-498a-ed80-0e93361603db"
      },
      "source": [
        "print(a>1)\n",
        "print(a<9)\n",
        "print(np.logical_and(a>1,a<9))\n",
        "print(np.logical_or(a>1,a<9))\n",
        "print(a[np.logical_and(a>1,a<9)])"
      ],
      "execution_count": null,
      "outputs": [
        {
          "output_type": "stream",
          "text": [
            "[[ True  True False]\n",
            " [ True  True  True]\n",
            " [ True False False]\n",
            " [ True  True  True]]\n",
            "[[ True  True  True]\n",
            " [ True False False]\n",
            " [ True  True  True]\n",
            " [False False False]]\n",
            "[[ True  True False]\n",
            " [ True False False]\n",
            " [ True False False]\n",
            " [False False False]]\n",
            "[[ True  True  True]\n",
            " [ True  True  True]\n",
            " [ True  True  True]\n",
            " [ True  True  True]]\n",
            "[2 5 3 2]\n"
          ],
          "name": "stdout"
        }
      ]
    },
    {
      "cell_type": "markdown",
      "metadata": {
        "id": "gfWBfjercUK-"
      },
      "source": [
        "Hay algunos arrays predefinidos útiles que Numpy puede generar por nosotros, por ejemplo, arrays llenos de 0's o 1's con una forma determinada, o la matriz identidad. Notar que las dimensiones se le pasan como una tupla (...,...,...):"
      ]
    },
    {
      "cell_type": "code",
      "metadata": {
        "id": "k1kFwJcicc8e",
        "colab": {
          "base_uri": "https://localhost:8080/"
        },
        "outputId": "98788a53-57a6-4b80-f05e-b6c89020290b"
      },
      "source": [
        "print(np.zeros((2,5)))\n",
        "print(np.ones((2,5)))\n",
        "print(np.eye(7))"
      ],
      "execution_count": null,
      "outputs": [
        {
          "output_type": "stream",
          "text": [
            "[[0. 0. 0. 0. 0.]\n",
            " [0. 0. 0. 0. 0.]]\n",
            "[[1. 1. 1. 1. 1.]\n",
            " [1. 1. 1. 1. 1.]]\n",
            "[[1. 0. 0. 0. 0. 0. 0.]\n",
            " [0. 1. 0. 0. 0. 0. 0.]\n",
            " [0. 0. 1. 0. 0. 0. 0.]\n",
            " [0. 0. 0. 1. 0. 0. 0.]\n",
            " [0. 0. 0. 0. 1. 0. 0.]\n",
            " [0. 0. 0. 0. 0. 1. 0.]\n",
            " [0. 0. 0. 0. 0. 0. 1.]]\n"
          ],
          "name": "stdout"
        }
      ]
    },
    {
      "cell_type": "markdown",
      "metadata": {
        "id": "fbOPO4w-cxh6"
      },
      "source": [
        "Por último, si tenemos un archivo de datos del tipo .csv (comma separated values) podemos leerlo fácilmente con Numpy.\n",
        "\n",
        "Para eso, compartí el archivo 'ejemplo_csv_clase_2.csv' en el folder de Labo de Datos. Procedemos a montar el drive y cargar el archivo .csv como una matrix:"
      ]
    },
    {
      "cell_type": "code",
      "metadata": {
        "id": "ZnkANEZbdE9K",
        "colab": {
          "base_uri": "https://localhost:8080/"
        },
        "outputId": "c0b30779-148f-4e8d-a09b-2b11dce49a14"
      },
      "source": [
        "from google.colab import drive\n",
        "drive.mount('/content/drive')\n",
        "\n",
        "filename = '/content/drive/My Drive/LaboDatos2021/ejemplo_csv_clase_2.txt' \n",
        "\n",
        "from numpy import genfromtxt\n",
        "a = genfromtxt(filename, delimiter=',')\n",
        "\n",
        "print(a)"
      ],
      "execution_count": null,
      "outputs": [
        {
          "output_type": "stream",
          "text": [
            "Drive already mounted at /content/drive; to attempt to forcibly remount, call drive.mount(\"/content/drive\", force_remount=True).\n",
            "[[  1.     2.23    nan]\n",
            " [  3.      nan 123.  ]\n",
            " [  0.     0.     0.  ]]\n"
          ],
          "name": "stdout"
        }
      ]
    },
    {
      "cell_type": "markdown",
      "metadata": {
        "id": "JVRLaw4_ea9r"
      },
      "source": [
        "Notamos que las entradas que tenían strings fueron cargadas como nan = \"not a number\"\n",
        "\n",
        "La forma en que vamos a cargar datasets consistentes de datos heterogéneos en Python es mediante Pandas, una librería para análisis de datos en Python, en particular usando dataframes.  "
      ]
    }
  ]
}