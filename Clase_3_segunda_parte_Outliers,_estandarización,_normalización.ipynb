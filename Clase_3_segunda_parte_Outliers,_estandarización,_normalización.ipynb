{
  "nbformat": 4,
  "nbformat_minor": 0,
  "metadata": {
    "colab": {
      "provenance": [],
      "include_colab_link": true
    },
    "kernelspec": {
      "name": "python3",
      "display_name": "Python 3"
    },
    "language_info": {
      "name": "python"
    }
  },
  "cells": [
    {
      "cell_type": "markdown",
      "metadata": {
        "id": "view-in-github",
        "colab_type": "text"
      },
      "source": [
        "<a href=\"https://colab.research.google.com/github/PabloDiosquez/Laboratorio_de_Datos_UBA/blob/main/Clase_3_segunda_parte_Outliers%2C_estandarizaci%C3%B3n%2C_normalizaci%C3%B3n.ipynb\" target=\"_parent\"><img src=\"https://colab.research.google.com/assets/colab-badge.svg\" alt=\"Open In Colab\"/></a>"
      ]
    },
    {
      "cell_type": "markdown",
      "source": [],
      "metadata": {
        "id": "saHr2YOUQhAN"
      }
    },
    {
      "cell_type": "markdown",
      "metadata": {
        "id": "ybPj3hG7N70z"
      },
      "source": [
        "Partimos de lo que hicimos en el notebook anterior para trabajar con las columnas de datos numéricos. \n",
        "\n",
        "Primero vamos a cargarlo nuevamente."
      ]
    },
    {
      "cell_type": "code",
      "metadata": {
        "id": "0RPMzvsmNzhk",
        "colab": {
          "base_uri": "https://localhost:8080/"
        },
        "outputId": "dbc388fe-cb3f-4ed0-9f48-24b766fb812a"
      },
      "source": [
        "import pandas as pd\n",
        "from google.colab import drive\n",
        "drive.mount('/content/drive')\n",
        "\n",
        "filename = '/content/drive/My Drive/LaboDatos2021/dataframe_clase_3_limpio.csv' \n",
        "\n",
        "df = pd.read_csv(filename)\n",
        "\n",
        "print(df)"
      ],
      "execution_count": null,
      "outputs": [
        {
          "output_type": "stream",
          "name": "stdout",
          "text": [
            "Drive already mounted at /content/drive; to attempt to forcibly remount, call drive.mount(\"/content/drive\", force_remount=True).\n",
            "    Unnamed: 0  Edad  Altura   Peso  Promedio Sexo      LU     Observación \n",
            "0            0    25    1.80   83.0      7.79    h  125/89          ninguna\n",
            "1            1    21    1.89   86.0      9.70    h   35/88          ninguna\n",
            "2            2    39    1.54   50.0      7.10    m  142/80     hipertension\n",
            "3            3    49    1.66   70.0      6.54    m  553/83          ninguna\n",
            "4            4    31    1.70   81.0      7.21    h  495/83     hipertension\n",
            "5            5    33    1.74   93.0      7.10    h   25/78          ninguna\n",
            "6            6    29    1.81   82.5      6.90    h  445/81          ninguna\n",
            "7            7    19    1.82   86.3      8.43    h    5/84          ninguna\n",
            "8            8    20    1.76   75.0     10.00    m    1/81          ninguna\n",
            "9           10    32    1.64   60.0      9.10    m  400/80          ninguna\n",
            "10          11    59    1.70   67.0      8.99   nb  100/89          ninguna\n",
            "11          12    34    1.81   97.0      7.46    h    1/89          ninguna\n",
            "12          13    49    1.78  432.0      7.41    h  500/86  dolor de cabeza\n",
            "13          14    51    1.77   75.0      9.10    h   25/85     hipertension\n",
            "14          17    41    1.80    8.0      9.20    h  099/89          ninguna\n",
            "15          19    28    1.68   68.0      7.54    m  145/81          ninguna\n"
          ]
        }
      ]
    },
    {
      "cell_type": "markdown",
      "metadata": {
        "id": "TYz-sM3lQTJH"
      },
      "source": [
        "En la clase vimos que hay distintas formas de remover outliers. En este caso, la columna peso tiene un outliner bastante claro que tiene sentido remover (índice 12), es más, podemos sospechar que alguien se equivocó cuando ingresó los datos. Hubiese pasado algo similar si encontrabamos alguien con edad -4 o 221 años. \n",
        "\n",
        "En este caso no vamos a remover datos usando criterios basados en el desvío estándar, aunque sería similar el procedimiento."
      ]
    },
    {
      "cell_type": "code",
      "metadata": {
        "id": "x6cCiPFHQu6D",
        "colab": {
          "base_uri": "https://localhost:8080/"
        },
        "outputId": "55eeec6a-e943-459f-dad2-670e8258c0cb"
      },
      "source": [
        "import numpy as np\n",
        "indice = df[np.logical_or(df['Peso']>400, df['Peso']<10)].index  # el indice donde esta la fila con un peso mayor a 400\n",
        "df_1 = df.drop(indice)\n",
        "print(df_1)\n"
      ],
      "execution_count": null,
      "outputs": [
        {
          "output_type": "stream",
          "name": "stdout",
          "text": [
            "    Unnamed: 0  Edad  Altura  Peso  Promedio Sexo      LU  Observación \n",
            "0            0    25    1.80  83.0      7.79    h  125/89       ninguna\n",
            "1            1    21    1.89  86.0      9.70    h   35/88       ninguna\n",
            "2            2    39    1.54  50.0      7.10    m  142/80  hipertension\n",
            "3            3    49    1.66  70.0      6.54    m  553/83       ninguna\n",
            "4            4    31    1.70  81.0      7.21    h  495/83  hipertension\n",
            "5            5    33    1.74  93.0      7.10    h   25/78       ninguna\n",
            "6            6    29    1.81  82.5      6.90    h  445/81       ninguna\n",
            "7            7    19    1.82  86.3      8.43    h    5/84       ninguna\n",
            "8            8    20    1.76  75.0     10.00    m    1/81       ninguna\n",
            "9           10    32    1.64  60.0      9.10    m  400/80       ninguna\n",
            "10          11    59    1.70  67.0      8.99   nb  100/89       ninguna\n",
            "11          12    34    1.81  97.0      7.46    h    1/89       ninguna\n",
            "13          14    51    1.77  75.0      9.10    h   25/85  hipertension\n",
            "15          19    28    1.68  68.0      7.54    m  145/81       ninguna\n"
          ]
        }
      ]
    },
    {
      "cell_type": "markdown",
      "metadata": {
        "id": "AQ9FEJ1KRBAe"
      },
      "source": [
        "Ahora pensamos como estandarizar las columnas. Supongamos que no hay diferencias en la edad típica en la que se matriculan estudiantes a la Universidad. Entonces tiene sentido hablar del desvío de la media, en unidades de desvío estandar. Es decir, podemos transformar la columna \"Edad\" a z-scores:"
      ]
    },
    {
      "cell_type": "code",
      "metadata": {
        "id": "N-_c7n0VROYY",
        "colab": {
          "base_uri": "https://localhost:8080/"
        },
        "outputId": "67e92d3e-bcbb-4d04-8bce-30188eb9eaa4"
      },
      "source": [
        "from scipy.stats import zscore\n",
        "df_1['Edad (z)'] = zscore(df_1['Edad'])\n",
        "print(df_1)"
      ],
      "execution_count": null,
      "outputs": [
        {
          "output_type": "stream",
          "name": "stdout",
          "text": [
            "    Unnamed: 0  Edad  Altura  Peso  Promedio Sexo      LU  Observación   \\\n",
            "0            0    25    1.80  83.0      7.79    h  125/89       ninguna   \n",
            "1            1    21    1.89  86.0      9.70    h   35/88       ninguna   \n",
            "2            2    39    1.54  50.0      7.10    m  142/80  hipertension   \n",
            "3            3    49    1.66  70.0      6.54    m  553/83       ninguna   \n",
            "4            4    31    1.70  81.0      7.21    h  495/83  hipertension   \n",
            "5            5    33    1.74  93.0      7.10    h   25/78       ninguna   \n",
            "6            6    29    1.81  82.5      6.90    h  445/81       ninguna   \n",
            "7            7    19    1.82  86.3      8.43    h    5/84       ninguna   \n",
            "8            8    20    1.76  75.0     10.00    m    1/81       ninguna   \n",
            "9           10    32    1.64  60.0      9.10    m  400/80       ninguna   \n",
            "10          11    59    1.70  67.0      8.99   nb  100/89       ninguna   \n",
            "11          12    34    1.81  97.0      7.46    h    1/89       ninguna   \n",
            "13          14    51    1.77  75.0      9.10    h   25/85  hipertension   \n",
            "15          19    28    1.68  68.0      7.54    m  145/81       ninguna   \n",
            "\n",
            "    Edad (z)  \n",
            "0  -0.734333  \n",
            "1  -1.077022  \n",
            "2   0.465078  \n",
            "3   1.321800  \n",
            "4  -0.220300  \n",
            "5  -0.048956  \n",
            "6  -0.391644  \n",
            "7  -1.248366  \n",
            "8  -1.162694  \n",
            "9  -0.134628  \n",
            "10  2.178521  \n",
            "11  0.036717  \n",
            "13  1.493144  \n",
            "15 -0.477316  \n"
          ]
        }
      ]
    },
    {
      "cell_type": "markdown",
      "metadata": {
        "id": "3-Xorlz0Rzh8"
      },
      "source": [
        "¿Tiene sentido hacer lo mismo para la altura y el peso?\n",
        "\n",
        "La altura y el peso tienden a ser mayores en hombres que en mujeres. Tendría sentido normalizar cada uno por la media el desvío estandar de su población. O bien usar un método de normalización que no compare con el desvío estándar, por ejemplo, normalización min-max.\n",
        "\n",
        "Veamos ambos casos. Primero, z-score específico para cada grupo, computado para la altura."
      ]
    },
    {
      "cell_type": "code",
      "metadata": {
        "id": "DIJR0hF7SMu_",
        "colab": {
          "base_uri": "https://localhost:8080/"
        },
        "outputId": "618556ea-8d75-421a-b043-31870f5c7f07"
      },
      "source": [
        "import numpy as np\n",
        "import scipy as sp\n",
        "\n",
        "indice_h = df_1['Sexo']=='h'\n",
        "indice_m = df_1['Sexo']=='m'\n",
        "\n",
        "df_1['Altura (z)'] = np.zeros(len(df_1))  # ponemos 0 para despues poder modificarla\n",
        "print(df_1)\n",
        "df_1['Altura (z)'][indice_h] = sp.stats.zscore(df_1['Altura'][indice_h])\n",
        "print(df_1)\n",
        "df_1['Altura (z)'][indice_m] = sp.stats.zscore(df_1['Altura'][indice_m])\n",
        "print(df_1)\n"
      ],
      "execution_count": null,
      "outputs": [
        {
          "output_type": "stream",
          "name": "stdout",
          "text": [
            "    Unnamed: 0  Edad  Altura  Peso  Promedio Sexo      LU  Observación   \\\n",
            "0            0    25    1.80  83.0      7.79    h  125/89       ninguna   \n",
            "1            1    21    1.89  86.0      9.70    h   35/88       ninguna   \n",
            "2            2    39    1.54  50.0      7.10    m  142/80  hipertension   \n",
            "3            3    49    1.66  70.0      6.54    m  553/83       ninguna   \n",
            "4            4    31    1.70  81.0      7.21    h  495/83  hipertension   \n",
            "5            5    33    1.74  93.0      7.10    h   25/78       ninguna   \n",
            "6            6    29    1.81  82.5      6.90    h  445/81       ninguna   \n",
            "7            7    19    1.82  86.3      8.43    h    5/84       ninguna   \n",
            "8            8    20    1.76  75.0     10.00    m    1/81       ninguna   \n",
            "9           10    32    1.64  60.0      9.10    m  400/80       ninguna   \n",
            "10          11    59    1.70  67.0      8.99   nb  100/89       ninguna   \n",
            "11          12    34    1.81  97.0      7.46    h    1/89       ninguna   \n",
            "13          14    51    1.77  75.0      9.10    h   25/85  hipertension   \n",
            "15          19    28    1.68  68.0      7.54    m  145/81       ninguna   \n",
            "\n",
            "    Edad (z)  Altura (z)  \n",
            "0  -0.734333         0.0  \n",
            "1  -1.077022         0.0  \n",
            "2   0.465078         0.0  \n",
            "3   1.321800         0.0  \n",
            "4  -0.220300         0.0  \n",
            "5  -0.048956         0.0  \n",
            "6  -0.391644         0.0  \n",
            "7  -1.248366         0.0  \n",
            "8  -1.162694         0.0  \n",
            "9  -0.134628         0.0  \n",
            "10  2.178521         0.0  \n",
            "11  0.036717         0.0  \n",
            "13  1.493144         0.0  \n",
            "15 -0.477316         0.0  \n",
            "    Unnamed: 0  Edad  Altura  Peso  Promedio Sexo      LU  Observación   \\\n",
            "0            0    25    1.80  83.0      7.79    h  125/89       ninguna   \n",
            "1            1    21    1.89  86.0      9.70    h   35/88       ninguna   \n",
            "2            2    39    1.54  50.0      7.10    m  142/80  hipertension   \n",
            "3            3    49    1.66  70.0      6.54    m  553/83       ninguna   \n",
            "4            4    31    1.70  81.0      7.21    h  495/83  hipertension   \n",
            "5            5    33    1.74  93.0      7.10    h   25/78       ninguna   \n",
            "6            6    29    1.81  82.5      6.90    h  445/81       ninguna   \n",
            "7            7    19    1.82  86.3      8.43    h    5/84       ninguna   \n",
            "8            8    20    1.76  75.0     10.00    m    1/81       ninguna   \n",
            "9           10    32    1.64  60.0      9.10    m  400/80       ninguna   \n",
            "10          11    59    1.70  67.0      8.99   nb  100/89       ninguna   \n",
            "11          12    34    1.81  97.0      7.46    h    1/89       ninguna   \n",
            "13          14    51    1.77  75.0      9.10    h   25/85  hipertension   \n",
            "15          19    28    1.68  68.0      7.54    m  145/81       ninguna   \n",
            "\n",
            "    Edad (z)  Altura (z)  \n",
            "0  -0.734333    0.140642  \n",
            "1  -1.077022    1.828348  \n",
            "2   0.465078    0.000000  \n",
            "3   1.321800    0.000000  \n",
            "4  -0.220300   -1.734587  \n",
            "5  -0.048956   -0.984495  \n",
            "6  -0.391644    0.328165  \n",
            "7  -1.248366    0.515688  \n",
            "8  -1.162694    0.000000  \n",
            "9  -0.134628    0.000000  \n",
            "10  2.178521    0.000000  \n",
            "11  0.036717    0.328165  \n",
            "13  1.493144   -0.421927  \n",
            "15 -0.477316    0.000000  \n",
            "    Unnamed: 0  Edad  Altura  Peso  Promedio Sexo      LU  Observación   \\\n",
            "0            0    25    1.80  83.0      7.79    h  125/89       ninguna   \n",
            "1            1    21    1.89  86.0      9.70    h   35/88       ninguna   \n",
            "2            2    39    1.54  50.0      7.10    m  142/80  hipertension   \n",
            "3            3    49    1.66  70.0      6.54    m  553/83       ninguna   \n",
            "4            4    31    1.70  81.0      7.21    h  495/83  hipertension   \n",
            "5            5    33    1.74  93.0      7.10    h   25/78       ninguna   \n",
            "6            6    29    1.81  82.5      6.90    h  445/81       ninguna   \n",
            "7            7    19    1.82  86.3      8.43    h    5/84       ninguna   \n",
            "8            8    20    1.76  75.0     10.00    m    1/81       ninguna   \n",
            "9           10    32    1.64  60.0      9.10    m  400/80       ninguna   \n",
            "10          11    59    1.70  67.0      8.99   nb  100/89       ninguna   \n",
            "11          12    34    1.81  97.0      7.46    h    1/89       ninguna   \n",
            "13          14    51    1.77  75.0      9.10    h   25/85  hipertension   \n",
            "15          19    28    1.68  68.0      7.54    m  145/81       ninguna   \n",
            "\n",
            "    Edad (z)  Altura (z)  \n",
            "0  -0.734333    0.140642  \n",
            "1  -1.077022    1.828348  \n",
            "2   0.465078   -1.636565  \n",
            "3   1.321800    0.056433  \n",
            "4  -0.220300   -1.734587  \n",
            "5  -0.048956   -0.984495  \n",
            "6  -0.391644    0.328165  \n",
            "7  -1.248366    0.515688  \n",
            "8  -1.162694    1.467265  \n",
            "9  -0.134628   -0.225733  \n",
            "10  2.178521    0.000000  \n",
            "11  0.036717    0.328165  \n",
            "13  1.493144   -0.421927  \n",
            "15 -0.477316    0.338600  \n"
          ]
        },
        {
          "output_type": "stream",
          "name": "stderr",
          "text": [
            "/usr/local/lib/python3.7/dist-packages/ipykernel_launcher.py:9: SettingWithCopyWarning: \n",
            "A value is trying to be set on a copy of a slice from a DataFrame\n",
            "\n",
            "See the caveats in the documentation: https://pandas.pydata.org/pandas-docs/stable/user_guide/indexing.html#returning-a-view-versus-a-copy\n",
            "  if __name__ == '__main__':\n",
            "/usr/local/lib/python3.7/dist-packages/ipykernel_launcher.py:11: SettingWithCopyWarning: \n",
            "A value is trying to be set on a copy of a slice from a DataFrame\n",
            "\n",
            "See the caveats in the documentation: https://pandas.pydata.org/pandas-docs/stable/user_guide/indexing.html#returning-a-view-versus-a-copy\n",
            "  # This is added back by InteractiveShellApp.init_path()\n"
          ]
        }
      ]
    },
    {
      "cell_type": "markdown",
      "metadata": {
        "id": "iDxy1QD2Try7"
      },
      "source": [
        "Por supuesto, queda el problema de que hacer con el caso 'nb'.\n",
        "En este caso podemos hacer una modificacion ad-hoc."
      ]
    },
    {
      "cell_type": "code",
      "metadata": {
        "id": "iG2XFQ_DTzsb"
      },
      "source": [
        "df_1['Altura (z)'][10]= 0.59"
      ],
      "execution_count": null,
      "outputs": []
    },
    {
      "cell_type": "markdown",
      "metadata": {
        "id": "Wg8oQbLlUKs6"
      },
      "source": [
        "\n",
        "\n",
        "Ahora podemos aplicar la normalizacion min-max al peso.\n",
        "\n",
        "Notemos que para poder hacer esto necesitamos haber removido el outlier en el peso, de lo contrario, se arruina el procedimiento."
      ]
    },
    {
      "cell_type": "code",
      "metadata": {
        "id": "5O4NmdFzUpkS",
        "colab": {
          "base_uri": "https://localhost:8080/"
        },
        "outputId": "ab05b32f-a8f3-4a70-9a3b-a066eacec99e"
      },
      "source": [
        "df_1['Peso (norm)'] = (df_1['Peso'] - df_1['Peso'].min())/(df_1['Peso'].max() - df_1['Peso'].min())\n",
        "\n",
        "print(df_1)"
      ],
      "execution_count": null,
      "outputs": [
        {
          "output_type": "stream",
          "name": "stdout",
          "text": [
            "    Unnamed: 0  Edad  Altura  Peso  Promedio Sexo      LU  Observación   \\\n",
            "0            0    25    1.80  83.0      7.79    h  125/89       ninguna   \n",
            "1            1    21    1.89  86.0      9.70    h   35/88       ninguna   \n",
            "2            2    39    1.54  50.0      7.10    m  142/80  hipertension   \n",
            "3            3    49    1.66  70.0      6.54    m  553/83       ninguna   \n",
            "4            4    31    1.70  81.0      7.21    h  495/83  hipertension   \n",
            "5            5    33    1.74  93.0      7.10    h   25/78       ninguna   \n",
            "6            6    29    1.81  82.5      6.90    h  445/81       ninguna   \n",
            "7            7    19    1.82  86.3      8.43    h    5/84       ninguna   \n",
            "8            8    20    1.76  75.0     10.00    m    1/81       ninguna   \n",
            "9           10    32    1.64  60.0      9.10    m  400/80       ninguna   \n",
            "10          11    59    1.70  67.0      8.99   nb  100/89       ninguna   \n",
            "11          12    34    1.81  97.0      7.46    h    1/89       ninguna   \n",
            "13          14    51    1.77  75.0      9.10    h   25/85  hipertension   \n",
            "15          19    28    1.68  68.0      7.54    m  145/81       ninguna   \n",
            "\n",
            "    Edad (z)  Altura (z)  Peso (norm)  \n",
            "0  -0.734333    0.140642     0.702128  \n",
            "1  -1.077022    1.828348     0.765957  \n",
            "2   0.465078   -1.636565     0.000000  \n",
            "3   1.321800    0.056433     0.425532  \n",
            "4  -0.220300   -1.734587     0.659574  \n",
            "5  -0.048956   -0.984495     0.914894  \n",
            "6  -0.391644    0.328165     0.691489  \n",
            "7  -1.248366    0.515688     0.772340  \n",
            "8  -1.162694    1.467265     0.531915  \n",
            "9  -0.134628   -0.225733     0.212766  \n",
            "10  2.178521    0.000000     0.361702  \n",
            "11  0.036717    0.328165     1.000000  \n",
            "13  1.493144   -0.421927     0.531915  \n",
            "15 -0.477316    0.338600     0.382979  \n"
          ]
        }
      ]
    },
    {
      "cell_type": "markdown",
      "metadata": {
        "id": "xmBJd1MbVQPm"
      },
      "source": [
        "Por último, puede que nos interesa calcular alguna normalización especial dependiendo de la aplicación. Quizás queremos comparar el promedio de los alumnos con su promedio histórico, y para eso simplemente lo restamos. "
      ]
    },
    {
      "cell_type": "code",
      "metadata": {
        "id": "DKD7IThJVeBY",
        "colab": {
          "base_uri": "https://localhost:8080/"
        },
        "outputId": "58710344-9f7f-45a0-9baa-ff9d2f9e333c"
      },
      "source": [
        "historico=8.23\n",
        "df_1['Promedio (historico)'] = df_1['Promedio'] - historico\n",
        "print(df_1)"
      ],
      "execution_count": null,
      "outputs": [
        {
          "output_type": "stream",
          "name": "stdout",
          "text": [
            "    Unnamed: 0  Edad  Altura  Peso  Promedio Sexo      LU  Observación   \\\n",
            "0            0    25    1.80  83.0      7.79    h  125/89       ninguna   \n",
            "1            1    21    1.89  86.0      9.70    h   35/88       ninguna   \n",
            "2            2    39    1.54  50.0      7.10    m  142/80  hipertension   \n",
            "3            3    49    1.66  70.0      6.54    m  553/83       ninguna   \n",
            "4            4    31    1.70  81.0      7.21    h  495/83  hipertension   \n",
            "5            5    33    1.74  93.0      7.10    h   25/78       ninguna   \n",
            "6            6    29    1.81  82.5      6.90    h  445/81       ninguna   \n",
            "7            7    19    1.82  86.3      8.43    h    5/84       ninguna   \n",
            "8            8    20    1.76  75.0     10.00    m    1/81       ninguna   \n",
            "9           10    32    1.64  60.0      9.10    m  400/80       ninguna   \n",
            "10          11    59    1.70  67.0      8.99   nb  100/89       ninguna   \n",
            "11          12    34    1.81  97.0      7.46    h    1/89       ninguna   \n",
            "13          14    51    1.77  75.0      9.10    h   25/85  hipertension   \n",
            "15          19    28    1.68  68.0      7.54    m  145/81       ninguna   \n",
            "\n",
            "    Edad (z)  Altura (z)  Peso (norm)  Promedio (historico)  \n",
            "0  -0.734333    0.140642     0.702128                 -0.44  \n",
            "1  -1.077022    1.828348     0.765957                  1.47  \n",
            "2   0.465078   -1.636565     0.000000                 -1.13  \n",
            "3   1.321800    0.056433     0.425532                 -1.69  \n",
            "4  -0.220300   -1.734587     0.659574                 -1.02  \n",
            "5  -0.048956   -0.984495     0.914894                 -1.13  \n",
            "6  -0.391644    0.328165     0.691489                 -1.33  \n",
            "7  -1.248366    0.515688     0.772340                  0.20  \n",
            "8  -1.162694    1.467265     0.531915                  1.77  \n",
            "9  -0.134628   -0.225733     0.212766                  0.87  \n",
            "10  2.178521    0.000000     0.361702                  0.76  \n",
            "11  0.036717    0.328165     1.000000                 -0.77  \n",
            "13  1.493144   -0.421927     0.531915                  0.87  \n",
            "15 -0.477316    0.338600     0.382979                 -0.69  \n"
          ]
        }
      ]
    }
  ]
}