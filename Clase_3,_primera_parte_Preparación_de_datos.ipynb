{
  "nbformat": 4,
  "nbformat_minor": 0,
  "metadata": {
    "colab": {
      "provenance": [],
      "include_colab_link": true
    },
    "kernelspec": {
      "name": "python3",
      "display_name": "Python 3"
    },
    "language_info": {
      "name": "python"
    }
  },
  "cells": [
    {
      "cell_type": "markdown",
      "metadata": {
        "id": "view-in-github",
        "colab_type": "text"
      },
      "source": [
        "<a href=\"https://colab.research.google.com/github/PabloDiosquez/Laboratorio_de_Datos_UBA/blob/main/Clase_3%2C_primera_parte_Preparaci%C3%B3n_de_datos.ipynb\" target=\"_parent\"><img src=\"https://colab.research.google.com/assets/colab-badge.svg\" alt=\"Open In Colab\"/></a>"
      ]
    },
    {
      "cell_type": "markdown",
      "metadata": {
        "id": "E3dEzI70wMDG"
      },
      "source": [
        "**Es muy raro que los datos de los que disponemos estén ya listos para ser usados**. \n",
        "\n",
        "Lo más común es que los datos necesiten ser transformados previamente. Además, incluso antes de estas transformaciones es posible que los datos tengan que ser modificados y corregidos, porque el ingreso manual de datos por parte de seres humanos suele estar acompañado de errores. Una forma de resolver esto es estandarizar lo más posible la clase de datos que el operador puede ingresar, pero aún así es difícil que no hay datos que requieran ser corregidos.\n",
        "\n",
        "En este notebook vamos a cargar y analizar un dataframe \"de juguete\" en el cual aparecen muchos de los errores más comunes que podemos encontrar. La idea es que los corrijamos, para luego estandarizar los datos y dejarlos listos para su análisis posterior.\n",
        "\n",
        "**Empezamos cargando el dataframe.**\n",
        "\n"
      ]
    },
    {
      "cell_type": "code",
      "metadata": {
        "id": "-agO_enfwFPw",
        "colab": {
          "base_uri": "https://localhost:8080/",
          "height": 295
        },
        "outputId": "a4a7ed68-c625-4adb-fdc0-2b0619361ba9"
      },
      "source": [
        "import pandas as pd\n",
        "from google.colab import drive\n",
        "drive.mount('/content/drive')\n",
        "\n",
        "filename = '/content/drive/My Drive/LaboDatos2022/dataframe_clase_3.csv' \n",
        "\n",
        "df = pd.read_csv(filename)"
      ],
      "execution_count": null,
      "outputs": [
        {
          "output_type": "stream",
          "name": "stdout",
          "text": [
            "Mounted at /content/drive\n"
          ]
        },
        {
          "output_type": "error",
          "ename": "ParserError",
          "evalue": "ignored",
          "traceback": [
            "\u001b[0;31m---------------------------------------------------------------------------\u001b[0m",
            "\u001b[0;31mParserError\u001b[0m                               Traceback (most recent call last)",
            "\u001b[0;32m<ipython-input-3-1ade7eded53b>\u001b[0m in \u001b[0;36m<module>\u001b[0;34m\u001b[0m\n\u001b[1;32m      5\u001b[0m \u001b[0mfilename\u001b[0m \u001b[0;34m=\u001b[0m \u001b[0;34m'/content/drive/My Drive/LaboDatos2022/dataframe_clase_3.csv'\u001b[0m\u001b[0;34m\u001b[0m\u001b[0;34m\u001b[0m\u001b[0m\n\u001b[1;32m      6\u001b[0m \u001b[0;34m\u001b[0m\u001b[0m\n\u001b[0;32m----> 7\u001b[0;31m \u001b[0mdf\u001b[0m \u001b[0;34m=\u001b[0m \u001b[0mpd\u001b[0m\u001b[0;34m.\u001b[0m\u001b[0mread_csv\u001b[0m\u001b[0;34m(\u001b[0m\u001b[0mfilename\u001b[0m\u001b[0;34m)\u001b[0m\u001b[0;34m\u001b[0m\u001b[0;34m\u001b[0m\u001b[0m\n\u001b[0m",
            "\u001b[0;32m/usr/local/lib/python3.8/dist-packages/pandas/util/_decorators.py\u001b[0m in \u001b[0;36mwrapper\u001b[0;34m(*args, **kwargs)\u001b[0m\n\u001b[1;32m    309\u001b[0m                     \u001b[0mstacklevel\u001b[0m\u001b[0;34m=\u001b[0m\u001b[0mstacklevel\u001b[0m\u001b[0;34m,\u001b[0m\u001b[0;34m\u001b[0m\u001b[0;34m\u001b[0m\u001b[0m\n\u001b[1;32m    310\u001b[0m                 )\n\u001b[0;32m--> 311\u001b[0;31m             \u001b[0;32mreturn\u001b[0m \u001b[0mfunc\u001b[0m\u001b[0;34m(\u001b[0m\u001b[0;34m*\u001b[0m\u001b[0margs\u001b[0m\u001b[0;34m,\u001b[0m \u001b[0;34m**\u001b[0m\u001b[0mkwargs\u001b[0m\u001b[0;34m)\u001b[0m\u001b[0;34m\u001b[0m\u001b[0;34m\u001b[0m\u001b[0m\n\u001b[0m\u001b[1;32m    312\u001b[0m \u001b[0;34m\u001b[0m\u001b[0m\n\u001b[1;32m    313\u001b[0m         \u001b[0;32mreturn\u001b[0m \u001b[0mwrapper\u001b[0m\u001b[0;34m\u001b[0m\u001b[0;34m\u001b[0m\u001b[0m\n",
            "\u001b[0;32m/usr/local/lib/python3.8/dist-packages/pandas/io/parsers/readers.py\u001b[0m in \u001b[0;36mread_csv\u001b[0;34m(filepath_or_buffer, sep, delimiter, header, names, index_col, usecols, squeeze, prefix, mangle_dupe_cols, dtype, engine, converters, true_values, false_values, skipinitialspace, skiprows, skipfooter, nrows, na_values, keep_default_na, na_filter, verbose, skip_blank_lines, parse_dates, infer_datetime_format, keep_date_col, date_parser, dayfirst, cache_dates, iterator, chunksize, compression, thousands, decimal, lineterminator, quotechar, quoting, doublequote, escapechar, comment, encoding, encoding_errors, dialect, error_bad_lines, warn_bad_lines, on_bad_lines, delim_whitespace, low_memory, memory_map, float_precision, storage_options)\u001b[0m\n\u001b[1;32m    584\u001b[0m     \u001b[0mkwds\u001b[0m\u001b[0;34m.\u001b[0m\u001b[0mupdate\u001b[0m\u001b[0;34m(\u001b[0m\u001b[0mkwds_defaults\u001b[0m\u001b[0;34m)\u001b[0m\u001b[0;34m\u001b[0m\u001b[0;34m\u001b[0m\u001b[0m\n\u001b[1;32m    585\u001b[0m \u001b[0;34m\u001b[0m\u001b[0m\n\u001b[0;32m--> 586\u001b[0;31m     \u001b[0;32mreturn\u001b[0m \u001b[0m_read\u001b[0m\u001b[0;34m(\u001b[0m\u001b[0mfilepath_or_buffer\u001b[0m\u001b[0;34m,\u001b[0m \u001b[0mkwds\u001b[0m\u001b[0;34m)\u001b[0m\u001b[0;34m\u001b[0m\u001b[0;34m\u001b[0m\u001b[0m\n\u001b[0m\u001b[1;32m    587\u001b[0m \u001b[0;34m\u001b[0m\u001b[0m\n\u001b[1;32m    588\u001b[0m \u001b[0;34m\u001b[0m\u001b[0m\n",
            "\u001b[0;32m/usr/local/lib/python3.8/dist-packages/pandas/io/parsers/readers.py\u001b[0m in \u001b[0;36m_read\u001b[0;34m(filepath_or_buffer, kwds)\u001b[0m\n\u001b[1;32m    486\u001b[0m \u001b[0;34m\u001b[0m\u001b[0m\n\u001b[1;32m    487\u001b[0m     \u001b[0;32mwith\u001b[0m \u001b[0mparser\u001b[0m\u001b[0;34m:\u001b[0m\u001b[0;34m\u001b[0m\u001b[0;34m\u001b[0m\u001b[0m\n\u001b[0;32m--> 488\u001b[0;31m         \u001b[0;32mreturn\u001b[0m \u001b[0mparser\u001b[0m\u001b[0;34m.\u001b[0m\u001b[0mread\u001b[0m\u001b[0;34m(\u001b[0m\u001b[0mnrows\u001b[0m\u001b[0;34m)\u001b[0m\u001b[0;34m\u001b[0m\u001b[0;34m\u001b[0m\u001b[0m\n\u001b[0m\u001b[1;32m    489\u001b[0m \u001b[0;34m\u001b[0m\u001b[0m\n\u001b[1;32m    490\u001b[0m \u001b[0;34m\u001b[0m\u001b[0m\n",
            "\u001b[0;32m/usr/local/lib/python3.8/dist-packages/pandas/io/parsers/readers.py\u001b[0m in \u001b[0;36mread\u001b[0;34m(self, nrows)\u001b[0m\n\u001b[1;32m   1045\u001b[0m     \u001b[0;32mdef\u001b[0m \u001b[0mread\u001b[0m\u001b[0;34m(\u001b[0m\u001b[0mself\u001b[0m\u001b[0;34m,\u001b[0m \u001b[0mnrows\u001b[0m\u001b[0;34m=\u001b[0m\u001b[0;32mNone\u001b[0m\u001b[0;34m)\u001b[0m\u001b[0;34m:\u001b[0m\u001b[0;34m\u001b[0m\u001b[0;34m\u001b[0m\u001b[0m\n\u001b[1;32m   1046\u001b[0m         \u001b[0mnrows\u001b[0m \u001b[0;34m=\u001b[0m \u001b[0mvalidate_integer\u001b[0m\u001b[0;34m(\u001b[0m\u001b[0;34m\"nrows\"\u001b[0m\u001b[0;34m,\u001b[0m \u001b[0mnrows\u001b[0m\u001b[0;34m)\u001b[0m\u001b[0;34m\u001b[0m\u001b[0;34m\u001b[0m\u001b[0m\n\u001b[0;32m-> 1047\u001b[0;31m         \u001b[0mindex\u001b[0m\u001b[0;34m,\u001b[0m \u001b[0mcolumns\u001b[0m\u001b[0;34m,\u001b[0m \u001b[0mcol_dict\u001b[0m \u001b[0;34m=\u001b[0m \u001b[0mself\u001b[0m\u001b[0;34m.\u001b[0m\u001b[0m_engine\u001b[0m\u001b[0;34m.\u001b[0m\u001b[0mread\u001b[0m\u001b[0;34m(\u001b[0m\u001b[0mnrows\u001b[0m\u001b[0;34m)\u001b[0m\u001b[0;34m\u001b[0m\u001b[0;34m\u001b[0m\u001b[0m\n\u001b[0m\u001b[1;32m   1048\u001b[0m \u001b[0;34m\u001b[0m\u001b[0m\n\u001b[1;32m   1049\u001b[0m         \u001b[0;32mif\u001b[0m \u001b[0mindex\u001b[0m \u001b[0;32mis\u001b[0m \u001b[0;32mNone\u001b[0m\u001b[0;34m:\u001b[0m\u001b[0;34m\u001b[0m\u001b[0;34m\u001b[0m\u001b[0m\n",
            "\u001b[0;32m/usr/local/lib/python3.8/dist-packages/pandas/io/parsers/c_parser_wrapper.py\u001b[0m in \u001b[0;36mread\u001b[0;34m(self, nrows)\u001b[0m\n\u001b[1;32m    222\u001b[0m         \u001b[0;32mtry\u001b[0m\u001b[0;34m:\u001b[0m\u001b[0;34m\u001b[0m\u001b[0;34m\u001b[0m\u001b[0m\n\u001b[1;32m    223\u001b[0m             \u001b[0;32mif\u001b[0m \u001b[0mself\u001b[0m\u001b[0;34m.\u001b[0m\u001b[0mlow_memory\u001b[0m\u001b[0;34m:\u001b[0m\u001b[0;34m\u001b[0m\u001b[0;34m\u001b[0m\u001b[0m\n\u001b[0;32m--> 224\u001b[0;31m                 \u001b[0mchunks\u001b[0m \u001b[0;34m=\u001b[0m \u001b[0mself\u001b[0m\u001b[0;34m.\u001b[0m\u001b[0m_reader\u001b[0m\u001b[0;34m.\u001b[0m\u001b[0mread_low_memory\u001b[0m\u001b[0;34m(\u001b[0m\u001b[0mnrows\u001b[0m\u001b[0;34m)\u001b[0m\u001b[0;34m\u001b[0m\u001b[0;34m\u001b[0m\u001b[0m\n\u001b[0m\u001b[1;32m    225\u001b[0m                 \u001b[0;31m# destructive to chunks\u001b[0m\u001b[0;34m\u001b[0m\u001b[0;34m\u001b[0m\u001b[0;34m\u001b[0m\u001b[0m\n\u001b[1;32m    226\u001b[0m                 \u001b[0mdata\u001b[0m \u001b[0;34m=\u001b[0m \u001b[0m_concatenate_chunks\u001b[0m\u001b[0;34m(\u001b[0m\u001b[0mchunks\u001b[0m\u001b[0;34m)\u001b[0m\u001b[0;34m\u001b[0m\u001b[0;34m\u001b[0m\u001b[0m\n",
            "\u001b[0;32m/usr/local/lib/python3.8/dist-packages/pandas/_libs/parsers.pyx\u001b[0m in \u001b[0;36mpandas._libs.parsers.TextReader.read_low_memory\u001b[0;34m()\u001b[0m\n",
            "\u001b[0;32m/usr/local/lib/python3.8/dist-packages/pandas/_libs/parsers.pyx\u001b[0m in \u001b[0;36mpandas._libs.parsers.TextReader._read_rows\u001b[0;34m()\u001b[0m\n",
            "\u001b[0;32m/usr/local/lib/python3.8/dist-packages/pandas/_libs/parsers.pyx\u001b[0m in \u001b[0;36mpandas._libs.parsers.TextReader._tokenize_rows\u001b[0;34m()\u001b[0m\n",
            "\u001b[0;32m/usr/local/lib/python3.8/dist-packages/pandas/_libs/parsers.pyx\u001b[0m in \u001b[0;36mpandas._libs.parsers.raise_parser_error\u001b[0;34m()\u001b[0m\n",
            "\u001b[0;31mParserError\u001b[0m: Error tokenizing data. C error: Expected 7 fields in line 20, saw 8\n"
          ]
        }
      ]
    },
    {
      "cell_type": "markdown",
      "metadata": {
        "id": "hGb63c1UxYcv"
      },
      "source": [
        "**¡Obtuvimos un error!** Esto es muy común cuando cargamos datos desde un archivo csv. Lamentablemente, a veces hay una inferfencia entre el delimitador y los datos de las columnas, por ejemplo, en este caso el delimitador es \",\" y aparecen comas en las entradas de la tabla. La forma de resolver esto es reemplazar las comas por otro símbolo (por ejemplo, un punto) o bien cambiar el delimitador. En general esto es algo que puede pasar, y muchas veces es necesario inspeccionar los datos para darse cuenta."
      ]
    },
    {
      "cell_type": "code",
      "metadata": {
        "id": "Doaoo2EZyhAx",
        "colab": {
          "base_uri": "https://localhost:8080/"
        },
        "outputId": "4e517e4a-ebae-4c32-c22f-055df75fe19d"
      },
      "source": [
        "filename = '/content/drive/My Drive/LaboDatos2022/dataframe_clase_3_corregido.csv' \n",
        "\n",
        "df = pd.read_csv(filename)\n",
        "print(df)"
      ],
      "execution_count": null,
      "outputs": [
        {
          "output_type": "stream",
          "name": "stdout",
          "text": [
            "    Edad  Altura    Peso  Promedio         Sexo        LU    Observación \n",
            "0     25    1.80      83      7.79            H    125/89         ninguna\n",
            "1     21   1.89m      86       9.7            H     35 88         ninguna\n",
            "2     39    1.54      50       7.1            M    142-80    hipertension\n",
            "3     49    1.66      70      6.54        Mujer    553/83         ninguna\n",
            "4     31    1.70      81      7.21            H    495-83   hiper tension\n",
            "5     33    1.74   93 kg       7.1          Hom     25/78       sobrepeso\n",
            "6     29    1.81    82.5       6.9            H   445//81         ninguna\n",
            "7     19    1.82    86.3      8.43            H      5/84         NINGUNA\n",
            "8     20    1.76      75        10            M      1/81           gripe\n",
            "9     65     NaN      70      4.21            M   1455-89          no hay\n",
            "10    32    1.64      60      9.10            M    400-80         ninguna\n",
            "11    59    1.70      67      8.99   No binarie    100/89         ninguna\n",
            "12    34    1.81      97      7.46            H      1/89                \n",
            "13    49    1.78     432      7.41       Hombre    500\\86    dolor cabeza\n",
            "14    51    1.77      75      9.10            H     25/85      hipertenso\n",
            "15    52    1.65      64       nan            M     22\\84         ninguna\n",
            "16    40    1.69      70      6.00         Azul     35/89         ninguna\n",
            "17    41    1.80       8       9.2            H    099/89      no hay obs\n",
            "18    25     nan      72      6.29            M     90.80            nada\n",
            "19    28    1.68      68      7.54            M    145/81         ninguna\n",
            "20    29    1.81      83       nan            H    111/83         NINGUNA\n"
          ]
        }
      ]
    },
    {
      "cell_type": "markdown",
      "metadata": {
        "id": "pgPvgLnuyq19"
      },
      "source": [
        "Claramente hay muchas cosas para arreglar. Lo primero que podemos querer hacer es descartar las filas que tienen algun valor faltante.\n",
        "\n"
      ]
    },
    {
      "cell_type": "code",
      "metadata": {
        "id": "sWNg0UX3zHzn",
        "colab": {
          "base_uri": "https://localhost:8080/"
        },
        "outputId": "103190a6-5102-4056-886c-ea42f32b0122"
      },
      "source": [
        "df.dropna(inplace=True)\n",
        "print(df)\n"
      ],
      "execution_count": null,
      "outputs": [
        {
          "output_type": "stream",
          "name": "stdout",
          "text": [
            "    Edad  Altura    Peso  Promedio         Sexo        LU    Observación \n",
            "0     25    1.80      83      7.79            H    125/89         ninguna\n",
            "1     21   1.89m      86       9.7            H     35 88         ninguna\n",
            "2     39    1.54      50       7.1            M    142-80    hipertension\n",
            "3     49    1.66      70      6.54        Mujer    553/83         ninguna\n",
            "4     31    1.70      81      7.21            H    495-83   hiper tension\n",
            "5     33    1.74   93 kg       7.1          Hom     25/78       sobrepeso\n",
            "6     29    1.81    82.5       6.9            H   445//81         ninguna\n",
            "7     19    1.82    86.3      8.43            H      5/84         NINGUNA\n",
            "8     20    1.76      75        10            M      1/81           gripe\n",
            "10    32    1.64      60      9.10            M    400-80         ninguna\n",
            "11    59    1.70      67      8.99   No binarie    100/89         ninguna\n",
            "12    34    1.81      97      7.46            H      1/89                \n",
            "13    49    1.78     432      7.41       Hombre    500\\86    dolor cabeza\n",
            "14    51    1.77      75      9.10            H     25/85      hipertenso\n",
            "15    52    1.65      64       nan            M     22\\84         ninguna\n",
            "16    40    1.69      70      6.00         Azul     35/89         ninguna\n",
            "17    41    1.80       8       9.2            H    099/89      no hay obs\n",
            "18    25     nan      72      6.29            M     90.80            nada\n",
            "19    28    1.68      68      7.54            M    145/81         ninguna\n",
            "20    29    1.81      83       nan            H    111/83         NINGUNA\n"
          ]
        }
      ]
    },
    {
      "cell_type": "markdown",
      "metadata": {
        "id": "t3pLLh12zR2_"
      },
      "source": [
        "Pero acá notamos algo importante: los Nan que creo Pandas al importar los datos con columnas faltantes son NaN de verdad (y por lo tanto cuentan para el método df.dropna). Pero los NaN que figuraban en los datos fueron transformados en el string \"nan\". Para eso, es necesario pasar del string \"nan\" al tipo np.Nan y luego usar df.dropna.\n",
        "\n",
        "Veamos realmente cómo se cargaron los datos."
      ]
    },
    {
      "cell_type": "code",
      "metadata": {
        "id": "4Druoq0t1E0t",
        "colab": {
          "base_uri": "https://localhost:8080/"
        },
        "outputId": "6bdc3868-1cf0-4605-802c-85f487a206f1"
      },
      "source": [
        "df['Sexo'].str.lower()"
      ],
      "execution_count": null,
      "outputs": [
        {
          "output_type": "execute_result",
          "data": {
            "text/plain": [
              "0               h\n",
              "1               h\n",
              "2               m\n",
              "3           mujer\n",
              "4               h\n",
              "5             hom\n",
              "6               h\n",
              "7               h\n",
              "8               m\n",
              "10              m\n",
              "11     no binarie\n",
              "12              h\n",
              "13         hombre\n",
              "14              h\n",
              "15              m\n",
              "16           azul\n",
              "17              h\n",
              "18              m\n",
              "19              m\n",
              "20              h\n",
              "Name: Sexo, dtype: object"
            ]
          },
          "metadata": {},
          "execution_count": 25
        }
      ]
    },
    {
      "cell_type": "markdown",
      "metadata": {
        "id": "Juwu2LHG1H5G"
      },
      "source": [
        "¿Por qué error? ¿No es 'Promedio' una columna de df?"
      ]
    },
    {
      "cell_type": "code",
      "metadata": {
        "id": "YDixWFTF1OIn",
        "colab": {
          "base_uri": "https://localhost:8080/"
        },
        "outputId": "51441b6c-ce2b-4eb1-b0aa-57a075f96ad5"
      },
      "source": [
        "df.columns"
      ],
      "execution_count": null,
      "outputs": [
        {
          "output_type": "execute_result",
          "data": {
            "text/plain": [
              "Index(['Edad', ' Altura', ' Peso', ' Promedio', ' Sexo', ' LU',\n",
              "       ' Observación '],\n",
              "      dtype='object')"
            ]
          },
          "metadata": {},
          "execution_count": 7
        }
      ]
    },
    {
      "cell_type": "markdown",
      "metadata": {
        "id": "-LoeNQUk1SLS"
      },
      "source": [
        "Ah! Las columnas empiezan con un espacio en blanco, por como estaban escritas en el archivo .csv\n",
        "\n",
        "Podemos aceptarlo, aunque es medio incómodo. Entonces decidimos borrar los caracteres iniciales que estén en blanco usando el método lstrip()"
      ]
    },
    {
      "cell_type": "code",
      "metadata": {
        "id": "IY_jbScg1znN",
        "colab": {
          "base_uri": "https://localhost:8080/"
        },
        "outputId": "7801138b-be8d-4b97-d9e8-564f0b3e974b"
      },
      "source": [
        "columns = list(df.columns)\n",
        "for n, c in enumerate(df.columns): \n",
        "  columns[n] = c.lstrip() # lstrip remueve caracteres iniciales en blanco, rstrip hace lo mismo con los caracteres finales\n",
        "  columns[n] = c.rstrip()\n",
        "df.columns = columns\n",
        "df.columns\n",
        "\n"
      ],
      "execution_count": null,
      "outputs": [
        {
          "output_type": "execute_result",
          "data": {
            "text/plain": [
              "Index(['Edad', 'Altura', 'Peso', 'Promedio', 'Sexo', 'LU', 'Observación'], dtype='object')"
            ]
          },
          "metadata": {},
          "execution_count": 9
        }
      ]
    },
    {
      "cell_type": "markdown",
      "metadata": {
        "id": "g6SP7X_g2hXA"
      },
      "source": [
        "Ahora por fin veamos cómo leyó nan la función pd.read_csv:"
      ]
    },
    {
      "cell_type": "code",
      "metadata": {
        "id": "3lxQ66gY2phu",
        "colab": {
          "base_uri": "https://localhost:8080/",
          "height": 37
        },
        "outputId": "6d97b185-8be2-4dee-a8e3-83e4592d9e80"
      },
      "source": [
        "df['Promedio'][20]\n",
        "#type(df['Promedio'][20]\n",
        "\n",
        "df['Observación'][15]"
      ],
      "execution_count": null,
      "outputs": [
        {
          "output_type": "execute_result",
          "data": {
            "text/plain": [
              "' ninguna'"
            ],
            "application/vnd.google.colaboratory.intrinsic+json": {
              "type": "string"
            }
          },
          "metadata": {},
          "execution_count": 18
        }
      ]
    },
    {
      "cell_type": "markdown",
      "metadata": {
        "id": "Vwj5OKkl2vQ_"
      },
      "source": [
        "Empezamos a detectar un problema recurrente: por como estaba escrito el archivo .csv, aparece un espacio delante de cada elemento que fue cargado como string.\n",
        "\n",
        "![notepad.png](data:image/png;base64,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)\n",
        "\n",
        "Tenemos las opciones:\n",
        "\n",
        "\n",
        "1.   Remover los espacios en el dataframe que ya cargamos\n",
        "2.   Volver a cargar los datos usando ahora la opción skipinitialspace=True en pd.read_csv\n",
        "3.   Editar el archivo .csv, removiendo los espacios\n",
        "\n",
        "Vamos a usar la opción 1 y luego mostrar que da lo mismo usar la opción 2\n",
        "\n",
        "Lo que debemos hacer es recorrer todas las entradas, fijarnos si es un string, y si lo es, aplicarle .lstrip() - ya que si no es string, no puede empezar con caracteres en blanco, y si intentamos aplicar .lstrip() a algo que no es un string vamos a tener un error.\n",
        "\n",
        "Entonces primero definimos una función que hace esto y luego la aplicamos a todo el dataframe.\n",
        "\n",
        "\n",
        "\n"
      ]
    },
    {
      "cell_type": "code",
      "metadata": {
        "id": "DBBQLZ_H6Sh1",
        "colab": {
          "base_uri": "https://localhost:8080/"
        },
        "outputId": "cda597c9-143b-4217-f86c-95798d15a279"
      },
      "source": [
        "def remueve_espacio(x):\n",
        "  if type(x)==str:\n",
        "    return x.lstrip().rstrip()\n",
        "  else:\n",
        "    return x\n",
        "\n",
        "df_2 = df.applymap(remueve_espacio)\n",
        "df_2['Observación'][15]\n",
        "\n",
        "df_2['Observación'].str.lstrip()\n"
      ],
      "execution_count": null,
      "outputs": [
        {
          "output_type": "execute_result",
          "data": {
            "text/plain": [
              "0           ninguna\n",
              "1           ninguna\n",
              "2      hipertension\n",
              "3           ninguna\n",
              "4     hiper tension\n",
              "5         sobrepeso\n",
              "6           ninguna\n",
              "7           NINGUNA\n",
              "8             gripe\n",
              "10          ninguna\n",
              "11          ninguna\n",
              "12                 \n",
              "13     dolor cabeza\n",
              "14       hipertenso\n",
              "15          ninguna\n",
              "16          ninguna\n",
              "17       no hay obs\n",
              "18             nada\n",
              "19          ninguna\n",
              "20          NINGUNA\n",
              "Name: Observación, dtype: object"
            ]
          },
          "metadata": {},
          "execution_count": 23
        }
      ]
    },
    {
      "cell_type": "markdown",
      "metadata": {
        "id": "QsMHiZ-x96Mu"
      },
      "source": [
        "Ahora podemos hacer algo parecido, pero para cambiar 'nan' por np.nan, y finalmente eliminar las filas con datos faltantes."
      ]
    },
    {
      "cell_type": "code",
      "metadata": {
        "id": "K4X6gNBl96mf",
        "colab": {
          "base_uri": "https://localhost:8080/"
        },
        "outputId": "b075f0d6-c749-449c-bc41-1541fa406b94"
      },
      "source": [
        "import numpy as np\n",
        "\n",
        "def cambia_nan(x):\n",
        "  if x=='nan':\n",
        "    return np.nan\n",
        "  else:\n",
        "    return x\n",
        "\n",
        "df_3 = df_2.applymap(cambia_nan)\n",
        "\n",
        "df_3.dropna(inplace=True)\n",
        "\n",
        "print(df_3)"
      ],
      "execution_count": null,
      "outputs": [
        {
          "output_type": "stream",
          "name": "stdout",
          "text": [
            "    Edad Altura   Peso Promedio        Sexo       LU    Observación\n",
            "0     25   1.80     83     7.79           H   125/89        ninguna\n",
            "1     21  1.89m     86      9.7           H    35 88        ninguna\n",
            "2     39   1.54     50      7.1           M   142-80   hipertension\n",
            "3     49   1.66     70     6.54       Mujer   553/83        ninguna\n",
            "4     31   1.70     81     7.21           H   495-83  hiper tension\n",
            "5     33   1.74  93 kg      7.1         Hom    25/78      sobrepeso\n",
            "6     29   1.81   82.5      6.9           H  445//81        ninguna\n",
            "7     19   1.82   86.3     8.43           H     5/84        NINGUNA\n",
            "8     20   1.76     75       10           M     1/81          gripe\n",
            "10    32   1.64     60     9.10           M   400-80        ninguna\n",
            "11    59   1.70     67     8.99  No binarie   100/89        ninguna\n",
            "12    34   1.81     97     7.46           H     1/89               \n",
            "13    49   1.78    432     7.41      Hombre   500\\86   dolor cabeza\n",
            "14    51   1.77     75     9.10           H    25/85     hipertenso\n",
            "16    40   1.69     70     6.00        Azul    35/89        ninguna\n",
            "17    41   1.80      8      9.2           H   099/89     no hay obs\n",
            "19    28   1.68     68     7.54           M   145/81        ninguna\n"
          ]
        }
      ]
    },
    {
      "cell_type": "markdown",
      "metadata": {
        "id": "NVs-Gw-1-SxB"
      },
      "source": [
        "Dijimos que otra forma de hacerlo era cargando el archivo para ignorar los espacios luego del delimitador."
      ]
    },
    {
      "cell_type": "code",
      "metadata": {
        "id": "UIChbUrw-Y-T",
        "colab": {
          "base_uri": "https://localhost:8080/"
        },
        "outputId": "2eefb890-5f20-4caa-f512-f6a9f5425a5f"
      },
      "source": [
        "df = pd.read_csv(filename, skipinitialspace=True)\n",
        "df_2 = df.applymap(cambia_nan)\n",
        "df_3.dropna(inplace=True)\n",
        "\n",
        "print(df_3)\n"
      ],
      "execution_count": null,
      "outputs": [
        {
          "output_type": "stream",
          "name": "stdout",
          "text": [
            "    Edad Altura   Peso Promedio        Sexo       LU    Observación\n",
            "0     25   1.80     83     7.79           H   125/89        ninguna\n",
            "1     21  1.89m     86      9.7           H    35 88        ninguna\n",
            "2     39   1.54     50      7.1           M   142-80   hipertension\n",
            "3     49   1.66     70     6.54       Mujer   553/83        ninguna\n",
            "4     31   1.70     81     7.21           H   495-83  hiper tension\n",
            "5     33   1.74  93 kg      7.1         Hom    25/78      sobrepeso\n",
            "6     29   1.81   82.5      6.9           H  445//81        ninguna\n",
            "7     19   1.82   86.3     8.43           H     5/84        NINGUNA\n",
            "8     20   1.76     75       10           M     1/81          gripe\n",
            "10    32   1.64     60     9.10           M   400-80        ninguna\n",
            "11    59   1.70     67     8.99  No binarie   100/89        ninguna\n",
            "12    34   1.81     97     7.46           H     1/89               \n",
            "13    49   1.78    432     7.41      Hombre   500\\86   dolor cabeza\n",
            "14    51   1.77     75     9.10           H    25/85     hipertenso\n",
            "16    40   1.69     70     6.00        Azul    35/89        ninguna\n",
            "17    41   1.80      8      9.2           H   099/89     no hay obs\n",
            "19    28   1.68     68     7.54           M   145/81        ninguna\n"
          ]
        }
      ]
    },
    {
      "cell_type": "markdown",
      "metadata": {
        "id": "mO4p1G1_-0Fq"
      },
      "source": [
        "Ahora vamos a trabajar para limpiar las distintas columnas. Empecemos por la última: \"observacion\".\n",
        "\n",
        "Nosotros sabemos que en esta columna un médico que examina al estudiante anote el resultado de la examinación. Si no tuvimos el recaudo de limitar lo que le médico podía llenar en esta columna, tenemos que esperar datos heterogéneos.\n",
        "\n",
        "Este dataframe es lo suficientemente pequeño como para que podamos mirarlo entero en la pantalla, pero muchas veces no es el caso. Para esas situaciones es bueno poder tener una idea del tipo de datos distintos que tenemos y que tan frecuente son. Recordemos que podemos hacer eso con el método .value_counts()"
      ]
    },
    {
      "cell_type": "code",
      "metadata": {
        "id": "6Xw6Fj1l_UK_",
        "colab": {
          "base_uri": "https://localhost:8080/"
        },
        "outputId": "ef2debde-c41b-482d-b6a5-525b17bb395d"
      },
      "source": [
        "df_3['Observación'].value_counts()  # notar que quedó un caracter en blanco al final de \"Observación\". Podemos enroscarnos y cambiarlo o, a esta altura, vivir con él."
      ],
      "execution_count": null,
      "outputs": [
        {
          "output_type": "execute_result",
          "data": {
            "text/plain": [
              "ninguna          8\n",
              "hipertension     1\n",
              "hiper tension    1\n",
              "sobrepeso        1\n",
              "NINGUNA          1\n",
              "gripe            1\n",
              "                 1\n",
              "dolor cabeza     1\n",
              "hipertenso       1\n",
              "no hay obs       1\n",
              "Name: Observación, dtype: int64"
            ]
          },
          "metadata": {},
          "execution_count": 30
        }
      ]
    },
    {
      "cell_type": "markdown",
      "metadata": {
        "id": "1n1gMBWl_vIJ"
      },
      "source": [
        "Entonces descubrimos que hay valores recurrentes, expresados de formas diferentes. Una opción es reemplazar estos valores por un código, por ejemplo: 0=ninguna, 1=hipertensión, etc. Otra opción es unificar criterios y elegir una única manera de expresar todas las entradas similares. Elijamos esta última.\n",
        "\n",
        "Algo que puede ser útil antes de seguir es transformar todos los strings del array a lowercase (minúscula), lo cual ayuda con la unificación.\n"
      ]
    },
    {
      "cell_type": "code",
      "metadata": {
        "id": "bpmeyLUwAYFV",
        "colab": {
          "base_uri": "https://localhost:8080/"
        },
        "outputId": "0733bdc4-6be6-4fdb-ef52-d8a7bbb53dff"
      },
      "source": [
        "def a_minuscula(x):\n",
        "  if type(x)==str:\n",
        "    return x.lower()\n",
        "  else:\n",
        "    return x\n",
        "\n",
        "df_4 = df_3.applymap(a_minuscula)\n",
        "\n",
        "print(df_4)"
      ],
      "execution_count": null,
      "outputs": [
        {
          "output_type": "stream",
          "name": "stdout",
          "text": [
            "    Edad Altura   Peso Promedio        Sexo       LU    Observación\n",
            "0     25   1.80     83     7.79           h   125/89        ninguna\n",
            "1     21  1.89m     86      9.7           h    35 88        ninguna\n",
            "2     39   1.54     50      7.1           m   142-80   hipertension\n",
            "3     49   1.66     70     6.54       mujer   553/83        ninguna\n",
            "4     31   1.70     81     7.21           h   495-83  hiper tension\n",
            "5     33   1.74  93 kg      7.1         hom    25/78      sobrepeso\n",
            "6     29   1.81   82.5      6.9           h  445//81        ninguna\n",
            "7     19   1.82   86.3     8.43           h     5/84        ninguna\n",
            "8     20   1.76     75       10           m     1/81          gripe\n",
            "10    32   1.64     60     9.10           m   400-80        ninguna\n",
            "11    59   1.70     67     8.99  no binarie   100/89        ninguna\n",
            "12    34   1.81     97     7.46           h     1/89               \n",
            "13    49   1.78    432     7.41      hombre   500\\86   dolor cabeza\n",
            "14    51   1.77     75     9.10           h    25/85     hipertenso\n",
            "16    40   1.69     70     6.00        azul    35/89        ninguna\n",
            "17    41   1.80      8      9.2           h   099/89     no hay obs\n",
            "19    28   1.68     68     7.54           m   145/81        ninguna\n"
          ]
        }
      ]
    },
    {
      "cell_type": "markdown",
      "metadata": {
        "id": "3lYQFSDmAm0O"
      },
      "source": [
        "Ahora, simplemente tenemos que armar una función que reemplace los valores por uno representativo. Hay distintas formas, una es considerar explícitamente todas las posibilidades que vimos en value_count(), aunque esto puede ser mucho trabajo. Podemos inventar reglas que ayuden, por ejemplo, en este caso podríamos decir que si \"hiper\" está en el string, hay que reemplazar por \"hipertensión\", y sino, hacer lo mismo con \"dolor\" y \"cabeza\" para \"dolor de cabeza\" , y por último si no sucede ninguna de las dos cosas, reemplazar por \"ninguna\". Esto funciona para este caso, pero podría no servir si hubiese entradas en los que \"hiper\" aparece en otra palabra, por ejemplo, \"hipertiroidismo\"."
      ]
    },
    {
      "cell_type": "code",
      "metadata": {
        "id": "e25dL0aFBOzq",
        "colab": {
          "base_uri": "https://localhost:8080/"
        },
        "outputId": "36a04e4f-663f-47f4-bad6-345e99964dd3"
      },
      "source": [
        "def arregla_observacion(x):\n",
        "  if type(x)==str:\n",
        "    if 'iper' in x:\n",
        "      return \"hipertension\"\n",
        "    elif 'dolor' in x and 'cabeza' in x:\n",
        "      return \"dolor de cabeza\"\n",
        "    else:\n",
        "      return \"ninguna\"\n",
        "  else:\n",
        "    return x\n",
        "\n",
        "\n",
        "df_5 = df_4.applymap(arregla_observacion)\n",
        "print(df_5)"
      ],
      "execution_count": null,
      "outputs": [
        {
          "output_type": "stream",
          "name": "stdout",
          "text": [
            "    Edad   Altura     Peso Promedio     Sexo       LU      Observación\n",
            "0     25  ninguna  ninguna  ninguna  ninguna  ninguna          ninguna\n",
            "1     21  ninguna  ninguna  ninguna  ninguna  ninguna          ninguna\n",
            "2     39  ninguna  ninguna  ninguna  ninguna  ninguna     hipertension\n",
            "3     49  ninguna  ninguna  ninguna  ninguna  ninguna          ninguna\n",
            "4     31  ninguna  ninguna  ninguna  ninguna  ninguna     hipertension\n",
            "5     33  ninguna  ninguna  ninguna  ninguna  ninguna          ninguna\n",
            "6     29  ninguna  ninguna  ninguna  ninguna  ninguna          ninguna\n",
            "7     19  ninguna  ninguna  ninguna  ninguna  ninguna          ninguna\n",
            "8     20  ninguna  ninguna  ninguna  ninguna  ninguna          ninguna\n",
            "10    32  ninguna  ninguna  ninguna  ninguna  ninguna          ninguna\n",
            "11    59  ninguna  ninguna  ninguna  ninguna  ninguna          ninguna\n",
            "12    34  ninguna  ninguna  ninguna  ninguna  ninguna          ninguna\n",
            "13    49  ninguna  ninguna  ninguna  ninguna  ninguna  dolor de cabeza\n",
            "14    51  ninguna  ninguna  ninguna  ninguna  ninguna     hipertension\n",
            "16    40  ninguna  ninguna  ninguna  ninguna  ninguna          ninguna\n",
            "17    41  ninguna  ninguna  ninguna  ninguna  ninguna          ninguna\n",
            "19    28  ninguna  ninguna  ninguna  ninguna  ninguna          ninguna\n"
          ]
        }
      ]
    },
    {
      "cell_type": "markdown",
      "metadata": {
        "id": "lE3w7kRLChKT"
      },
      "source": [
        "Evidentemente hay un problema: en este dataframe todas las columnas salvo la primera son strings, y nosotros aplicamos la función a todo el dataframe, no a la columna \"observaciones\" nada más.\n",
        "\n",
        "Podemos hacerlo solo sobre la columna correspondiente usando el método .apply aplicado a la serie df_4['Observacion']"
      ]
    },
    {
      "cell_type": "code",
      "metadata": {
        "id": "H8S8YZnhC5Cd",
        "colab": {
          "base_uri": "https://localhost:8080/"
        },
        "outputId": "e3764f1b-5b26-4868-b22a-71f2bf7c8ef3"
      },
      "source": [
        "df_4['Observación'] = df_4['Observación'].apply(arregla_observacion)\n",
        "print(df_4)"
      ],
      "execution_count": null,
      "outputs": [
        {
          "output_type": "stream",
          "name": "stdout",
          "text": [
            "    Edad Altura   Peso Promedio        Sexo       LU      Observación\n",
            "0     25   1.80     83     7.79           h   125/89          ninguna\n",
            "1     21  1.89m     86      9.7           h    35 88          ninguna\n",
            "2     39   1.54     50      7.1           m   142-80     hipertension\n",
            "3     49   1.66     70     6.54       mujer   553/83          ninguna\n",
            "4     31   1.70     81     7.21           h   495-83     hipertension\n",
            "5     33   1.74  93 kg      7.1         hom    25/78          ninguna\n",
            "6     29   1.81   82.5      6.9           h  445//81          ninguna\n",
            "7     19   1.82   86.3     8.43           h     5/84          ninguna\n",
            "8     20   1.76     75       10           m     1/81          ninguna\n",
            "10    32   1.64     60     9.10           m   400-80          ninguna\n",
            "11    59   1.70     67     8.99  no binarie   100/89          ninguna\n",
            "12    34   1.81     97     7.46           h     1/89          ninguna\n",
            "13    49   1.78    432     7.41      hombre   500\\86  dolor de cabeza\n",
            "14    51   1.77     75     9.10           h    25/85     hipertension\n",
            "16    40   1.69     70     6.00        azul    35/89          ninguna\n",
            "17    41   1.80      8      9.2           h   099/89          ninguna\n",
            "19    28   1.68     68     7.54           m   145/81          ninguna\n"
          ]
        }
      ]
    },
    {
      "cell_type": "markdown",
      "metadata": {
        "id": "G9n1uWIvDSaz"
      },
      "source": [
        "Lo que hicimos recién nos sugiere que TODAS las columnas de este datraframe salvo 'Edad' tienen tipo string ('Promedio' en un momento anterior tuvo los strings 'nan').\n",
        "\n",
        "Esto es porque aparecen números mezclados con letras al principio o al final, típicamente por culpa de las personas que ingresan los datos.\n",
        "\n",
        "Además, vemos que en la columna de LU tenemos muchas formas posibles de escribir el símbolo entre número y año. Eso es otra cosa que tenemos que estandarizar.\n",
        "\n",
        "Finalmente, la columna 'Promedio' debería transformarse a enteros con coma flotante.\n",
        "\n",
        "Podemos armar funciones encargadas de hacer estas cosas y pasarlas con el método .apply a las columnas correspondientes."
      ]
    },
    {
      "cell_type": "code",
      "metadata": {
        "id": "Na1PaZOEDdc0",
        "colab": {
          "base_uri": "https://localhost:8080/"
        },
        "outputId": "9cc145ce-a1cf-4125-a2c2-fee8e10cbecc"
      },
      "source": [
        "def remueve_caracteres(x): # esta función remueve todos los caracteres, dejando únicamente números.\n",
        "  if type(x)==str:\n",
        "    return ''.join(c for c in x if c.isdigit() or c=='.') # list comprehension\n",
        "  else:\n",
        "    return x\n",
        "\n",
        "def arregla_LU(x): # esta función reemplaza las posibilidades por siempre el mismo símbolo\n",
        "  lista = ['\\\\\\\\','\\\\','-', ' ','//']\n",
        "  if type(x)==str:\n",
        "    for l in lista:\n",
        "      x=x.replace(l,'/')\n",
        "    return x\n",
        "  else:\n",
        "    return x\n",
        "\n",
        "\n",
        "df_4['Altura'] = df_4['Altura'].apply(remueve_caracteres)\n",
        "df_4['Peso'] = df_4['Peso'].apply(remueve_caracteres)\n",
        "df_4['LU'] = df_4['LU'].apply(arregla_LU)\n",
        "df_4['Promedio'] = df_4['Promedio'].apply(float)\n",
        "\n",
        "print(df_4)\n"
      ],
      "execution_count": null,
      "outputs": [
        {
          "output_type": "stream",
          "text": [
            "    Edad Altura  Peso  Promedio        Sexo      LU     Observación \n",
            "0     25   1.80    83      7.79           h  125/89          ninguna\n",
            "1     21   1.89    86      9.70           h   35/88          ninguna\n",
            "2     39   1.54    50      7.10           m  142/80     hipertension\n",
            "3     49   1.66    70      6.54       mujer  553/83          ninguna\n",
            "4     31   1.70    81      7.21           h  495/83     hipertension\n",
            "5     33   1.74    93      7.10         hom   25/78          ninguna\n",
            "6     29   1.81  82.5      6.90           h  445/81          ninguna\n",
            "7     19   1.82  86.3      8.43           h    5/84          ninguna\n",
            "8     20   1.76    75     10.00           m    1/81          ninguna\n",
            "10    32   1.64    60      9.10           m  400/80          ninguna\n",
            "11    59   1.70    67      8.99  no binarie  100/89          ninguna\n",
            "12    34   1.81    97      7.46           h    1/89          ninguna\n",
            "13    49   1.78   432      7.41      hombre  500/86  dolor de cabeza\n",
            "14    51   1.77    75      9.10           h   25/85     hipertension\n",
            "16    40   1.69    70      6.00        azul   35/89          ninguna\n",
            "17    41   1.80     8      9.20           h  099/89          ninguna\n",
            "19    28   1.68    68      7.54           m  145/81          ninguna\n"
          ],
          "name": "stdout"
        }
      ]
    },
    {
      "cell_type": "markdown",
      "metadata": {
        "id": "1IU-sFGNJBMb"
      },
      "source": [
        "La columna de sexo podemos reemplazarla fácilmente por h,m y nb, decidiendo en base a si \"h\" o \"m\" pertenecen al string.\n",
        "\n",
        "Pero si hacemos esto ciegamente corremos el riesgo de transformar \"Azul\" en \"No binarie\". Claramente \"Azul\" es un problema en el ingreso de los datos (posiblemente alguien se equivoco en el campo). Esta es la clase de cosas que descubrimos usando value_counts() y luego podemos descartar del análisis subsiguiente."
      ]
    },
    {
      "cell_type": "code",
      "metadata": {
        "id": "Ra2-RMRKJBpt",
        "colab": {
          "base_uri": "https://localhost:8080/"
        },
        "outputId": "1414fb4b-ae21-4e6a-e5c4-31c055ac60d8"
      },
      "source": [
        "print(df_4['Sexo'].value_counts())\n",
        "\n",
        "indice = df_4[df_4['Sexo']=='azul'].index # el indice donde esta la fila que dice \"azul\" en la columna \"Sexo\"\n",
        "df_5 = df_4.drop(indice)\n",
        "print(df_5)\n",
        "\n"
      ],
      "execution_count": null,
      "outputs": [
        {
          "output_type": "stream",
          "name": "stdout",
          "text": [
            "h             8\n",
            "m             4\n",
            "mujer         1\n",
            "hom           1\n",
            "no binarie    1\n",
            "hombre        1\n",
            "azul          1\n",
            "Name: Sexo, dtype: int64\n",
            "    Edad Altura   Peso Promedio        Sexo       LU      Observación\n",
            "0     25   1.80     83     7.79           h   125/89          ninguna\n",
            "1     21  1.89m     86      9.7           h    35 88          ninguna\n",
            "2     39   1.54     50      7.1           m   142-80     hipertension\n",
            "3     49   1.66     70     6.54       mujer   553/83          ninguna\n",
            "4     31   1.70     81     7.21           h   495-83     hipertension\n",
            "5     33   1.74  93 kg      7.1         hom    25/78          ninguna\n",
            "6     29   1.81   82.5      6.9           h  445//81          ninguna\n",
            "7     19   1.82   86.3     8.43           h     5/84          ninguna\n",
            "8     20   1.76     75       10           m     1/81          ninguna\n",
            "10    32   1.64     60     9.10           m   400-80          ninguna\n",
            "11    59   1.70     67     8.99  no binarie   100/89          ninguna\n",
            "12    34   1.81     97     7.46           h     1/89          ninguna\n",
            "13    49   1.78    432     7.41      hombre   500\\86  dolor de cabeza\n",
            "14    51   1.77     75     9.10           h    25/85     hipertension\n",
            "17    41   1.80      8      9.2           h   099/89          ninguna\n",
            "19    28   1.68     68     7.54           m   145/81          ninguna\n"
          ]
        }
      ]
    },
    {
      "cell_type": "markdown",
      "metadata": {
        "id": "J_Ck4WqEJfNV"
      },
      "source": [
        "Ahora sí, unificamos esta última columna, y ya tenemos el dataframe limpiado."
      ]
    },
    {
      "cell_type": "code",
      "metadata": {
        "id": "n8WKtqE7JfY1",
        "colab": {
          "base_uri": "https://localhost:8080/"
        },
        "outputId": "ca17f924-b9f9-4608-fbaa-00fb4efecd0e"
      },
      "source": [
        "def arregla_sexo(x): \n",
        "    if 'h' in x:\n",
        "      return 'h'\n",
        "    elif 'm' in x:\n",
        "      return 'm'\n",
        "    else:\n",
        "      return 'nb'\n",
        "\n",
        "df_5['Sexo'] = df_5['Sexo'].apply(arregla_sexo)\n",
        "\n",
        "print(df_5)\n"
      ],
      "execution_count": null,
      "outputs": [
        {
          "output_type": "stream",
          "name": "stdout",
          "text": [
            "    Edad Altura   Peso Promedio Sexo       LU      Observación\n",
            "0     25   1.80     83     7.79    h   125/89          ninguna\n",
            "1     21  1.89m     86      9.7    h    35 88          ninguna\n",
            "2     39   1.54     50      7.1    m   142-80     hipertension\n",
            "3     49   1.66     70     6.54    m   553/83          ninguna\n",
            "4     31   1.70     81     7.21    h   495-83     hipertension\n",
            "5     33   1.74  93 kg      7.1    h    25/78          ninguna\n",
            "6     29   1.81   82.5      6.9    h  445//81          ninguna\n",
            "7     19   1.82   86.3     8.43    h     5/84          ninguna\n",
            "8     20   1.76     75       10    m     1/81          ninguna\n",
            "10    32   1.64     60     9.10    m   400-80          ninguna\n",
            "11    59   1.70     67     8.99   nb   100/89          ninguna\n",
            "12    34   1.81     97     7.46    h     1/89          ninguna\n",
            "13    49   1.78    432     7.41    h   500\\86  dolor de cabeza\n",
            "14    51   1.77     75     9.10    h    25/85     hipertension\n",
            "17    41   1.80      8      9.2    h   099/89          ninguna\n",
            "19    28   1.68     68     7.54    m   145/81          ninguna\n"
          ]
        }
      ]
    },
    {
      "cell_type": "markdown",
      "metadata": {
        "id": "aBtY3ZAfLcnf"
      },
      "source": [
        "En el próximo notebook vamos a seguir trabajando sobre estos datos. Por lo tanto tenemos que aprender cómo exportar datos de Google Colab para luego volver a cargarlos.\n",
        "\n"
      ]
    },
    {
      "cell_type": "code",
      "metadata": {
        "id": "zNYg2O4GMTUR",
        "colab": {
          "base_uri": "https://localhost:8080/",
          "height": 232
        },
        "outputId": "ed292133-bcf9-43f1-9350-f86a067b389c"
      },
      "source": [
        "save_name = '/content/drive/My Drive/LaboDatos2022/dataframe_clase_3_limpio.csv' # acá uds. van a tener que poner un directorio suyo en drive, porque no tienen permisos de escribir en el directorio LaboDatos2021\n",
        "\n",
        "df_5.to_csv(save_name)\n",
        "\n"
      ],
      "execution_count": null,
      "outputs": [
        {
          "output_type": "error",
          "ename": "NameError",
          "evalue": "ignored",
          "traceback": [
            "\u001b[0;31m---------------------------------------------------------------------------\u001b[0m",
            "\u001b[0;31mNameError\u001b[0m                                 Traceback (most recent call last)",
            "\u001b[0;32m<ipython-input-15-fe2e8720882b>\u001b[0m in \u001b[0;36m<module>\u001b[0;34m()\u001b[0m\n\u001b[1;32m      1\u001b[0m \u001b[0msave_name\u001b[0m \u001b[0;34m=\u001b[0m \u001b[0;34m'/content/drive/My Drive/LaboDatos2022/dataframe_clase_3_limpio.csv'\u001b[0m \u001b[0;31m# acá uds. van a tener que poner un directorio suyo en drive, porque no tienen permisos de escribir en el directorio LaboDatos2021\u001b[0m\u001b[0;34m\u001b[0m\u001b[0;34m\u001b[0m\u001b[0m\n\u001b[1;32m      2\u001b[0m \u001b[0;34m\u001b[0m\u001b[0m\n\u001b[0;32m----> 3\u001b[0;31m \u001b[0mdf_5\u001b[0m\u001b[0;34m.\u001b[0m\u001b[0mto_csv\u001b[0m\u001b[0;34m(\u001b[0m\u001b[0msave_name\u001b[0m\u001b[0;34m)\u001b[0m\u001b[0;34m\u001b[0m\u001b[0;34m\u001b[0m\u001b[0m\n\u001b[0m\u001b[1;32m      4\u001b[0m \u001b[0;34m\u001b[0m\u001b[0m\n",
            "\u001b[0;31mNameError\u001b[0m: name 'df_5' is not defined"
          ]
        }
      ]
    }
  ]
}